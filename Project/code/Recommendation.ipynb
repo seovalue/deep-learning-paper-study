{
  "nbformat": 4,
  "nbformat_minor": 0,
  "metadata": {
    "colab": {
      "name": "Recommendation.ipynb",
      "provenance": [],
      "collapsed_sections": []
    },
    "kernelspec": {
      "name": "python3",
      "display_name": "Python 3"
    }
  },
  "cells": [
    {
      "cell_type": "code",
      "metadata": {
        "id": "0HYiv21ykMz1",
        "outputId": "ff7f2f79-50b3-4c6f-e988-79ce3649980a",
        "colab": {
          "base_uri": "https://localhost:8080/"
        }
      },
      "source": [
        "from google.colab import drive \n",
        "drive.mount('/content/gdrive/')"
      ],
      "execution_count": null,
      "outputs": [
        {
          "output_type": "stream",
          "text": [
            "Mounted at /content/gdrive/\n"
          ],
          "name": "stdout"
        }
      ]
    },
    {
      "cell_type": "code",
      "metadata": {
        "id": "mYUav62dl0_S",
        "outputId": "487863ce-24e9-4df9-bdb0-53d5f802dffd",
        "colab": {
          "base_uri": "https://localhost:8080/"
        }
      },
      "source": [
        "!apt-get update\n",
        "!apt-get install g++ openjdk-8-jdk \n",
        "!pip3 install konlpy\n",
        "import warnings \n",
        "warnings.filterwarnings('ignore')"
      ],
      "execution_count": null,
      "outputs": [
        {
          "output_type": "stream",
          "text": [
            "Get:1 https://cloud.r-project.org/bin/linux/ubuntu bionic-cran40/ InRelease [3,626 B]\n",
            "Ign:2 https://developer.download.nvidia.com/compute/cuda/repos/ubuntu1804/x86_64  InRelease\n",
            "Ign:3 https://developer.download.nvidia.com/compute/machine-learning/repos/ubuntu1804/x86_64  InRelease\n",
            "Hit:4 https://developer.download.nvidia.com/compute/cuda/repos/ubuntu1804/x86_64  Release\n",
            "Hit:5 https://developer.download.nvidia.com/compute/machine-learning/repos/ubuntu1804/x86_64  Release\n",
            "Get:6 http://ppa.launchpad.net/c2d4u.team/c2d4u4.0+/ubuntu bionic InRelease [15.9 kB]\n",
            "Hit:9 http://archive.ubuntu.com/ubuntu bionic InRelease\n",
            "Get:10 http://security.ubuntu.com/ubuntu bionic-security InRelease [88.7 kB]\n",
            "Get:11 http://archive.ubuntu.com/ubuntu bionic-updates InRelease [88.7 kB]\n",
            "Hit:12 http://ppa.launchpad.net/graphics-drivers/ppa/ubuntu bionic InRelease\n",
            "Get:13 http://ppa.launchpad.net/c2d4u.team/c2d4u4.0+/ubuntu bionic/main Sources [1,675 kB]\n",
            "Get:14 http://archive.ubuntu.com/ubuntu bionic-backports InRelease [74.6 kB]\n",
            "Get:15 http://security.ubuntu.com/ubuntu bionic-security/main amd64 Packages [1,693 kB]\n",
            "Get:16 http://archive.ubuntu.com/ubuntu bionic-updates/universe amd64 Packages [2,104 kB]\n",
            "Get:17 http://archive.ubuntu.com/ubuntu bionic-updates/main amd64 Packages [2,110 kB]\n",
            "Get:18 http://security.ubuntu.com/ubuntu bionic-security/universe amd64 Packages [1,340 kB]\n",
            "Get:19 http://ppa.launchpad.net/c2d4u.team/c2d4u4.0+/ubuntu bionic/main amd64 Packages [857 kB]\n",
            "Fetched 10.1 MB in 5s (1,898 kB/s)\n",
            "Reading package lists... Done\n",
            "Reading package lists... Done\n",
            "Building dependency tree       \n",
            "Reading state information... Done\n",
            "g++ is already the newest version (4:7.4.0-1ubuntu2.3).\n",
            "g++ set to manually installed.\n",
            "The following additional packages will be installed:\n",
            "  fonts-dejavu-core fonts-dejavu-extra libatk-wrapper-java\n",
            "  libatk-wrapper-java-jni libgail-common libgail18 libgtk2.0-0 libgtk2.0-bin\n",
            "  libgtk2.0-common libxxf86dga1 openjdk-8-jdk-headless openjdk-8-jre\n",
            "  openjdk-8-jre-headless x11-utils\n",
            "Suggested packages:\n",
            "  gvfs openjdk-8-demo openjdk-8-source visualvm icedtea-8-plugin libnss-mdns\n",
            "  fonts-ipafont-gothic fonts-ipafont-mincho fonts-wqy-microhei\n",
            "  fonts-wqy-zenhei fonts-indic mesa-utils\n",
            "The following NEW packages will be installed:\n",
            "  fonts-dejavu-core fonts-dejavu-extra libatk-wrapper-java\n",
            "  libatk-wrapper-java-jni libgail-common libgail18 libgtk2.0-0 libgtk2.0-bin\n",
            "  libgtk2.0-common libxxf86dga1 openjdk-8-jdk openjdk-8-jdk-headless\n",
            "  openjdk-8-jre openjdk-8-jre-headless x11-utils\n",
            "0 upgraded, 15 newly installed, 0 to remove and 8 not upgraded.\n",
            "Need to get 42.8 MB of archives.\n",
            "After this operation, 160 MB of additional disk space will be used.\n",
            "Get:1 http://archive.ubuntu.com/ubuntu bionic/main amd64 libxxf86dga1 amd64 2:1.1.4-1 [13.7 kB]\n",
            "Get:2 http://archive.ubuntu.com/ubuntu bionic/main amd64 fonts-dejavu-core all 2.37-1 [1,041 kB]\n",
            "Get:3 http://archive.ubuntu.com/ubuntu bionic/main amd64 fonts-dejavu-extra all 2.37-1 [1,953 kB]\n",
            "Get:4 http://archive.ubuntu.com/ubuntu bionic/main amd64 x11-utils amd64 7.7+3build1 [196 kB]\n",
            "Get:5 http://archive.ubuntu.com/ubuntu bionic/main amd64 libatk-wrapper-java all 0.33.3-20ubuntu0.1 [34.7 kB]\n",
            "Get:6 http://archive.ubuntu.com/ubuntu bionic/main amd64 libatk-wrapper-java-jni amd64 0.33.3-20ubuntu0.1 [28.3 kB]\n",
            "Get:7 http://archive.ubuntu.com/ubuntu bionic/main amd64 libgtk2.0-common all 2.24.32-1ubuntu1 [125 kB]\n",
            "Get:8 http://archive.ubuntu.com/ubuntu bionic/main amd64 libgtk2.0-0 amd64 2.24.32-1ubuntu1 [1,769 kB]\n",
            "Get:9 http://archive.ubuntu.com/ubuntu bionic/main amd64 libgail18 amd64 2.24.32-1ubuntu1 [14.2 kB]\n",
            "Get:10 http://archive.ubuntu.com/ubuntu bionic/main amd64 libgail-common amd64 2.24.32-1ubuntu1 [112 kB]\n",
            "Get:11 http://archive.ubuntu.com/ubuntu bionic/main amd64 libgtk2.0-bin amd64 2.24.32-1ubuntu1 [7,536 B]\n",
            "Get:12 http://archive.ubuntu.com/ubuntu bionic-updates/universe amd64 openjdk-8-jre-headless amd64 8u265-b01-0ubuntu2~18.04 [27.5 MB]\n",
            "Get:13 http://archive.ubuntu.com/ubuntu bionic-updates/universe amd64 openjdk-8-jre amd64 8u265-b01-0ubuntu2~18.04 [69.6 kB]\n",
            "Get:14 http://archive.ubuntu.com/ubuntu bionic-updates/universe amd64 openjdk-8-jdk-headless amd64 8u265-b01-0ubuntu2~18.04 [8,262 kB]\n",
            "Get:15 http://archive.ubuntu.com/ubuntu bionic-updates/universe amd64 openjdk-8-jdk amd64 8u265-b01-0ubuntu2~18.04 [1,610 kB]\n",
            "Fetched 42.8 MB in 5s (7,869 kB/s)\n",
            "Selecting previously unselected package libxxf86dga1:amd64.\n",
            "(Reading database ... 144617 files and directories currently installed.)\n",
            "Preparing to unpack .../00-libxxf86dga1_2%3a1.1.4-1_amd64.deb ...\n",
            "Unpacking libxxf86dga1:amd64 (2:1.1.4-1) ...\n",
            "Selecting previously unselected package fonts-dejavu-core.\n",
            "Preparing to unpack .../01-fonts-dejavu-core_2.37-1_all.deb ...\n",
            "Unpacking fonts-dejavu-core (2.37-1) ...\n",
            "Selecting previously unselected package fonts-dejavu-extra.\n",
            "Preparing to unpack .../02-fonts-dejavu-extra_2.37-1_all.deb ...\n",
            "Unpacking fonts-dejavu-extra (2.37-1) ...\n",
            "Selecting previously unselected package x11-utils.\n",
            "Preparing to unpack .../03-x11-utils_7.7+3build1_amd64.deb ...\n",
            "Unpacking x11-utils (7.7+3build1) ...\n",
            "Selecting previously unselected package libatk-wrapper-java.\n",
            "Preparing to unpack .../04-libatk-wrapper-java_0.33.3-20ubuntu0.1_all.deb ...\n",
            "Unpacking libatk-wrapper-java (0.33.3-20ubuntu0.1) ...\n",
            "Selecting previously unselected package libatk-wrapper-java-jni:amd64.\n",
            "Preparing to unpack .../05-libatk-wrapper-java-jni_0.33.3-20ubuntu0.1_amd64.deb ...\n",
            "Unpacking libatk-wrapper-java-jni:amd64 (0.33.3-20ubuntu0.1) ...\n",
            "Selecting previously unselected package libgtk2.0-common.\n",
            "Preparing to unpack .../06-libgtk2.0-common_2.24.32-1ubuntu1_all.deb ...\n",
            "Unpacking libgtk2.0-common (2.24.32-1ubuntu1) ...\n",
            "Selecting previously unselected package libgtk2.0-0:amd64.\n",
            "Preparing to unpack .../07-libgtk2.0-0_2.24.32-1ubuntu1_amd64.deb ...\n",
            "Unpacking libgtk2.0-0:amd64 (2.24.32-1ubuntu1) ...\n",
            "Selecting previously unselected package libgail18:amd64.\n",
            "Preparing to unpack .../08-libgail18_2.24.32-1ubuntu1_amd64.deb ...\n",
            "Unpacking libgail18:amd64 (2.24.32-1ubuntu1) ...\n",
            "Selecting previously unselected package libgail-common:amd64.\n",
            "Preparing to unpack .../09-libgail-common_2.24.32-1ubuntu1_amd64.deb ...\n",
            "Unpacking libgail-common:amd64 (2.24.32-1ubuntu1) ...\n",
            "Selecting previously unselected package libgtk2.0-bin.\n",
            "Preparing to unpack .../10-libgtk2.0-bin_2.24.32-1ubuntu1_amd64.deb ...\n",
            "Unpacking libgtk2.0-bin (2.24.32-1ubuntu1) ...\n",
            "Selecting previously unselected package openjdk-8-jre-headless:amd64.\n",
            "Preparing to unpack .../11-openjdk-8-jre-headless_8u265-b01-0ubuntu2~18.04_amd64.deb ...\n",
            "Unpacking openjdk-8-jre-headless:amd64 (8u265-b01-0ubuntu2~18.04) ...\n",
            "Selecting previously unselected package openjdk-8-jre:amd64.\n",
            "Preparing to unpack .../12-openjdk-8-jre_8u265-b01-0ubuntu2~18.04_amd64.deb ...\n",
            "Unpacking openjdk-8-jre:amd64 (8u265-b01-0ubuntu2~18.04) ...\n",
            "Selecting previously unselected package openjdk-8-jdk-headless:amd64.\n",
            "Preparing to unpack .../13-openjdk-8-jdk-headless_8u265-b01-0ubuntu2~18.04_amd64.deb ...\n",
            "Unpacking openjdk-8-jdk-headless:amd64 (8u265-b01-0ubuntu2~18.04) ...\n",
            "Selecting previously unselected package openjdk-8-jdk:amd64.\n",
            "Preparing to unpack .../14-openjdk-8-jdk_8u265-b01-0ubuntu2~18.04_amd64.deb ...\n",
            "Unpacking openjdk-8-jdk:amd64 (8u265-b01-0ubuntu2~18.04) ...\n",
            "Setting up libgtk2.0-common (2.24.32-1ubuntu1) ...\n",
            "Setting up fonts-dejavu-core (2.37-1) ...\n",
            "Setting up libxxf86dga1:amd64 (2:1.1.4-1) ...\n",
            "Setting up fonts-dejavu-extra (2.37-1) ...\n",
            "Setting up openjdk-8-jre-headless:amd64 (8u265-b01-0ubuntu2~18.04) ...\n",
            "update-alternatives: using /usr/lib/jvm/java-8-openjdk-amd64/jre/bin/orbd to provide /usr/bin/orbd (orbd) in auto mode\n",
            "update-alternatives: using /usr/lib/jvm/java-8-openjdk-amd64/jre/bin/servertool to provide /usr/bin/servertool (servertool) in auto mode\n",
            "update-alternatives: using /usr/lib/jvm/java-8-openjdk-amd64/jre/bin/tnameserv to provide /usr/bin/tnameserv (tnameserv) in auto mode\n",
            "Setting up libgtk2.0-0:amd64 (2.24.32-1ubuntu1) ...\n",
            "Setting up libgail18:amd64 (2.24.32-1ubuntu1) ...\n",
            "Setting up openjdk-8-jdk-headless:amd64 (8u265-b01-0ubuntu2~18.04) ...\n",
            "update-alternatives: using /usr/lib/jvm/java-8-openjdk-amd64/bin/idlj to provide /usr/bin/idlj (idlj) in auto mode\n",
            "update-alternatives: using /usr/lib/jvm/java-8-openjdk-amd64/bin/wsimport to provide /usr/bin/wsimport (wsimport) in auto mode\n",
            "update-alternatives: using /usr/lib/jvm/java-8-openjdk-amd64/bin/jsadebugd to provide /usr/bin/jsadebugd (jsadebugd) in auto mode\n",
            "update-alternatives: using /usr/lib/jvm/java-8-openjdk-amd64/bin/native2ascii to provide /usr/bin/native2ascii (native2ascii) in auto mode\n",
            "update-alternatives: using /usr/lib/jvm/java-8-openjdk-amd64/bin/javah to provide /usr/bin/javah (javah) in auto mode\n",
            "update-alternatives: using /usr/lib/jvm/java-8-openjdk-amd64/bin/clhsdb to provide /usr/bin/clhsdb (clhsdb) in auto mode\n",
            "update-alternatives: using /usr/lib/jvm/java-8-openjdk-amd64/bin/jhat to provide /usr/bin/jhat (jhat) in auto mode\n",
            "update-alternatives: using /usr/lib/jvm/java-8-openjdk-amd64/bin/extcheck to provide /usr/bin/extcheck (extcheck) in auto mode\n",
            "update-alternatives: using /usr/lib/jvm/java-8-openjdk-amd64/bin/hsdb to provide /usr/bin/hsdb (hsdb) in auto mode\n",
            "update-alternatives: using /usr/lib/jvm/java-8-openjdk-amd64/bin/schemagen to provide /usr/bin/schemagen (schemagen) in auto mode\n",
            "update-alternatives: using /usr/lib/jvm/java-8-openjdk-amd64/bin/xjc to provide /usr/bin/xjc (xjc) in auto mode\n",
            "update-alternatives: using /usr/lib/jvm/java-8-openjdk-amd64/bin/wsgen to provide /usr/bin/wsgen (wsgen) in auto mode\n",
            "Setting up x11-utils (7.7+3build1) ...\n",
            "Setting up libgail-common:amd64 (2.24.32-1ubuntu1) ...\n",
            "Setting up libatk-wrapper-java (0.33.3-20ubuntu0.1) ...\n",
            "Setting up libgtk2.0-bin (2.24.32-1ubuntu1) ...\n",
            "Setting up libatk-wrapper-java-jni:amd64 (0.33.3-20ubuntu0.1) ...\n",
            "Setting up openjdk-8-jre:amd64 (8u265-b01-0ubuntu2~18.04) ...\n",
            "update-alternatives: using /usr/lib/jvm/java-8-openjdk-amd64/jre/bin/policytool to provide /usr/bin/policytool (policytool) in auto mode\n",
            "Setting up openjdk-8-jdk:amd64 (8u265-b01-0ubuntu2~18.04) ...\n",
            "update-alternatives: using /usr/lib/jvm/java-8-openjdk-amd64/bin/appletviewer to provide /usr/bin/appletviewer (appletviewer) in auto mode\n",
            "update-alternatives: using /usr/lib/jvm/java-8-openjdk-amd64/bin/jconsole to provide /usr/bin/jconsole (jconsole) in auto mode\n",
            "Processing triggers for man-db (2.8.3-2ubuntu0.1) ...\n",
            "Processing triggers for hicolor-icon-theme (0.17-2) ...\n",
            "Processing triggers for fontconfig (2.12.6-0ubuntu2) ...\n",
            "Processing triggers for mime-support (3.60ubuntu1) ...\n",
            "Processing triggers for libc-bin (2.27-3ubuntu1.2) ...\n",
            "/sbin/ldconfig.real: /usr/local/lib/python3.6/dist-packages/ideep4py/lib/libmkldnn.so.0 is not a symbolic link\n",
            "\n",
            "Collecting konlpy\n",
            "\u001b[?25l  Downloading https://files.pythonhosted.org/packages/85/0e/f385566fec837c0b83f216b2da65db9997b35dd675e107752005b7d392b1/konlpy-0.5.2-py2.py3-none-any.whl (19.4MB)\n",
            "\u001b[K     |████████████████████████████████| 19.4MB 1.3MB/s \n",
            "\u001b[?25hCollecting tweepy>=3.7.0\n",
            "  Downloading https://files.pythonhosted.org/packages/bb/7c/99d51f80f3b77b107ebae2634108717362c059a41384a1810d13e2429a81/tweepy-3.9.0-py2.py3-none-any.whl\n",
            "Requirement already satisfied: numpy>=1.6 in /usr/local/lib/python3.6/dist-packages (from konlpy) (1.18.5)\n",
            "Requirement already satisfied: lxml>=4.1.0 in /usr/local/lib/python3.6/dist-packages (from konlpy) (4.2.6)\n",
            "Collecting JPype1>=0.7.0\n",
            "\u001b[?25l  Downloading https://files.pythonhosted.org/packages/8b/f7/a368401e630f0e390dd0e62c39fb928e5b23741b53c2360ee7d376660927/JPype1-1.0.2-cp36-cp36m-manylinux2010_x86_64.whl (3.8MB)\n",
            "\u001b[K     |████████████████████████████████| 3.8MB 44.6MB/s \n",
            "\u001b[?25hCollecting colorama\n",
            "  Downloading https://files.pythonhosted.org/packages/c9/dc/45cdef1b4d119eb96316b3117e6d5708a08029992b2fee2c143c7a0a5cc5/colorama-0.4.3-py2.py3-none-any.whl\n",
            "Collecting beautifulsoup4==4.6.0\n",
            "\u001b[?25l  Downloading https://files.pythonhosted.org/packages/9e/d4/10f46e5cfac773e22707237bfcd51bbffeaf0a576b0a847ec7ab15bd7ace/beautifulsoup4-4.6.0-py3-none-any.whl (86kB)\n",
            "\u001b[K     |████████████████████████████████| 92kB 10.8MB/s \n",
            "\u001b[?25hRequirement already satisfied: six>=1.10.0 in /usr/local/lib/python3.6/dist-packages (from tweepy>=3.7.0->konlpy) (1.15.0)\n",
            "Requirement already satisfied: requests-oauthlib>=0.7.0 in /usr/local/lib/python3.6/dist-packages (from tweepy>=3.7.0->konlpy) (1.3.0)\n",
            "Requirement already satisfied: requests[socks]>=2.11.1 in /usr/local/lib/python3.6/dist-packages (from tweepy>=3.7.0->konlpy) (2.23.0)\n",
            "Requirement already satisfied: typing-extensions; python_version < \"3.8\" in /usr/local/lib/python3.6/dist-packages (from JPype1>=0.7.0->konlpy) (3.7.4.3)\n",
            "Requirement already satisfied: oauthlib>=3.0.0 in /usr/local/lib/python3.6/dist-packages (from requests-oauthlib>=0.7.0->tweepy>=3.7.0->konlpy) (3.1.0)\n",
            "Requirement already satisfied: urllib3!=1.25.0,!=1.25.1,<1.26,>=1.21.1 in /usr/local/lib/python3.6/dist-packages (from requests[socks]>=2.11.1->tweepy>=3.7.0->konlpy) (1.24.3)\n",
            "Requirement already satisfied: chardet<4,>=3.0.2 in /usr/local/lib/python3.6/dist-packages (from requests[socks]>=2.11.1->tweepy>=3.7.0->konlpy) (3.0.4)\n",
            "Requirement already satisfied: certifi>=2017.4.17 in /usr/local/lib/python3.6/dist-packages (from requests[socks]>=2.11.1->tweepy>=3.7.0->konlpy) (2020.6.20)\n",
            "Requirement already satisfied: idna<3,>=2.5 in /usr/local/lib/python3.6/dist-packages (from requests[socks]>=2.11.1->tweepy>=3.7.0->konlpy) (2.10)\n",
            "Requirement already satisfied: PySocks!=1.5.7,>=1.5.6; extra == \"socks\" in /usr/local/lib/python3.6/dist-packages (from requests[socks]>=2.11.1->tweepy>=3.7.0->konlpy) (1.7.1)\n",
            "Installing collected packages: tweepy, JPype1, colorama, beautifulsoup4, konlpy\n",
            "  Found existing installation: tweepy 3.6.0\n",
            "    Uninstalling tweepy-3.6.0:\n",
            "      Successfully uninstalled tweepy-3.6.0\n",
            "  Found existing installation: beautifulsoup4 4.6.3\n",
            "    Uninstalling beautifulsoup4-4.6.3:\n",
            "      Successfully uninstalled beautifulsoup4-4.6.3\n",
            "Successfully installed JPype1-1.0.2 beautifulsoup4-4.6.0 colorama-0.4.3 konlpy-0.5.2 tweepy-3.9.0\n"
          ],
          "name": "stdout"
        }
      ]
    },
    {
      "cell_type": "code",
      "metadata": {
        "id": "g_QXwEEkkfgD"
      },
      "source": [
        "from sklearn.feature_extraction.text import TfidfVectorizer\n",
        "from sklearn.metrics.pairwise import cosine_similarity\n",
        "import matplotlib.pyplot as plt\n",
        "plt.rc('font', family='Malgun Gothic')\n",
        "import seaborn as sns\n",
        "import numpy as np\n",
        "import pandas as pd\n",
        "import re\n",
        "from gensim.models.word2vec import Word2Vec\n",
        "from konlpy.tag import Kkma\n",
        "kkma = Kkma()"
      ],
      "execution_count": null,
      "outputs": []
    },
    {
      "cell_type": "code",
      "metadata": {
        "id": "-Ka_o5oumGKc",
        "outputId": "99daf1e4-ac08-4d88-d3ec-54aeb2987c0f",
        "colab": {
          "base_uri": "https://localhost:8080/",
          "height": 280
        }
      },
      "source": [
        "movie = pd.read_csv('/content/gdrive/My Drive/data/movies.csv')\n",
        "movie.drop(['Unnamed: 0'], axis = 1, inplace=True)\n",
        "movie.head(5)"
      ],
      "execution_count": null,
      "outputs": [
        {
          "output_type": "execute_result",
          "data": {
            "text/html": [
              "<div>\n",
              "<style scoped>\n",
              "    .dataframe tbody tr th:only-of-type {\n",
              "        vertical-align: middle;\n",
              "    }\n",
              "\n",
              "    .dataframe tbody tr th {\n",
              "        vertical-align: top;\n",
              "    }\n",
              "\n",
              "    .dataframe thead th {\n",
              "        text-align: right;\n",
              "    }\n",
              "</style>\n",
              "<table border=\"1\" class=\"dataframe\">\n",
              "  <thead>\n",
              "    <tr style=\"text-align: right;\">\n",
              "      <th></th>\n",
              "      <th>title</th>\n",
              "      <th>genre</th>\n",
              "      <th>vote</th>\n",
              "      <th>vote_count</th>\n",
              "      <th>director</th>\n",
              "      <th>cast</th>\n",
              "      <th>summary</th>\n",
              "      <th>imagelink</th>\n",
              "    </tr>\n",
              "  </thead>\n",
              "  <tbody>\n",
              "    <tr>\n",
              "      <th>0</th>\n",
              "      <td>포드 V 페라리</td>\n",
              "      <td>액션</td>\n",
              "      <td>관람객 평점 9.31점</td>\n",
              "      <td>1,118</td>\n",
              "      <td>제임스 맨골드</td>\n",
              "      <td>['맷 데이먼', '크리스찬 베일']</td>\n",
              "      <td>자존심을 건 대결의 시작!1960년대, 매출 감소에 빠진 ‘포드’는 판매 활로를 찾...</td>\n",
              "      <td>https://movie-phinf.pstatic.net/20191204_91/15...</td>\n",
              "    </tr>\n",
              "    <tr>\n",
              "      <th>1</th>\n",
              "      <td>감쪽같은 그녀</td>\n",
              "      <td>드라마</td>\n",
              "      <td>관람객 평점 8.83점</td>\n",
              "      <td>208</td>\n",
              "      <td>허인무</td>\n",
              "      <td>['나문희', '김수안']</td>\n",
              "      <td>“초면에 실례하겠습니다~”\\n 72살 나 홀로 라이프를 즐기는 ‘말순’ 할매의 인생...</td>\n",
              "      <td>https://movie-phinf.pstatic.net/20191204_6/157...</td>\n",
              "    </tr>\n",
              "    <tr>\n",
              "      <th>2</th>\n",
              "      <td>백두산</td>\n",
              "      <td>드라마</td>\n",
              "      <td>관람객 평점 7.47점</td>\n",
              "      <td>2,828</td>\n",
              "      <td>이해준</td>\n",
              "      <td>['이병헌', '하정우', '마동석']</td>\n",
              "      <td>대한민국 관측 역사상 최대 규모의 백두산 폭발 발생.\\n 갑작스러운 재난에 한반도는...</td>\n",
              "      <td>https://movie-phinf.pstatic.net/20191219_263/1...</td>\n",
              "    </tr>\n",
              "    <tr>\n",
              "      <th>3</th>\n",
              "      <td>시동</td>\n",
              "      <td>드라마</td>\n",
              "      <td>관람객 평점 8.68점</td>\n",
              "      <td>1,780</td>\n",
              "      <td>최정열</td>\n",
              "      <td>['마동석', '박정민', '정해인']</td>\n",
              "      <td>학교도 싫고 집도 싫고 공부는 더더욱 싫다며\\n '엄마'(염정아)에게 1일 1강스파...</td>\n",
              "      <td>https://movie-phinf.pstatic.net/20200117_56/15...</td>\n",
              "    </tr>\n",
              "    <tr>\n",
              "      <th>4</th>\n",
              "      <td>블랙머니</td>\n",
              "      <td>범죄</td>\n",
              "      <td>관람객 평점 8.75점</td>\n",
              "      <td>862</td>\n",
              "      <td>정지영</td>\n",
              "      <td>['조진웅', '이하늬']</td>\n",
              "      <td>고발은 의무! 수사는 직진!\\n할말은 하고 깔 건 깐다!일명 서울지검 ‘막프로’! ...</td>\n",
              "      <td>https://movie-phinf.pstatic.net/20191113_203/1...</td>\n",
              "    </tr>\n",
              "  </tbody>\n",
              "</table>\n",
              "</div>"
            ],
            "text/plain": [
              "      title  ...                                          imagelink\n",
              "0  포드 V 페라리  ...  https://movie-phinf.pstatic.net/20191204_91/15...\n",
              "1   감쪽같은 그녀  ...  https://movie-phinf.pstatic.net/20191204_6/157...\n",
              "2       백두산  ...  https://movie-phinf.pstatic.net/20191219_263/1...\n",
              "3        시동  ...  https://movie-phinf.pstatic.net/20200117_56/15...\n",
              "4      블랙머니  ...  https://movie-phinf.pstatic.net/20191113_203/1...\n",
              "\n",
              "[5 rows x 8 columns]"
            ]
          },
          "metadata": {
            "tags": []
          },
          "execution_count": 4
        }
      ]
    },
    {
      "cell_type": "markdown",
      "metadata": {
        "id": "j81QwXJFobxL"
      },
      "source": [
        "결측값 확인"
      ]
    },
    {
      "cell_type": "code",
      "metadata": {
        "id": "bj-6dmrJoI-B",
        "outputId": "8f58d09f-4436-4dbb-e557-a49177e61c22",
        "colab": {
          "base_uri": "https://localhost:8080/"
        }
      },
      "source": [
        "movie.isnull().sum()"
      ],
      "execution_count": null,
      "outputs": [
        {
          "output_type": "execute_result",
          "data": {
            "text/plain": [
              "title          0\n",
              "genre          0\n",
              "vote          77\n",
              "vote_count     0\n",
              "director       0\n",
              "cast           0\n",
              "summary        0\n",
              "imagelink      0\n",
              "dtype: int64"
            ]
          },
          "metadata": {
            "tags": []
          },
          "execution_count": 5
        }
      ]
    },
    {
      "cell_type": "markdown",
      "metadata": {
        "id": "THhxpIvpoybS"
      },
      "source": [
        "평점이 null인 행만 추출"
      ]
    },
    {
      "cell_type": "code",
      "metadata": {
        "id": "_N2IcIzRod6V",
        "outputId": "6b457e4d-1f56-4cd0-9798-89edfa684d45",
        "colab": {
          "base_uri": "https://localhost:8080/",
          "height": 280
        }
      },
      "source": [
        "movie[movie['vote'].isnull()][:5]"
      ],
      "execution_count": null,
      "outputs": [
        {
          "output_type": "execute_result",
          "data": {
            "text/html": [
              "<div>\n",
              "<style scoped>\n",
              "    .dataframe tbody tr th:only-of-type {\n",
              "        vertical-align: middle;\n",
              "    }\n",
              "\n",
              "    .dataframe tbody tr th {\n",
              "        vertical-align: top;\n",
              "    }\n",
              "\n",
              "    .dataframe thead th {\n",
              "        text-align: right;\n",
              "    }\n",
              "</style>\n",
              "<table border=\"1\" class=\"dataframe\">\n",
              "  <thead>\n",
              "    <tr style=\"text-align: right;\">\n",
              "      <th></th>\n",
              "      <th>title</th>\n",
              "      <th>genre</th>\n",
              "      <th>vote</th>\n",
              "      <th>vote_count</th>\n",
              "      <th>director</th>\n",
              "      <th>cast</th>\n",
              "      <th>summary</th>\n",
              "      <th>imagelink</th>\n",
              "    </tr>\n",
              "  </thead>\n",
              "  <tbody>\n",
              "    <tr>\n",
              "      <th>49</th>\n",
              "      <td>이터널스</td>\n",
              "      <td>액션</td>\n",
              "      <td>NaN</td>\n",
              "      <td>0</td>\n",
              "      <td>클로이 자오</td>\n",
              "      <td>['안젤리나 졸리', '마동석', '리차드 매든']</td>\n",
              "      <td>잭 커비의 코믹북을 원작으로, 수백만 년 전 인류를 실험하기 위해 지구로 온 셀레스...</td>\n",
              "      <td>https://movie-phinf.pstatic.net/20190813_248/1...</td>\n",
              "    </tr>\n",
              "    <tr>\n",
              "      <th>63</th>\n",
              "      <td>미친사랑</td>\n",
              "      <td>드라마</td>\n",
              "      <td>NaN</td>\n",
              "      <td>0</td>\n",
              "      <td>문시현</td>\n",
              "      <td>['공형진', '이시원', '송재림']</td>\n",
              "      <td>과거 북파 공작원으로 활동했던 남자(두식)는 고향(남한)으로도 돌아가지 못한 채 수...</td>\n",
              "      <td>https://movie-phinf.pstatic.net/20190530_108/1...</td>\n",
              "    </tr>\n",
              "    <tr>\n",
              "      <th>67</th>\n",
              "      <td>아이언맨</td>\n",
              "      <td>SF</td>\n",
              "      <td>NaN</td>\n",
              "      <td>0</td>\n",
              "      <td>존 파브로</td>\n",
              "      <td>['로버트 다우니 주니어', '테렌스 하워드', '제프 브리지스']</td>\n",
              "      <td>하이테크 슈퍼 히어로의 탄생 | 이제 업그레이드는 끝났다천재적인 두뇌와 재능으로 세...</td>\n",
              "      <td>https://movie-phinf.pstatic.net/20111222_37/13...</td>\n",
              "    </tr>\n",
              "    <tr>\n",
              "      <th>70</th>\n",
              "      <td>헬보이 2: 골든 아미</td>\n",
              "      <td>SF</td>\n",
              "      <td>NaN</td>\n",
              "      <td>0</td>\n",
              "      <td>길예르모 델 토로</td>\n",
              "      <td>['론 펄먼', '셀마 블레어', '더그 존스']</td>\n",
              "      <td>잘생긴 얼굴만 세상을 구하는 건 아니지!인간과 요괴 사이에서 존재하던 고대의 휴전 ...</td>\n",
              "      <td>https://movie-phinf.pstatic.net/20111222_198/1...</td>\n",
              "    </tr>\n",
              "    <tr>\n",
              "      <th>74</th>\n",
              "      <td>해리 포터와 비밀의 방</td>\n",
              "      <td>판타지</td>\n",
              "      <td>NaN</td>\n",
              "      <td>0</td>\n",
              "      <td>크리스 콜럼버스</td>\n",
              "      <td>['다니엘 래드클리프', '루퍼트 그린트', '엠마 왓슨']</td>\n",
              "      <td>해리 포터에겐 이번 여름방학이 별로 즐겁질 못했다. 마법이라면 질색을 하는 페투니아...</td>\n",
              "      <td>https://movie-phinf.pstatic.net/20111222_244/1...</td>\n",
              "    </tr>\n",
              "  </tbody>\n",
              "</table>\n",
              "</div>"
            ],
            "text/plain": [
              "           title  ...                                          imagelink\n",
              "49          이터널스  ...  https://movie-phinf.pstatic.net/20190813_248/1...\n",
              "63          미친사랑  ...  https://movie-phinf.pstatic.net/20190530_108/1...\n",
              "67          아이언맨  ...  https://movie-phinf.pstatic.net/20111222_37/13...\n",
              "70  헬보이 2: 골든 아미  ...  https://movie-phinf.pstatic.net/20111222_198/1...\n",
              "74  해리 포터와 비밀의 방  ...  https://movie-phinf.pstatic.net/20111222_244/1...\n",
              "\n",
              "[5 rows x 8 columns]"
            ]
          },
          "metadata": {
            "tags": []
          },
          "execution_count": 6
        }
      ]
    },
    {
      "cell_type": "markdown",
      "metadata": {
        "id": "Am-Vz6LQqbw9"
      },
      "source": [
        "vote가 null인 값들을 직접 naver 영화에서 검색해보았다. \n",
        "아직까지 개봉하지 않은 영화이거나, 개봉했으나 관람객 평점이 존재하지 않는 경우이므로 추천하는데에 무의미한 데이터라 생각하고 drop 하여 삭제하는 것으로 결정하였다."
      ]
    },
    {
      "cell_type": "code",
      "metadata": {
        "id": "qAcNN5sBqyhv",
        "outputId": "9e6f1599-5079-40fd-8089-1a2c37e770b9",
        "colab": {
          "base_uri": "https://localhost:8080/"
        }
      },
      "source": [
        "movie = movie.dropna()\n",
        "movie.isnull().sum()"
      ],
      "execution_count": null,
      "outputs": [
        {
          "output_type": "execute_result",
          "data": {
            "text/plain": [
              "title         0\n",
              "genre         0\n",
              "vote          0\n",
              "vote_count    0\n",
              "director      0\n",
              "cast          0\n",
              "summary       0\n",
              "imagelink     0\n",
              "dtype: int64"
            ]
          },
          "metadata": {
            "tags": []
          },
          "execution_count": 7
        }
      ]
    },
    {
      "cell_type": "code",
      "metadata": {
        "id": "qCXowKfBq9mQ"
      },
      "source": [
        "movie.reset_index(inplace = True)\n",
        "movie.drop(['index'], axis=1, inplace = True)"
      ],
      "execution_count": null,
      "outputs": []
    },
    {
      "cell_type": "markdown",
      "metadata": {
        "id": "fj7fKTxDr_4_"
      },
      "source": [
        "줄거리를 형태소 분리하여 띄워쓰기로 구분한다."
      ]
    },
    {
      "cell_type": "code",
      "metadata": {
        "id": "w2QmPWYqOvAV"
      },
      "source": [
        "include = ['NNG','NP','NNP','NNB','NN','NX','UM','NU','VV','VA','AJ','IC']"
      ],
      "execution_count": null,
      "outputs": []
    },
    {
      "cell_type": "markdown",
      "metadata": {
        "id": "ispyV-wZfTxS"
      },
      "source": [
        "명사와 동사, 형용사만 포함될 수 있도록 하며 한 글자로 된 단어는 제외했다. "
      ]
    },
    {
      "cell_type": "code",
      "metadata": {
        "id": "y-mIa6JwM0Zr",
        "outputId": "38d97476-6b66-45d0-d4eb-89a81665a15a",
        "colab": {
          "base_uri": "https://localhost:8080/",
          "height": 364
        }
      },
      "source": [
        "movie['summary_processed'] = ''\n",
        "for i in range(len(movie)):\n",
        "  pos = kkma.pos(movie['summary'][i])\n",
        "  res = set()\n",
        "  for j in range(len(pos)):\n",
        "    if pos[j][1] in include:\n",
        "      if len(pos[j][0]) > 1:\n",
        "        res.add(pos[j][0])\n",
        "  movie['summary_processed'][i] = ' '.join(res)\n",
        "\n",
        "movie.head(5)"
      ],
      "execution_count": null,
      "outputs": [
        {
          "output_type": "execute_result",
          "data": {
            "text/html": [
              "<div>\n",
              "<style scoped>\n",
              "    .dataframe tbody tr th:only-of-type {\n",
              "        vertical-align: middle;\n",
              "    }\n",
              "\n",
              "    .dataframe tbody tr th {\n",
              "        vertical-align: top;\n",
              "    }\n",
              "\n",
              "    .dataframe thead th {\n",
              "        text-align: right;\n",
              "    }\n",
              "</style>\n",
              "<table border=\"1\" class=\"dataframe\">\n",
              "  <thead>\n",
              "    <tr style=\"text-align: right;\">\n",
              "      <th></th>\n",
              "      <th>title</th>\n",
              "      <th>genre</th>\n",
              "      <th>vote</th>\n",
              "      <th>vote_count</th>\n",
              "      <th>director</th>\n",
              "      <th>cast</th>\n",
              "      <th>summary</th>\n",
              "      <th>imagelink</th>\n",
              "      <th>summary_processed</th>\n",
              "    </tr>\n",
              "  </thead>\n",
              "  <tbody>\n",
              "    <tr>\n",
              "      <th>0</th>\n",
              "      <td>포드 V 페라리</td>\n",
              "      <td>액션</td>\n",
              "      <td>관람객 평점 9.31점</td>\n",
              "      <td>1,118</td>\n",
              "      <td>제임스 맨골드</td>\n",
              "      <td>['맷 데이먼', '크리스찬 베일']</td>\n",
              "      <td>자존심을 건 대결의 시작!1960년대, 매출 감소에 빠진 ‘포드’는 판매 활로를 찾...</td>\n",
              "      <td>https://movie-phinf.pstatic.net/20191204_91/15...</td>\n",
              "      <td>우승자 맞추 펼치 절대적 시간 출전 입맛 불가능 자동차 레이서 이자 활로 타협 판매...</td>\n",
              "    </tr>\n",
              "    <tr>\n",
              "      <th>1</th>\n",
              "      <td>감쪽같은 그녀</td>\n",
              "      <td>드라마</td>\n",
              "      <td>관람객 평점 8.83점</td>\n",
              "      <td>208</td>\n",
              "      <td>허인무</td>\n",
              "      <td>['나문희', '김수안']</td>\n",
              "      <td>“초면에 실례하겠습니다~”\\n 72살 나 홀로 라이프를 즐기는 ‘말순’ 할매의 인생...</td>\n",
              "      <td>https://movie-phinf.pstatic.net/20191204_6/157...</td>\n",
              "      <td>라이프 동생 외모 서로 시간 되어가 취향 순간 갓나 성격 벌이 나타나 못하 극인 즐...</td>\n",
              "    </tr>\n",
              "    <tr>\n",
              "      <th>2</th>\n",
              "      <td>백두산</td>\n",
              "      <td>드라마</td>\n",
              "      <td>관람객 평점 7.47점</td>\n",
              "      <td>2,828</td>\n",
              "      <td>이해준</td>\n",
              "      <td>['이병헌', '하정우', '마동석']</td>\n",
              "      <td>대한민국 관측 역사상 최대 규모의 백두산 폭발 발생.\\n 갑작스러운 재난에 한반도는...</td>\n",
              "      <td>https://movie-phinf.pstatic.net/20191219_263/1...</td>\n",
              "      <td>최대 접선 시간 서울 행동 자원 규모 운명 동석 작전 전역 남과 모르 펼쳐지 성공 ...</td>\n",
              "    </tr>\n",
              "    <tr>\n",
              "      <th>3</th>\n",
              "      <td>시동</td>\n",
              "      <td>드라마</td>\n",
              "      <td>관람객 평점 8.68점</td>\n",
              "      <td>1,780</td>\n",
              "      <td>최정열</td>\n",
              "      <td>['마동석', '박정민', '정해인']</td>\n",
              "      <td>학교도 싫고 집도 싫고 공부는 더더욱 싫다며\\n '엄마'(염정아)에게 1일 1강스파...</td>\n",
              "      <td>https://movie-phinf.pstatic.net/20200117_56/15...</td>\n",
              "      <td>뛰어들 최대 적수 스파이크 만나 무섭 해인 동석 포스 공부 학교 택일 뛰쳐나가 거석...</td>\n",
              "    </tr>\n",
              "    <tr>\n",
              "      <th>4</th>\n",
              "      <td>블랙머니</td>\n",
              "      <td>범죄</td>\n",
              "      <td>관람객 평점 8.75점</td>\n",
              "      <td>862</td>\n",
              "      <td>정지영</td>\n",
              "      <td>['조진웅', '이하늬']</td>\n",
              "      <td>고발은 의무! 수사는 직진!\\n할말은 하고 깔 건 깐다!일명 서울지검 ‘막프로’! ...</td>\n",
              "      <td>https://movie-phinf.pstatic.net/20191113_203/1...</td>\n",
              "      <td>이름 해외 최대 프로 담당 서울 누명 헐값 문제 거대 내몰리 금융 마주하 근거 일명...</td>\n",
              "    </tr>\n",
              "  </tbody>\n",
              "</table>\n",
              "</div>"
            ],
            "text/plain": [
              "      title  ...                                  summary_processed\n",
              "0  포드 V 페라리  ...  우승자 맞추 펼치 절대적 시간 출전 입맛 불가능 자동차 레이서 이자 활로 타협 판매...\n",
              "1   감쪽같은 그녀  ...  라이프 동생 외모 서로 시간 되어가 취향 순간 갓나 성격 벌이 나타나 못하 극인 즐...\n",
              "2       백두산  ...  최대 접선 시간 서울 행동 자원 규모 운명 동석 작전 전역 남과 모르 펼쳐지 성공 ...\n",
              "3        시동  ...  뛰어들 최대 적수 스파이크 만나 무섭 해인 동석 포스 공부 학교 택일 뛰쳐나가 거석...\n",
              "4      블랙머니  ...  이름 해외 최대 프로 담당 서울 누명 헐값 문제 거대 내몰리 금융 마주하 근거 일명...\n",
              "\n",
              "[5 rows x 9 columns]"
            ]
          },
          "metadata": {
            "tags": []
          },
          "execution_count": 10
        }
      ]
    },
    {
      "cell_type": "markdown",
      "metadata": {
        "id": "fhQMR_2ysD4I"
      },
      "source": [
        "vote를 평점만 남긴 데이터로 전처리한다."
      ]
    },
    {
      "cell_type": "code",
      "metadata": {
        "id": "G67e_OhlsVzk",
        "outputId": "139febfc-f4d6-4d19-a447-9b21ebba329d",
        "colab": {
          "base_uri": "https://localhost:8080/",
          "height": 364
        }
      },
      "source": [
        "for i in range(len(movie)):\n",
        "  vote = movie['vote'][i]\n",
        "  movie['vote'][i] = float(vote[6:len(vote)-1])\n",
        "\n",
        "movie.head(5)"
      ],
      "execution_count": null,
      "outputs": [
        {
          "output_type": "execute_result",
          "data": {
            "text/html": [
              "<div>\n",
              "<style scoped>\n",
              "    .dataframe tbody tr th:only-of-type {\n",
              "        vertical-align: middle;\n",
              "    }\n",
              "\n",
              "    .dataframe tbody tr th {\n",
              "        vertical-align: top;\n",
              "    }\n",
              "\n",
              "    .dataframe thead th {\n",
              "        text-align: right;\n",
              "    }\n",
              "</style>\n",
              "<table border=\"1\" class=\"dataframe\">\n",
              "  <thead>\n",
              "    <tr style=\"text-align: right;\">\n",
              "      <th></th>\n",
              "      <th>title</th>\n",
              "      <th>genre</th>\n",
              "      <th>vote</th>\n",
              "      <th>vote_count</th>\n",
              "      <th>director</th>\n",
              "      <th>cast</th>\n",
              "      <th>summary</th>\n",
              "      <th>imagelink</th>\n",
              "      <th>summary_processed</th>\n",
              "    </tr>\n",
              "  </thead>\n",
              "  <tbody>\n",
              "    <tr>\n",
              "      <th>0</th>\n",
              "      <td>포드 V 페라리</td>\n",
              "      <td>액션</td>\n",
              "      <td>9.31</td>\n",
              "      <td>1,118</td>\n",
              "      <td>제임스 맨골드</td>\n",
              "      <td>['맷 데이먼', '크리스찬 베일']</td>\n",
              "      <td>자존심을 건 대결의 시작!1960년대, 매출 감소에 빠진 ‘포드’는 판매 활로를 찾...</td>\n",
              "      <td>https://movie-phinf.pstatic.net/20191204_91/15...</td>\n",
              "      <td>우승자 맞추 펼치 절대적 시간 출전 입맛 불가능 자동차 레이서 이자 활로 타협 판매...</td>\n",
              "    </tr>\n",
              "    <tr>\n",
              "      <th>1</th>\n",
              "      <td>감쪽같은 그녀</td>\n",
              "      <td>드라마</td>\n",
              "      <td>8.83</td>\n",
              "      <td>208</td>\n",
              "      <td>허인무</td>\n",
              "      <td>['나문희', '김수안']</td>\n",
              "      <td>“초면에 실례하겠습니다~”\\n 72살 나 홀로 라이프를 즐기는 ‘말순’ 할매의 인생...</td>\n",
              "      <td>https://movie-phinf.pstatic.net/20191204_6/157...</td>\n",
              "      <td>라이프 동생 외모 서로 시간 되어가 취향 순간 갓나 성격 벌이 나타나 못하 극인 즐...</td>\n",
              "    </tr>\n",
              "    <tr>\n",
              "      <th>2</th>\n",
              "      <td>백두산</td>\n",
              "      <td>드라마</td>\n",
              "      <td>7.47</td>\n",
              "      <td>2,828</td>\n",
              "      <td>이해준</td>\n",
              "      <td>['이병헌', '하정우', '마동석']</td>\n",
              "      <td>대한민국 관측 역사상 최대 규모의 백두산 폭발 발생.\\n 갑작스러운 재난에 한반도는...</td>\n",
              "      <td>https://movie-phinf.pstatic.net/20191219_263/1...</td>\n",
              "      <td>최대 접선 시간 서울 행동 자원 규모 운명 동석 작전 전역 남과 모르 펼쳐지 성공 ...</td>\n",
              "    </tr>\n",
              "    <tr>\n",
              "      <th>3</th>\n",
              "      <td>시동</td>\n",
              "      <td>드라마</td>\n",
              "      <td>8.68</td>\n",
              "      <td>1,780</td>\n",
              "      <td>최정열</td>\n",
              "      <td>['마동석', '박정민', '정해인']</td>\n",
              "      <td>학교도 싫고 집도 싫고 공부는 더더욱 싫다며\\n '엄마'(염정아)에게 1일 1강스파...</td>\n",
              "      <td>https://movie-phinf.pstatic.net/20200117_56/15...</td>\n",
              "      <td>뛰어들 최대 적수 스파이크 만나 무섭 해인 동석 포스 공부 학교 택일 뛰쳐나가 거석...</td>\n",
              "    </tr>\n",
              "    <tr>\n",
              "      <th>4</th>\n",
              "      <td>블랙머니</td>\n",
              "      <td>범죄</td>\n",
              "      <td>8.75</td>\n",
              "      <td>862</td>\n",
              "      <td>정지영</td>\n",
              "      <td>['조진웅', '이하늬']</td>\n",
              "      <td>고발은 의무! 수사는 직진!\\n할말은 하고 깔 건 깐다!일명 서울지검 ‘막프로’! ...</td>\n",
              "      <td>https://movie-phinf.pstatic.net/20191113_203/1...</td>\n",
              "      <td>이름 해외 최대 프로 담당 서울 누명 헐값 문제 거대 내몰리 금융 마주하 근거 일명...</td>\n",
              "    </tr>\n",
              "  </tbody>\n",
              "</table>\n",
              "</div>"
            ],
            "text/plain": [
              "      title  ...                                  summary_processed\n",
              "0  포드 V 페라리  ...  우승자 맞추 펼치 절대적 시간 출전 입맛 불가능 자동차 레이서 이자 활로 타협 판매...\n",
              "1   감쪽같은 그녀  ...  라이프 동생 외모 서로 시간 되어가 취향 순간 갓나 성격 벌이 나타나 못하 극인 즐...\n",
              "2       백두산  ...  최대 접선 시간 서울 행동 자원 규모 운명 동석 작전 전역 남과 모르 펼쳐지 성공 ...\n",
              "3        시동  ...  뛰어들 최대 적수 스파이크 만나 무섭 해인 동석 포스 공부 학교 택일 뛰쳐나가 거석...\n",
              "4      블랙머니  ...  이름 해외 최대 프로 담당 서울 누명 헐값 문제 거대 내몰리 금융 마주하 근거 일명...\n",
              "\n",
              "[5 rows x 9 columns]"
            ]
          },
          "metadata": {
            "tags": []
          },
          "execution_count": 11
        }
      ]
    },
    {
      "cell_type": "markdown",
      "metadata": {
        "id": "hFmmIUPttZ1p"
      },
      "source": [
        "vote_count 또한 int형으로 바꾸어준다.."
      ]
    },
    {
      "cell_type": "code",
      "metadata": {
        "id": "-TNA1LIHtYSI"
      },
      "source": [
        "for i in range(len(movie)):\n",
        "  if type(movie['vote_count'][i]) != int and ',' in movie['vote_count'][i]:\n",
        "    a = list(movie['vote_count'][i])\n",
        "    a.pop(a.index(','))\n",
        "    a = ''.join(a)\n",
        "    movie['vote_count'][i] = int(a)\n",
        "  else:\n",
        "    movie['vote_count'][i] = int(movie['vote_count'][i])"
      ],
      "execution_count": null,
      "outputs": []
    },
    {
      "cell_type": "markdown",
      "metadata": {
        "id": "7luLoJm9tA7v"
      },
      "source": [
        "가중 평점 = (v/(v+m)) R + (m/(v+m)) \\ C\n",
        "\n",
        "* v: 개별 영화에 평점을 투표한 횟수\n",
        "* m: 평점을 부여하기 위한 최소 투표 횟수\n",
        "* R: 개별 영화에 대한 평균 평점\n",
        "* C: 전체 영화에 대한 평균 평점\n",
        "\n",
        "\n",
        "v 는 'vote_count' 값이며, R은 'vote_average' 값에 해당합니다. C의 경우 전체 영화의 평균 평점이므로 movies['ratings'].mean()으로 구할 수 있습니다.\n",
        "m 의 경우는 투표 횟수에 따른 가중치를 직접 조절하는 역할을 하는데, m을 높이면 평점 투표 횟수가 많은 영화에 더 많은 가중 평점을 주게 됩니다.\n",
        "여기서는 m을 상위 60% 해당하는 횟수를 기준으로 정하겠습니다."
      ]
    },
    {
      "cell_type": "code",
      "metadata": {
        "id": "K-NnaJdksTt0",
        "outputId": "6516465d-97f6-4e6f-fe09-bf960b375910",
        "colab": {
          "base_uri": "https://localhost:8080/"
        }
      },
      "source": [
        "C = movie['vote'].mean()\n",
        "m = movie['vote_count'].quantile(0.6)\n",
        "print('C:',round(C,3),'m:',round(m,3))"
      ],
      "execution_count": null,
      "outputs": [
        {
          "output_type": "stream",
          "text": [
            "C: 8.465 m: 312.4\n"
          ],
          "name": "stdout"
        }
      ]
    },
    {
      "cell_type": "code",
      "metadata": {
        "id": "ifvk7kyBtL4u",
        "outputId": "90a31344-7bd7-4fb1-c319-952070373dfa",
        "colab": {
          "base_uri": "https://localhost:8080/",
          "height": 364
        }
      },
      "source": [
        "percentile = 0.6\n",
        "C = movie['vote'].mean()\n",
        "m = movie['vote_count'].quantile(0.6)\n",
        "\n",
        "def weighted_vote_average(record):\n",
        "  v = record['vote_count']\n",
        "  R = record['vote']\n",
        "\n",
        "  return ((v/(v+m)) * R) +( (m/(v+m)) * C)\n",
        "\n",
        "movie['weighted_vote'] = movie.apply(weighted_vote_average, axis = 1)\n",
        "movie.head(5)"
      ],
      "execution_count": null,
      "outputs": [
        {
          "output_type": "execute_result",
          "data": {
            "text/html": [
              "<div>\n",
              "<style scoped>\n",
              "    .dataframe tbody tr th:only-of-type {\n",
              "        vertical-align: middle;\n",
              "    }\n",
              "\n",
              "    .dataframe tbody tr th {\n",
              "        vertical-align: top;\n",
              "    }\n",
              "\n",
              "    .dataframe thead th {\n",
              "        text-align: right;\n",
              "    }\n",
              "</style>\n",
              "<table border=\"1\" class=\"dataframe\">\n",
              "  <thead>\n",
              "    <tr style=\"text-align: right;\">\n",
              "      <th></th>\n",
              "      <th>title</th>\n",
              "      <th>genre</th>\n",
              "      <th>vote</th>\n",
              "      <th>vote_count</th>\n",
              "      <th>director</th>\n",
              "      <th>cast</th>\n",
              "      <th>summary</th>\n",
              "      <th>imagelink</th>\n",
              "      <th>summary_processed</th>\n",
              "      <th>weighted_vote</th>\n",
              "    </tr>\n",
              "  </thead>\n",
              "  <tbody>\n",
              "    <tr>\n",
              "      <th>0</th>\n",
              "      <td>포드 V 페라리</td>\n",
              "      <td>액션</td>\n",
              "      <td>9.31</td>\n",
              "      <td>1118</td>\n",
              "      <td>제임스 맨골드</td>\n",
              "      <td>['맷 데이먼', '크리스찬 베일']</td>\n",
              "      <td>자존심을 건 대결의 시작!1960년대, 매출 감소에 빠진 ‘포드’는 판매 활로를 찾...</td>\n",
              "      <td>https://movie-phinf.pstatic.net/20191204_91/15...</td>\n",
              "      <td>우승자 맞추 펼치 절대적 시간 출전 입맛 불가능 자동차 레이서 이자 활로 타협 판매...</td>\n",
              "      <td>9.125478</td>\n",
              "    </tr>\n",
              "    <tr>\n",
              "      <th>1</th>\n",
              "      <td>감쪽같은 그녀</td>\n",
              "      <td>드라마</td>\n",
              "      <td>8.83</td>\n",
              "      <td>208</td>\n",
              "      <td>허인무</td>\n",
              "      <td>['나문희', '김수안']</td>\n",
              "      <td>“초면에 실례하겠습니다~”\\n 72살 나 홀로 라이프를 즐기는 ‘말순’ 할매의 인생...</td>\n",
              "      <td>https://movie-phinf.pstatic.net/20191204_6/157...</td>\n",
              "      <td>라이프 동생 외모 서로 시간 되어가 취향 순간 갓나 성격 벌이 나타나 못하 극인 즐...</td>\n",
              "      <td>8.610960</td>\n",
              "    </tr>\n",
              "    <tr>\n",
              "      <th>2</th>\n",
              "      <td>백두산</td>\n",
              "      <td>드라마</td>\n",
              "      <td>7.47</td>\n",
              "      <td>2828</td>\n",
              "      <td>이해준</td>\n",
              "      <td>['이병헌', '하정우', '마동석']</td>\n",
              "      <td>대한민국 관측 역사상 최대 규모의 백두산 폭발 발생.\\n 갑작스러운 재난에 한반도는...</td>\n",
              "      <td>https://movie-phinf.pstatic.net/20191219_263/1...</td>\n",
              "      <td>최대 접선 시간 서울 행동 자원 규모 운명 동석 작전 전역 남과 모르 펼쳐지 성공 ...</td>\n",
              "      <td>7.568992</td>\n",
              "    </tr>\n",
              "    <tr>\n",
              "      <th>3</th>\n",
              "      <td>시동</td>\n",
              "      <td>드라마</td>\n",
              "      <td>8.68</td>\n",
              "      <td>1780</td>\n",
              "      <td>최정열</td>\n",
              "      <td>['마동석', '박정민', '정해인']</td>\n",
              "      <td>학교도 싫고 집도 싫고 공부는 더더욱 싫다며\\n '엄마'(염정아)에게 1일 1강스파...</td>\n",
              "      <td>https://movie-phinf.pstatic.net/20200117_56/15...</td>\n",
              "      <td>뛰어들 최대 적수 스파이크 만나 무섭 해인 동석 포스 공부 학교 택일 뛰쳐나가 거석...</td>\n",
              "      <td>8.647918</td>\n",
              "    </tr>\n",
              "    <tr>\n",
              "      <th>4</th>\n",
              "      <td>블랙머니</td>\n",
              "      <td>범죄</td>\n",
              "      <td>8.75</td>\n",
              "      <td>862</td>\n",
              "      <td>정지영</td>\n",
              "      <td>['조진웅', '이하늬']</td>\n",
              "      <td>고발은 의무! 수사는 직진!\\n할말은 하고 깔 건 깐다!일명 서울지검 ‘막프로’! ...</td>\n",
              "      <td>https://movie-phinf.pstatic.net/20191113_203/1...</td>\n",
              "      <td>이름 해외 최대 프로 담당 서울 누명 헐값 문제 거대 내몰리 금융 마주하 근거 일명...</td>\n",
              "      <td>8.674220</td>\n",
              "    </tr>\n",
              "  </tbody>\n",
              "</table>\n",
              "</div>"
            ],
            "text/plain": [
              "      title  ... weighted_vote\n",
              "0  포드 V 페라리  ...      9.125478\n",
              "1   감쪽같은 그녀  ...      8.610960\n",
              "2       백두산  ...      7.568992\n",
              "3        시동  ...      8.647918\n",
              "4      블랙머니  ...      8.674220\n",
              "\n",
              "[5 rows x 10 columns]"
            ]
          },
          "metadata": {
            "tags": []
          },
          "execution_count": 14
        }
      ]
    },
    {
      "cell_type": "markdown",
      "metadata": {
        "id": "wcq89e5zvwlr"
      },
      "source": [
        "* 가중 평점을 적용하지 않은 평점 순위 Top 10"
      ]
    },
    {
      "cell_type": "code",
      "metadata": {
        "id": "yYLvuN-vvsGI",
        "outputId": "fa7b9da8-7280-4415-b2e2-314fed9bfa9c",
        "colab": {
          "base_uri": "https://localhost:8080/",
          "height": 345
        }
      },
      "source": [
        "movie[['title','vote','weighted_vote','vote_count']].sort_values('vote', ascending=False)[:10]"
      ],
      "execution_count": null,
      "outputs": [
        {
          "output_type": "execute_result",
          "data": {
            "text/html": [
              "<div>\n",
              "<style scoped>\n",
              "    .dataframe tbody tr th:only-of-type {\n",
              "        vertical-align: middle;\n",
              "    }\n",
              "\n",
              "    .dataframe tbody tr th {\n",
              "        vertical-align: top;\n",
              "    }\n",
              "\n",
              "    .dataframe thead th {\n",
              "        text-align: right;\n",
              "    }\n",
              "</style>\n",
              "<table border=\"1\" class=\"dataframe\">\n",
              "  <thead>\n",
              "    <tr style=\"text-align: right;\">\n",
              "      <th></th>\n",
              "      <th>title</th>\n",
              "      <th>vote</th>\n",
              "      <th>weighted_vote</th>\n",
              "      <th>vote_count</th>\n",
              "    </tr>\n",
              "  </thead>\n",
              "  <tbody>\n",
              "    <tr>\n",
              "      <th>101</th>\n",
              "      <td>러브 앳</td>\n",
              "      <td>10</td>\n",
              "      <td>8.479719</td>\n",
              "      <td>3</td>\n",
              "    </tr>\n",
              "    <tr>\n",
              "      <th>186</th>\n",
              "      <td>앨리스 죽이기</td>\n",
              "      <td>10</td>\n",
              "      <td>8.474884</td>\n",
              "      <td>2</td>\n",
              "    </tr>\n",
              "    <tr>\n",
              "      <th>262</th>\n",
              "      <td>체 게바라: 2부 게릴라</td>\n",
              "      <td>10</td>\n",
              "      <td>8.470017</td>\n",
              "      <td>1</td>\n",
              "    </tr>\n",
              "    <tr>\n",
              "      <th>224</th>\n",
              "      <td>집으로...</td>\n",
              "      <td>10</td>\n",
              "      <td>8.498758</td>\n",
              "      <td>7</td>\n",
              "    </tr>\n",
              "    <tr>\n",
              "      <th>273</th>\n",
              "      <td>쿵푸 보이</td>\n",
              "      <td>10</td>\n",
              "      <td>8.479719</td>\n",
              "      <td>3</td>\n",
              "    </tr>\n",
              "    <tr>\n",
              "      <th>194</th>\n",
              "      <td>발리: 천상의 울림</td>\n",
              "      <td>10</td>\n",
              "      <td>8.470017</td>\n",
              "      <td>1</td>\n",
              "    </tr>\n",
              "    <tr>\n",
              "      <th>287</th>\n",
              "      <td>너의 목소리</td>\n",
              "      <td>10</td>\n",
              "      <td>8.474884</td>\n",
              "      <td>2</td>\n",
              "    </tr>\n",
              "    <tr>\n",
              "      <th>260</th>\n",
              "      <td>퍼펙트 타겟</td>\n",
              "      <td>10</td>\n",
              "      <td>8.470017</td>\n",
              "      <td>1</td>\n",
              "    </tr>\n",
              "    <tr>\n",
              "      <th>191</th>\n",
              "      <td>물의 기억</td>\n",
              "      <td>10</td>\n",
              "      <td>8.479719</td>\n",
              "      <td>3</td>\n",
              "    </tr>\n",
              "    <tr>\n",
              "      <th>7</th>\n",
              "      <td>사선의 끝</td>\n",
              "      <td>10</td>\n",
              "      <td>8.474884</td>\n",
              "      <td>2</td>\n",
              "    </tr>\n",
              "  </tbody>\n",
              "</table>\n",
              "</div>"
            ],
            "text/plain": [
              "             title vote  weighted_vote vote_count\n",
              "101           러브 앳   10       8.479719          3\n",
              "186        앨리스 죽이기   10       8.474884          2\n",
              "262  체 게바라: 2부 게릴라   10       8.470017          1\n",
              "224         집으로...   10       8.498758          7\n",
              "273          쿵푸 보이   10       8.479719          3\n",
              "194     발리: 천상의 울림   10       8.470017          1\n",
              "287         너의 목소리   10       8.474884          2\n",
              "260         퍼펙트 타겟   10       8.470017          1\n",
              "191          물의 기억   10       8.479719          3\n",
              "7            사선의 끝   10       8.474884          2"
            ]
          },
          "metadata": {
            "tags": []
          },
          "execution_count": 15
        }
      ]
    },
    {
      "cell_type": "markdown",
      "metadata": {
        "id": "I8lGk19xv3Vx"
      },
      "source": [
        "* 가중 평점을 적용한 Top 10"
      ]
    },
    {
      "cell_type": "code",
      "metadata": {
        "id": "rf9R5A70u7Y9",
        "outputId": "403d3693-c174-47db-c3f0-dc01370b7ca1",
        "colab": {
          "base_uri": "https://localhost:8080/",
          "height": 345
        }
      },
      "source": [
        "movie[['title','vote','weighted_vote','vote_count']].sort_values('weighted_vote', ascending=False)[:10]"
      ],
      "execution_count": null,
      "outputs": [
        {
          "output_type": "execute_result",
          "data": {
            "text/html": [
              "<div>\n",
              "<style scoped>\n",
              "    .dataframe tbody tr th:only-of-type {\n",
              "        vertical-align: middle;\n",
              "    }\n",
              "\n",
              "    .dataframe tbody tr th {\n",
              "        vertical-align: top;\n",
              "    }\n",
              "\n",
              "    .dataframe thead th {\n",
              "        text-align: right;\n",
              "    }\n",
              "</style>\n",
              "<table border=\"1\" class=\"dataframe\">\n",
              "  <thead>\n",
              "    <tr style=\"text-align: right;\">\n",
              "      <th></th>\n",
              "      <th>title</th>\n",
              "      <th>vote</th>\n",
              "      <th>weighted_vote</th>\n",
              "      <th>vote_count</th>\n",
              "    </tr>\n",
              "  </thead>\n",
              "  <tbody>\n",
              "    <tr>\n",
              "      <th>326</th>\n",
              "      <td>어벤져스: 엔드게임</td>\n",
              "      <td>9.5</td>\n",
              "      <td>9.490055</td>\n",
              "      <td>32196</td>\n",
              "    </tr>\n",
              "    <tr>\n",
              "      <th>38</th>\n",
              "      <td>보헤미안 랩소디</td>\n",
              "      <td>9.45</td>\n",
              "      <td>9.427144</td>\n",
              "      <td>13149</td>\n",
              "    </tr>\n",
              "    <tr>\n",
              "      <th>34</th>\n",
              "      <td>그린 북</td>\n",
              "      <td>9.55</td>\n",
              "      <td>9.407861</td>\n",
              "      <td>2072</td>\n",
              "    </tr>\n",
              "    <tr>\n",
              "      <th>50</th>\n",
              "      <td>알라딘</td>\n",
              "      <td>9.42</td>\n",
              "      <td>9.386280</td>\n",
              "      <td>8534</td>\n",
              "    </tr>\n",
              "    <tr>\n",
              "      <th>37</th>\n",
              "      <td>가버나움</td>\n",
              "      <td>9.54</td>\n",
              "      <td>9.343216</td>\n",
              "      <td>1394</td>\n",
              "    </tr>\n",
              "    <tr>\n",
              "      <th>31</th>\n",
              "      <td>항거:유관순 이야기</td>\n",
              "      <td>9.39</td>\n",
              "      <td>9.254694</td>\n",
              "      <td>1823</td>\n",
              "    </tr>\n",
              "    <tr>\n",
              "      <th>231</th>\n",
              "      <td>스파이더맨: 뉴 유니버스</td>\n",
              "      <td>9.38</td>\n",
              "      <td>9.247214</td>\n",
              "      <td>1840</td>\n",
              "    </tr>\n",
              "    <tr>\n",
              "      <th>315</th>\n",
              "      <td>위대한 쇼맨</td>\n",
              "      <td>9.31</td>\n",
              "      <td>9.247133</td>\n",
              "      <td>3886</td>\n",
              "    </tr>\n",
              "    <tr>\n",
              "      <th>283</th>\n",
              "      <td>뽀로로 극장판 보물섬 대모험</td>\n",
              "      <td>9.35</td>\n",
              "      <td>9.223276</td>\n",
              "      <td>1869</td>\n",
              "    </tr>\n",
              "    <tr>\n",
              "      <th>217</th>\n",
              "      <td>극한직업</td>\n",
              "      <td>9.2</td>\n",
              "      <td>9.185950</td>\n",
              "      <td>16028</td>\n",
              "    </tr>\n",
              "  </tbody>\n",
              "</table>\n",
              "</div>"
            ],
            "text/plain": [
              "               title  vote  weighted_vote vote_count\n",
              "326       어벤져스: 엔드게임   9.5       9.490055      32196\n",
              "38          보헤미안 랩소디  9.45       9.427144      13149\n",
              "34              그린 북  9.55       9.407861       2072\n",
              "50               알라딘  9.42       9.386280       8534\n",
              "37              가버나움  9.54       9.343216       1394\n",
              "31        항거:유관순 이야기  9.39       9.254694       1823\n",
              "231    스파이더맨: 뉴 유니버스  9.38       9.247214       1840\n",
              "315           위대한 쇼맨  9.31       9.247133       3886\n",
              "283  뽀로로 극장판 보물섬 대모험  9.35       9.223276       1869\n",
              "217             극한직업   9.2       9.185950      16028"
            ]
          },
          "metadata": {
            "tags": []
          },
          "execution_count": 16
        }
      ]
    },
    {
      "cell_type": "code",
      "metadata": {
        "id": "flcsGIWOvlaF",
        "outputId": "4737cdb1-8f03-4518-9384-b8a594014ee3",
        "colab": {
          "base_uri": "https://localhost:8080/"
        }
      },
      "source": [
        "from sklearn.feature_extraction.text import CountVectorizer\n",
        "\n",
        "count_vect = CountVectorizer(min_df = 0, ngram_range=(1,2))\n",
        "summ_mat = count_vect.fit_transform(movie['summary_processed'])\n",
        "print(summ_mat.shape)"
      ],
      "execution_count": null,
      "outputs": [
        {
          "output_type": "stream",
          "text": [
            "(334, 14748)\n"
          ],
          "name": "stdout"
        }
      ]
    },
    {
      "cell_type": "code",
      "metadata": {
        "id": "NudErtZtwYye"
      },
      "source": [
        "summ_sim = cosine_similarity(summ_mat, summ_mat)\n",
        "summ_sim_sorted_ind = summ_sim.argsort()[:,::-1] #유사도가 높은 순으로 정리된 summ_sim 객체의 비교 행 위치 값을 얻을 수 있습니다."
      ],
      "execution_count": null,
      "outputs": []
    },
    {
      "cell_type": "markdown",
      "metadata": {
        "id": "L_h79wZWxIra"
      },
      "source": [
        "추출해냈던 `summary_processed`에 대해 코사인 유사도를 구하여 줄거리 키워드가 유사한 영화 상위 10개를 추천해보자"
      ]
    },
    {
      "cell_type": "code",
      "metadata": {
        "id": "jyYLPsVVwjpE"
      },
      "source": [
        "def find_sim_movie(df, sorted_ind, title_name, top_n = 10):\n",
        "    # 인자로 입력된 df에서 'title' 칼럼이 입력된 title_name 값인 데이터프레임 추출\n",
        "    title_movie = df[df['title'] == title_name]\n",
        "\n",
        "    title_index = title_movie.index.values\n",
        "    similar_indexes = sorted_ind[title_index, :(top_n*2)]\n",
        "    similar_indexes = similar_indexes.reshape(-1) #1차원 array로 변경\n",
        "\n",
        "    similar_indexes = similar_indexes[similar_indexes != title_index]\n",
        "\n",
        "    return df.iloc[similar_indexes].sort_values('weighted_vote',ascending=False)[:top_n]"
      ],
      "execution_count": null,
      "outputs": []
    },
    {
      "cell_type": "code",
      "metadata": {
        "id": "95004wZ8h7WY",
        "outputId": "f251a932-b17a-44eb-8586-c9c612382ff6",
        "colab": {
          "base_uri": "https://localhost:8080/",
          "height": 77
        }
      },
      "source": [
        "movie[movie['title'] == '어벤져스: 엔드게임'][['title','vote','weighted_vote','summary_processed']]"
      ],
      "execution_count": null,
      "outputs": [
        {
          "output_type": "execute_result",
          "data": {
            "text/html": [
              "<div>\n",
              "<style scoped>\n",
              "    .dataframe tbody tr th:only-of-type {\n",
              "        vertical-align: middle;\n",
              "    }\n",
              "\n",
              "    .dataframe tbody tr th {\n",
              "        vertical-align: top;\n",
              "    }\n",
              "\n",
              "    .dataframe thead th {\n",
              "        text-align: right;\n",
              "    }\n",
              "</style>\n",
              "<table border=\"1\" class=\"dataframe\">\n",
              "  <thead>\n",
              "    <tr style=\"text-align: right;\">\n",
              "      <th></th>\n",
              "      <th>title</th>\n",
              "      <th>vote</th>\n",
              "      <th>weighted_vote</th>\n",
              "      <th>summary_processed</th>\n",
              "    </tr>\n",
              "  </thead>\n",
              "  <tbody>\n",
              "    <tr>\n",
              "      <th>326</th>\n",
              "      <td>어벤져스: 엔드게임</td>\n",
              "      <td>9.5</td>\n",
              "      <td>9.490055</td>\n",
              "      <td>희망 위대 지구 떠나 이후 전쟁 살아남 마지막 최후 운명 바꾸 절반 위하 펼쳐지</td>\n",
              "    </tr>\n",
              "  </tbody>\n",
              "</table>\n",
              "</div>"
            ],
            "text/plain": [
              "          title  ...                             summary_processed\n",
              "326  어벤져스: 엔드게임  ...  희망 위대 지구 떠나 이후 전쟁 살아남 마지막 최후 운명 바꾸 절반 위하 펼쳐지\n",
              "\n",
              "[1 rows x 4 columns]"
            ]
          },
          "metadata": {
            "tags": []
          },
          "execution_count": 20
        }
      ]
    },
    {
      "cell_type": "code",
      "metadata": {
        "id": "xua0LzvZwsLm",
        "outputId": "e14c82fe-e63f-4ab3-a999-57315522c3d2",
        "colab": {
          "base_uri": "https://localhost:8080/",
          "height": 345
        }
      },
      "source": [
        "similar_movies = find_sim_movie(movie, summ_sim_sorted_ind, '어벤져스: 엔드게임', 10)\n",
        "similar_movies[['title','vote','weighted_vote','summary_processed']]"
      ],
      "execution_count": null,
      "outputs": [
        {
          "output_type": "execute_result",
          "data": {
            "text/html": [
              "<div>\n",
              "<style scoped>\n",
              "    .dataframe tbody tr th:only-of-type {\n",
              "        vertical-align: middle;\n",
              "    }\n",
              "\n",
              "    .dataframe tbody tr th {\n",
              "        vertical-align: top;\n",
              "    }\n",
              "\n",
              "    .dataframe thead th {\n",
              "        text-align: right;\n",
              "    }\n",
              "</style>\n",
              "<table border=\"1\" class=\"dataframe\">\n",
              "  <thead>\n",
              "    <tr style=\"text-align: right;\">\n",
              "      <th></th>\n",
              "      <th>title</th>\n",
              "      <th>vote</th>\n",
              "      <th>weighted_vote</th>\n",
              "      <th>summary_processed</th>\n",
              "    </tr>\n",
              "  </thead>\n",
              "  <tbody>\n",
              "    <tr>\n",
              "      <th>59</th>\n",
              "      <td>토이 스토리 4</td>\n",
              "      <td>9.23</td>\n",
              "      <td>9.151045</td>\n",
              "      <td>여행 새롭 사라지 친구 위험천만 장난감 떠나 버즈 만나 우리 거부 끝나 운명 나서 ...</td>\n",
              "    </tr>\n",
              "    <tr>\n",
              "      <th>297</th>\n",
              "      <td>언더독</td>\n",
              "      <td>9.47</td>\n",
              "      <td>9.006574</td>\n",
              "      <td>적응 라이프 찰나 무리 떠나 만나 댕댕이 운명 고참 자유 꿈꾸 구하 뭉치 위하 역전...</td>\n",
              "    </tr>\n",
              "    <tr>\n",
              "      <th>293</th>\n",
              "      <td>드래곤볼 슈퍼: 브로리</td>\n",
              "      <td>9.47</td>\n",
              "      <td>8.847628</td>\n",
              "      <td>전투 무기력 운명 뛰어넘 시도 나타나 처절 대회 엄청나 돌아오 되찾 오공 상상 최후...</td>\n",
              "    </tr>\n",
              "    <tr>\n",
              "      <th>240</th>\n",
              "      <td>다크 나이트</td>\n",
              "      <td>9.65</td>\n",
              "      <td>8.617197</td>\n",
              "      <td>반장 펼치 고담 운명 작전 조직 내던지 악당 준비 제거 어리 조커 지키 최후 매이 ...</td>\n",
              "    </tr>\n",
              "    <tr>\n",
              "      <th>158</th>\n",
              "      <td>존 윅 3: 파라벨룸</td>\n",
              "      <td>8.64</td>\n",
              "      <td>8.604717</td>\n",
              "      <td>모든 국제 파문 총구 출구 킬러 베리 준비 보호 내려지 찾아가 전설 위하 시시각각 ...</td>\n",
              "    </tr>\n",
              "    <tr>\n",
              "      <th>254</th>\n",
              "      <td>아일라</td>\n",
              "      <td>9.13</td>\n",
              "      <td>8.586829</td>\n",
              "      <td>이름 칠흑 아이 서로 명령 이야기 포화 운명 발견 감동 실화 한국 부모 존재 감행 ...</td>\n",
              "    </tr>\n",
              "    <tr>\n",
              "      <th>327</th>\n",
              "      <td>터미네이터 2:오리지널</td>\n",
              "      <td>9.51</td>\n",
              "      <td>8.581085</td>\n",
              "      <td>인간 코너 없애 미래 운명 과거 어리 스카이 지키 로봇 위하 시작하 가쁘 사령관 금...</td>\n",
              "    </tr>\n",
              "    <tr>\n",
              "      <th>328</th>\n",
              "      <td>터미네이터 2</td>\n",
              "      <td>9.51</td>\n",
              "      <td>8.581085</td>\n",
              "      <td>인간 코너 없애 미래 운명 과거 어리 스카이 지키 로봇 위하 시작하 가쁘 사령관 금...</td>\n",
              "    </tr>\n",
              "    <tr>\n",
              "      <th>278</th>\n",
              "      <td>안녕, 티라노: 영원히, 함께</td>\n",
              "      <td>8.6</td>\n",
              "      <td>8.511366</td>\n",
              "      <td>펼쳐지 이제 사랑 천국 니야 약속 희망 아프 떠나 관하 이야기 비밀 우정 간직 가슴 혼자</td>\n",
              "    </tr>\n",
              "    <tr>\n",
              "      <th>261</th>\n",
              "      <td>체 게바라: 1부 아르헨티나</td>\n",
              "      <td>9.33</td>\n",
              "      <td>8.473346</td>\n",
              "      <td>펼치 문인 점령 민중 작전 고통 최후 감행 게릴라 군부 위하 카스트 독재 마지막 아...</td>\n",
              "    </tr>\n",
              "  </tbody>\n",
              "</table>\n",
              "</div>"
            ],
            "text/plain": [
              "                title  ...                                  summary_processed\n",
              "59           토이 스토리 4  ...  여행 새롭 사라지 친구 위험천만 장난감 떠나 버즈 만나 우리 거부 끝나 운명 나서 ...\n",
              "297               언더독  ...  적응 라이프 찰나 무리 떠나 만나 댕댕이 운명 고참 자유 꿈꾸 구하 뭉치 위하 역전...\n",
              "293      드래곤볼 슈퍼: 브로리  ...  전투 무기력 운명 뛰어넘 시도 나타나 처절 대회 엄청나 돌아오 되찾 오공 상상 최후...\n",
              "240            다크 나이트  ...  반장 펼치 고담 운명 작전 조직 내던지 악당 준비 제거 어리 조커 지키 최후 매이 ...\n",
              "158       존 윅 3: 파라벨룸  ...  모든 국제 파문 총구 출구 킬러 베리 준비 보호 내려지 찾아가 전설 위하 시시각각 ...\n",
              "254               아일라  ...  이름 칠흑 아이 서로 명령 이야기 포화 운명 발견 감동 실화 한국 부모 존재 감행 ...\n",
              "327      터미네이터 2:오리지널  ...  인간 코너 없애 미래 운명 과거 어리 스카이 지키 로봇 위하 시작하 가쁘 사령관 금...\n",
              "328           터미네이터 2  ...  인간 코너 없애 미래 운명 과거 어리 스카이 지키 로봇 위하 시작하 가쁘 사령관 금...\n",
              "278  안녕, 티라노: 영원히, 함께  ...  펼쳐지 이제 사랑 천국 니야 약속 희망 아프 떠나 관하 이야기 비밀 우정 간직 가슴 혼자\n",
              "261   체 게바라: 1부 아르헨티나  ...  펼치 문인 점령 민중 작전 고통 최후 감행 게릴라 군부 위하 카스트 독재 마지막 아...\n",
              "\n",
              "[10 rows x 4 columns]"
            ]
          },
          "metadata": {
            "tags": []
          },
          "execution_count": 21
        }
      ]
    },
    {
      "cell_type": "code",
      "metadata": {
        "id": "Vx5E3QLNhvJ6",
        "outputId": "7b44bf91-bed7-4a8f-f48f-b5e36aaa73a3",
        "colab": {
          "base_uri": "https://localhost:8080/",
          "height": 77
        }
      },
      "source": [
        "movie[movie['title'] == '보헤미안 랩소디'][['title','vote','weighted_vote','summary_processed']]"
      ],
      "execution_count": null,
      "outputs": [
        {
          "output_type": "execute_result",
          "data": {
            "text/html": [
              "<div>\n",
              "<style scoped>\n",
              "    .dataframe tbody tr th:only-of-type {\n",
              "        vertical-align: middle;\n",
              "    }\n",
              "\n",
              "    .dataframe tbody tr th {\n",
              "        vertical-align: top;\n",
              "    }\n",
              "\n",
              "    .dataframe thead th {\n",
              "        text-align: right;\n",
              "    }\n",
              "</style>\n",
              "<table border=\"1\" class=\"dataframe\">\n",
              "  <thead>\n",
              "    <tr style=\"text-align: right;\">\n",
              "      <th></th>\n",
              "      <th>title</th>\n",
              "      <th>vote</th>\n",
              "      <th>weighted_vote</th>\n",
              "      <th>summary_processed</th>\n",
              "    </tr>\n",
              "  </thead>\n",
              "  <tbody>\n",
              "    <tr>\n",
              "      <th>38</th>\n",
              "      <td>보헤미안 랩소디</td>\n",
              "      <td>9.45</td>\n",
              "      <td>9.427144</td>\n",
              "      <td>이름 시간 몰르 월드 일하 동안 이야기 퍼포먼스 우리 수하물 노동자 스타 독창적 외...</td>\n",
              "    </tr>\n",
              "  </tbody>\n",
              "</table>\n",
              "</div>"
            ],
            "text/plain": [
              "       title  ...                                  summary_processed\n",
              "38  보헤미안 랩소디  ...  이름 시간 몰르 월드 일하 동안 이야기 퍼포먼스 우리 수하물 노동자 스타 독창적 외...\n",
              "\n",
              "[1 rows x 4 columns]"
            ]
          },
          "metadata": {
            "tags": []
          },
          "execution_count": 22
        }
      ]
    },
    {
      "cell_type": "code",
      "metadata": {
        "id": "fvw51pCrw2Fx",
        "outputId": "8f2d8dd7-93cf-4d93-81be-c126b23fb4cc",
        "colab": {
          "base_uri": "https://localhost:8080/",
          "height": 345
        }
      },
      "source": [
        "similar_movies = find_sim_movie(movie, summ_sim_sorted_ind, '보헤미안 랩소디', 10)\n",
        "similar_movies[['title','vote','weighted_vote','summary_processed']]"
      ],
      "execution_count": null,
      "outputs": [
        {
          "output_type": "execute_result",
          "data": {
            "text/html": [
              "<div>\n",
              "<style scoped>\n",
              "    .dataframe tbody tr th:only-of-type {\n",
              "        vertical-align: middle;\n",
              "    }\n",
              "\n",
              "    .dataframe tbody tr th {\n",
              "        vertical-align: top;\n",
              "    }\n",
              "\n",
              "    .dataframe thead th {\n",
              "        text-align: right;\n",
              "    }\n",
              "</style>\n",
              "<table border=\"1\" class=\"dataframe\">\n",
              "  <thead>\n",
              "    <tr style=\"text-align: right;\">\n",
              "      <th></th>\n",
              "      <th>title</th>\n",
              "      <th>vote</th>\n",
              "      <th>weighted_vote</th>\n",
              "      <th>summary_processed</th>\n",
              "    </tr>\n",
              "  </thead>\n",
              "  <tbody>\n",
              "    <tr>\n",
              "      <th>231</th>\n",
              "      <td>스파이더맨: 뉴 유니버스</td>\n",
              "      <td>9.38</td>\n",
              "      <td>9.247214</td>\n",
              "      <td>평행 피터 모든 열리 결성 유니 만나 우리 스파이 마주치 가지 누아르 악당 물리 방...</td>\n",
              "    </tr>\n",
              "    <tr>\n",
              "      <th>182</th>\n",
              "      <td>브링 더 소울 : 더 무비</td>\n",
              "      <td>9.68</td>\n",
              "      <td>9.074111</td>\n",
              "      <td>시간 서울 소년단 이야기 둘르 뒤풀이 방탄 펼쳐지 풀어지 전세계 콘서트 끝나 열광 ...</td>\n",
              "    </tr>\n",
              "    <tr>\n",
              "      <th>272</th>\n",
              "      <td>너의 이름은.</td>\n",
              "      <td>9.02</td>\n",
              "      <td>9.004857</td>\n",
              "      <td>이름 흘러가 서로 시간 되어가 다가오 만나 우리 운명 혜성 메모 이상 뒤바뀌 낯설 ...</td>\n",
              "    </tr>\n",
              "    <tr>\n",
              "      <th>133</th>\n",
              "      <td>마이펫의 이중생활2</td>\n",
              "      <td>9</td>\n",
              "      <td>8.854875</td>\n",
              "      <td>사랑 라이프 생각 우리 영혼 집구석 시크 로이 완벽 모르 고프 자유 걱정 편하 스노...</td>\n",
              "    </tr>\n",
              "    <tr>\n",
              "      <th>145</th>\n",
              "      <td>범블비</td>\n",
              "      <td>8.75</td>\n",
              "      <td>8.706361</td>\n",
              "      <td>이름 인간 목격 서로 되어가 비의 이야기 자동차 발견 거대 가지 몰리 모르 광경 프...</td>\n",
              "    </tr>\n",
              "    <tr>\n",
              "      <th>202</th>\n",
              "      <td>위로공단</td>\n",
              "      <td>9.02</td>\n",
              "      <td>8.657658</td>\n",
              "      <td>이름 신음 담기 마니 오늘날 일하 이야기 여정 우리 오늘 독창적 과거 변모 감정 어...</td>\n",
              "    </tr>\n",
              "    <tr>\n",
              "      <th>67</th>\n",
              "      <td>왕이 될 아이</td>\n",
              "      <td>9.1</td>\n",
              "      <td>8.639181</td>\n",
              "      <td>엑스 미래 루이스 스튜 발견 포스 학교 레베카 나타나 마법사 절대악 꽂히 군단 바위...</td>\n",
              "    </tr>\n",
              "    <tr>\n",
              "      <th>269</th>\n",
              "      <td>신비아파트 극장판 하늘도깨비 대 요르문간드</td>\n",
              "      <td>8.72</td>\n",
              "      <td>8.624801</td>\n",
              "      <td>떠나 파괴 왕국 순간 거세 바닷속 발견 마사 비행기 남매 여행 겨울 하늘 깨비 합류...</td>\n",
              "    </tr>\n",
              "    <tr>\n",
              "      <th>254</th>\n",
              "      <td>아일라</td>\n",
              "      <td>9.13</td>\n",
              "      <td>8.586829</td>\n",
              "      <td>이름 칠흑 아이 서로 명령 이야기 포화 운명 발견 감동 실화 한국 부모 존재 감행 ...</td>\n",
              "    </tr>\n",
              "    <tr>\n",
              "      <th>21</th>\n",
              "      <td>로켓맨</td>\n",
              "      <td>8.8</td>\n",
              "      <td>8.585797</td>\n",
              "      <td>사랑 뒤흔들 상처 배신 순간 발매 퍼포먼스 독보적 대하 자리잡 노래 연잇 아이콘 진...</td>\n",
              "    </tr>\n",
              "  </tbody>\n",
              "</table>\n",
              "</div>"
            ],
            "text/plain": [
              "                       title  ...                                  summary_processed\n",
              "231            스파이더맨: 뉴 유니버스  ...  평행 피터 모든 열리 결성 유니 만나 우리 스파이 마주치 가지 누아르 악당 물리 방...\n",
              "182           브링 더 소울 : 더 무비  ...  시간 서울 소년단 이야기 둘르 뒤풀이 방탄 펼쳐지 풀어지 전세계 콘서트 끝나 열광 ...\n",
              "272                  너의 이름은.  ...  이름 흘러가 서로 시간 되어가 다가오 만나 우리 운명 혜성 메모 이상 뒤바뀌 낯설 ...\n",
              "133               마이펫의 이중생활2  ...  사랑 라이프 생각 우리 영혼 집구석 시크 로이 완벽 모르 고프 자유 걱정 편하 스노...\n",
              "145                      범블비  ...  이름 인간 목격 서로 되어가 비의 이야기 자동차 발견 거대 가지 몰리 모르 광경 프...\n",
              "202                     위로공단  ...  이름 신음 담기 마니 오늘날 일하 이야기 여정 우리 오늘 독창적 과거 변모 감정 어...\n",
              "67                   왕이 될 아이  ...  엑스 미래 루이스 스튜 발견 포스 학교 레베카 나타나 마법사 절대악 꽂히 군단 바위...\n",
              "269  신비아파트 극장판 하늘도깨비 대 요르문간드  ...  떠나 파괴 왕국 순간 거세 바닷속 발견 마사 비행기 남매 여행 겨울 하늘 깨비 합류...\n",
              "254                      아일라  ...  이름 칠흑 아이 서로 명령 이야기 포화 운명 발견 감동 실화 한국 부모 존재 감행 ...\n",
              "21                       로켓맨  ...  사랑 뒤흔들 상처 배신 순간 발매 퍼포먼스 독보적 대하 자리잡 노래 연잇 아이콘 진...\n",
              "\n",
              "[10 rows x 4 columns]"
            ]
          },
          "metadata": {
            "tags": []
          },
          "execution_count": 23
        }
      ]
    },
    {
      "cell_type": "markdown",
      "metadata": {
        "id": "0Vz7xV_4iEua"
      },
      "source": [
        "줄거리에 나타나는 키워드 유사도를 바탕으로 추천해보았을 때엔 `나름대로..` 비슷한 키워드가 포함된 영화들이 추천되는 것 같다. 물론 엄청난 관련은 없어보이지만... \n",
        "\n",
        "이제는 좀 더 세부적인 조건을 추가해보려고 한다.\n",
        "* 장르가 같으면 가산점\n",
        "* 감독이 같으면 가산점\n",
        "* 출연하는 배우가 같으면 가산점\n",
        "\n",
        "---\n",
        "\n",
        "### 장르가 같으면 가산점\n",
        "장르는 기본적으로 포함하여 줄거리 유사도와 장르의 일치여부를 판단하여 추천해보려고 한다. \n",
        "\n",
        "### 감독, 출연하는 배우가 같으면 가산점\n",
        "이 부분은 `선택`으로 줄 생각이다. 만약 입력되지 않는다면 장르와 줄거리 유사도를 기반으로 10가지 영화를 추천하는 반면에, 감독이나 배우가 입력된다면 유사도의 우선순위를 `장르 > 감독 or 배우 > 줄거리유사도` 순으로 주고, 입력되지 않는다면 유사도 우선순위를 `장르 > 줄거리유사도` 순으로 준다.\n",
        "\n",
        "\n",
        "이는 해당 영화를 좋아한다고 해서 그 영화의 `감독`을 좋아하진 않는다는 가정을 바탕으로 진행하며 `배우` 또한 마찬가지이다. "
      ]
    },
    {
      "cell_type": "markdown",
      "metadata": {
        "id": "f6JmJWuljIMd"
      },
      "source": [
        "앞서 구현했던 find_sim_movie를 장르를 포함할 수 있도록 수정해보자.\n",
        "대신, 동일한 장르의 영화만 10가지 모두 추천되지 않도록 같은 장르의 영화는 50% 추천될 수 있도록 해보자."
      ]
    },
    {
      "cell_type": "code",
      "metadata": {
        "id": "Pf03YK3uosYT"
      },
      "source": [
        "from sklearn.feature_extraction.text import CountVectorizer\n",
        "def get_similarity(df):\n",
        "  count_vect = CountVectorizer(min_df = 0, ngram_range=(1,2))\n",
        "  mat = count_vect.fit_transform(df['summary_processed'])\n",
        "\n",
        "  sim = cosine_similarity(mat, mat)\n",
        "  sim_sorted_ind = sim.argsort()[:,::-1]\n",
        "  return mat, sim, sim_sorted_ind"
      ],
      "execution_count": null,
      "outputs": []
    },
    {
      "cell_type": "code",
      "metadata": {
        "id": "T-3hPBUCnmEM"
      },
      "source": [
        "summ_mat, summ_sim, summ_sim_sorted_ind = get_similarity(movie)"
      ],
      "execution_count": null,
      "outputs": []
    },
    {
      "cell_type": "markdown",
      "metadata": {
        "id": "bhG4p5zGogYp"
      },
      "source": [
        "1. 장르가 일치하는 것에서 줄거리 유사도를 산충해서 높은 것 5가지를 뽑는다.\n",
        "2. 줄거리 유사도가 일치하는 것들 중 1과 겹치지 않는 것을 추가한다."
      ]
    },
    {
      "cell_type": "code",
      "metadata": {
        "id": "gdfRrvAQjDk8"
      },
      "source": [
        "def find_sim_movie(df, summ_sorted_ind, title_name, top_n = 10):\n",
        "    # 인자로 입력된 df에서 'title' 칼럼이 입력된 title_name 값인 데이터프레임 추출\n",
        "    title_movie = df[df['title'] == title_name]\n",
        "    title_index = title_movie.index.values\n",
        "\n",
        "    #먼저, 장르가 일치하는 것들에 대한 dataframe을 구한다.\n",
        "    genre = df[df['title'] == title_name]['genre']\n",
        "    genre_name = genre.values[0]\n",
        "\n",
        "    print(\"추천 기준 영화 정보\")\n",
        "    print(df[df['title'] == title_name][['title','genre','summary_processed']])\n",
        "\n",
        "    genre_df = df[df['genre'] == genre_name]\n",
        "    genre_df.reset_index(inplace = True)\n",
        "    genre_df.drop(['index'], axis=1, inplace = True)\n",
        "    \n",
        "    g_mat, g_sim, g_sim_sorted_ind = get_similarity(genre_df)\n",
        "    g_title_movie = genre_df[genre_df['title'] == title_name]\n",
        "    g_title_index = g_title_movie.index.values\n",
        "    g_similar_indexes = g_sim_sorted_ind[g_title_index, :(top_n)]\n",
        "    g_similar_indexes = g_similar_indexes.reshape(-1)\n",
        "    g_similar_indexes = g_similar_indexes[g_similar_indexes != g_title_index]\n",
        "    g = genre_df.iloc[g_similar_indexes].sort_values('weighted_vote',ascending=False)[:top_n//2]\n",
        "\n",
        "# /    줄거리가 유사한 것들에 대해 다시 진행\n",
        "    similar_indexes = summ_sorted_ind[title_index, :(top_n)]\n",
        "    similar_indexes = similar_indexes.reshape(-1) #1차원 array로 변경\n",
        "    similar_indexes = similar_indexes[similar_indexes != title_index]\n",
        "    s = df.iloc[similar_indexes].sort_values('weighted_vote',ascending=False)[:top_n//2]\n",
        "\n",
        "    # 혹시 모를 후보군\n",
        "    candidate = df.iloc[similar_indexes].sort_values('weighted_vote',ascending=False)[:top_n//2]\n",
        "\n",
        "    result = pd.concat([g, s])\n",
        "    result = result.sort_values('weighted_vote', ascending=False)\n",
        "    result.reset_index(inplace = True)\n",
        "    result.drop(['index'],axis=1,inplace=True)\n",
        "    result = result.drop_duplicates(['title'], keep='first') #중복 제거\n",
        "\n",
        "    if len(result) < 10: #열개보다 적은 경우\n",
        "      result = pd.concat([result, candidate]) #후보군과 먼저 합친다.\n",
        "      result = result.drop_duplicates(['title'], keep='first') #다시 중복을 제거하고\n",
        "      result = result[:top_n] #열개만큼 잘라낸 뒤,\n",
        "      result = result.sort_values('weighted_vote',ascending=False) #다시 별점 순으로 변경\n",
        "    return result"
      ],
      "execution_count": null,
      "outputs": []
    },
    {
      "cell_type": "code",
      "metadata": {
        "id": "2cqzT60Q1Lpt",
        "outputId": "d619d1af-8ddc-48db-d9b7-a2c24c66bcf3",
        "colab": {
          "base_uri": "https://localhost:8080/",
          "height": 368
        }
      },
      "source": [
        "similar_movies = find_sim_movie(movie, summ_sim_sorted_ind, '어벤져스: 엔드게임', 10)\n",
        "similar_movies[['title','vote','weighted_vote','genre','summary_processed']]"
      ],
      "execution_count": null,
      "outputs": [
        {
          "output_type": "stream",
          "text": [
            "추천 기준 영화 정보\n",
            "          title genre                             summary_processed\n",
            "326  어벤져스: 엔드게임    액션  희망 위대 지구 떠나 이후 전쟁 살아남 마지막 최후 운명 바꾸 절반 위하 펼쳐지\n"
          ],
          "name": "stdout"
        },
        {
          "output_type": "execute_result",
          "data": {
            "text/html": [
              "<div>\n",
              "<style scoped>\n",
              "    .dataframe tbody tr th:only-of-type {\n",
              "        vertical-align: middle;\n",
              "    }\n",
              "\n",
              "    .dataframe tbody tr th {\n",
              "        vertical-align: top;\n",
              "    }\n",
              "\n",
              "    .dataframe thead th {\n",
              "        text-align: right;\n",
              "    }\n",
              "</style>\n",
              "<table border=\"1\" class=\"dataframe\">\n",
              "  <thead>\n",
              "    <tr style=\"text-align: right;\">\n",
              "      <th></th>\n",
              "      <th>title</th>\n",
              "      <th>vote</th>\n",
              "      <th>weighted_vote</th>\n",
              "      <th>genre</th>\n",
              "      <th>summary_processed</th>\n",
              "    </tr>\n",
              "  </thead>\n",
              "  <tbody>\n",
              "    <tr>\n",
              "      <th>0</th>\n",
              "      <td>토이 스토리 4</td>\n",
              "      <td>9.23</td>\n",
              "      <td>9.151045</td>\n",
              "      <td>애니메이션</td>\n",
              "      <td>여행 새롭 사라지 친구 위험천만 장난감 떠나 버즈 만나 우리 거부 끝나 운명 나서 ...</td>\n",
              "    </tr>\n",
              "    <tr>\n",
              "      <th>1</th>\n",
              "      <td>어벤져스: 인피니티 워</td>\n",
              "      <td>9.08</td>\n",
              "      <td>9.067384</td>\n",
              "      <td>액션</td>\n",
              "      <td>펼쳐지 최강 목격 조합 역대 걸리 스톤 세계 무한 운명 향하 대결 마블 클라이맥스 이루</td>\n",
              "    </tr>\n",
              "    <tr>\n",
              "      <th>2</th>\n",
              "      <td>드래곤볼 슈퍼: 브로리</td>\n",
              "      <td>9.47</td>\n",
              "      <td>8.847628</td>\n",
              "      <td>애니메이션</td>\n",
              "      <td>전투 무기력 운명 뛰어넘 시도 나타나 처절 대회 엄청나 돌아오 되찾 오공 상상 최후...</td>\n",
              "    </tr>\n",
              "    <tr>\n",
              "      <th>3</th>\n",
              "      <td>다크 나이트</td>\n",
              "      <td>9.65</td>\n",
              "      <td>8.617197</td>\n",
              "      <td>액션</td>\n",
              "      <td>반장 펼치 고담 운명 작전 조직 내던지 악당 준비 제거 어리 조커 지키 최후 매이 ...</td>\n",
              "    </tr>\n",
              "    <tr>\n",
              "      <th>5</th>\n",
              "      <td>존 윅 3: 파라벨룸</td>\n",
              "      <td>8.64</td>\n",
              "      <td>8.604717</td>\n",
              "      <td>액션</td>\n",
              "      <td>모든 국제 파문 총구 출구 킬러 베리 준비 보호 내려지 찾아가 전설 위하 시시각각 ...</td>\n",
              "    </tr>\n",
              "    <tr>\n",
              "      <th>6</th>\n",
              "      <td>아일라</td>\n",
              "      <td>9.13</td>\n",
              "      <td>8.586829</td>\n",
              "      <td>드라마</td>\n",
              "      <td>이름 칠흑 아이 서로 명령 이야기 포화 운명 발견 감동 실화 한국 부모 존재 감행 ...</td>\n",
              "    </tr>\n",
              "    <tr>\n",
              "      <th>7</th>\n",
              "      <td>안녕, 티라노: 영원히, 함께</td>\n",
              "      <td>8.6</td>\n",
              "      <td>8.511366</td>\n",
              "      <td>애니메이션</td>\n",
              "      <td>펼쳐지 이제 사랑 천국 니야 약속 희망 아프 떠나 관하 이야기 비밀 우정 간직 가슴 혼자</td>\n",
              "    </tr>\n",
              "    <tr>\n",
              "      <th>8</th>\n",
              "      <td>캡틴 마블</td>\n",
              "      <td>8.45</td>\n",
              "      <td>8.450464</td>\n",
              "      <td>액션</td>\n",
              "      <td>살아가 희망 위협 크리 요원 사무엘 발견 감지 공군 합치 캐럴 버스 위기 불시착 빠...</td>\n",
              "    </tr>\n",
              "    <tr>\n",
              "      <th>9</th>\n",
              "      <td>안나</td>\n",
              "      <td>8.2</td>\n",
              "      <td>8.402304</td>\n",
              "      <td>액션</td>\n",
              "      <td>킬러 모든 코어 위협 루스 제거 하드 시작 미션 마지막 살아남 액션 모델 파리 위하 위장</td>\n",
              "    </tr>\n",
              "  </tbody>\n",
              "</table>\n",
              "</div>"
            ],
            "text/plain": [
              "              title  ...                                  summary_processed\n",
              "0          토이 스토리 4  ...  여행 새롭 사라지 친구 위험천만 장난감 떠나 버즈 만나 우리 거부 끝나 운명 나서 ...\n",
              "1      어벤져스: 인피니티 워  ...   펼쳐지 최강 목격 조합 역대 걸리 스톤 세계 무한 운명 향하 대결 마블 클라이맥스 이루\n",
              "2      드래곤볼 슈퍼: 브로리  ...  전투 무기력 운명 뛰어넘 시도 나타나 처절 대회 엄청나 돌아오 되찾 오공 상상 최후...\n",
              "3            다크 나이트  ...  반장 펼치 고담 운명 작전 조직 내던지 악당 준비 제거 어리 조커 지키 최후 매이 ...\n",
              "5       존 윅 3: 파라벨룸  ...  모든 국제 파문 총구 출구 킬러 베리 준비 보호 내려지 찾아가 전설 위하 시시각각 ...\n",
              "6               아일라  ...  이름 칠흑 아이 서로 명령 이야기 포화 운명 발견 감동 실화 한국 부모 존재 감행 ...\n",
              "7  안녕, 티라노: 영원히, 함께  ...  펼쳐지 이제 사랑 천국 니야 약속 희망 아프 떠나 관하 이야기 비밀 우정 간직 가슴 혼자\n",
              "8             캡틴 마블  ...  살아가 희망 위협 크리 요원 사무엘 발견 감지 공군 합치 캐럴 버스 위기 불시착 빠...\n",
              "9                안나  ...  킬러 모든 코어 위협 루스 제거 하드 시작 미션 마지막 살아남 액션 모델 파리 위하 위장\n",
              "\n",
              "[9 rows x 5 columns]"
            ]
          },
          "metadata": {
            "tags": []
          },
          "execution_count": 28
        }
      ]
    },
    {
      "cell_type": "code",
      "metadata": {
        "id": "06W4yUs6rjXO",
        "outputId": "d26ff066-c1be-4bdb-d6d9-3580ef3d69f8",
        "colab": {
          "base_uri": "https://localhost:8080/",
          "height": 368
        }
      },
      "source": [
        "similar_movies = find_sim_movie(movie, summ_sim_sorted_ind, '보헤미안 랩소디', 10)\n",
        "similar_movies[['title','vote','weighted_vote','genre','summary_processed']]"
      ],
      "execution_count": null,
      "outputs": [
        {
          "output_type": "stream",
          "text": [
            "추천 기준 영화 정보\n",
            "       title genre                                  summary_processed\n",
            "38  보헤미안 랩소디   드라마  이름 시간 몰르 월드 일하 동안 이야기 퍼포먼스 우리 수하물 노동자 스타 독창적 외...\n"
          ],
          "name": "stdout"
        },
        {
          "output_type": "execute_result",
          "data": {
            "text/html": [
              "<div>\n",
              "<style scoped>\n",
              "    .dataframe tbody tr th:only-of-type {\n",
              "        vertical-align: middle;\n",
              "    }\n",
              "\n",
              "    .dataframe tbody tr th {\n",
              "        vertical-align: top;\n",
              "    }\n",
              "\n",
              "    .dataframe thead th {\n",
              "        text-align: right;\n",
              "    }\n",
              "</style>\n",
              "<table border=\"1\" class=\"dataframe\">\n",
              "  <thead>\n",
              "    <tr style=\"text-align: right;\">\n",
              "      <th></th>\n",
              "      <th>title</th>\n",
              "      <th>vote</th>\n",
              "      <th>weighted_vote</th>\n",
              "      <th>genre</th>\n",
              "      <th>summary_processed</th>\n",
              "    </tr>\n",
              "  </thead>\n",
              "  <tbody>\n",
              "    <tr>\n",
              "      <th>0</th>\n",
              "      <td>스파이더맨: 뉴 유니버스</td>\n",
              "      <td>9.38</td>\n",
              "      <td>9.247214</td>\n",
              "      <td>애니메이션</td>\n",
              "      <td>평행 피터 모든 열리 결성 유니 만나 우리 스파이 마주치 가지 누아르 악당 물리 방...</td>\n",
              "    </tr>\n",
              "    <tr>\n",
              "      <th>1</th>\n",
              "      <td>너의 이름은.</td>\n",
              "      <td>9.02</td>\n",
              "      <td>9.004857</td>\n",
              "      <td>애니메이션</td>\n",
              "      <td>이름 흘러가 서로 시간 되어가 다가오 만나 우리 운명 혜성 메모 이상 뒤바뀌 낯설 ...</td>\n",
              "    </tr>\n",
              "    <tr>\n",
              "      <th>2</th>\n",
              "      <td>생일</td>\n",
              "      <td>9.01</td>\n",
              "      <td>8.902019</td>\n",
              "      <td>드라마</td>\n",
              "      <td>아들 살아가 서로 떠나 이야기 만나 우리 생일 간직 돌아오 가족 남기 정일 특별 이...</td>\n",
              "    </tr>\n",
              "    <tr>\n",
              "      <th>3</th>\n",
              "      <td>위로공단</td>\n",
              "      <td>9.02</td>\n",
              "      <td>8.657658</td>\n",
              "      <td>다큐멘터리</td>\n",
              "      <td>이름 신음 담기 마니 오늘날 일하 이야기 여정 우리 오늘 독창적 과거 변모 감정 어...</td>\n",
              "    </tr>\n",
              "    <tr>\n",
              "      <th>4</th>\n",
              "      <td>신비아파트 극장판 하늘도깨비 대 요르문간드</td>\n",
              "      <td>8.72</td>\n",
              "      <td>8.624801</td>\n",
              "      <td>애니메이션</td>\n",
              "      <td>떠나 파괴 왕국 순간 거세 바닷속 발견 마사 비행기 남매 여행 겨울 하늘 깨비 합류...</td>\n",
              "    </tr>\n",
              "    <tr>\n",
              "      <th>5</th>\n",
              "      <td>아일라</td>\n",
              "      <td>9.13</td>\n",
              "      <td>8.586829</td>\n",
              "      <td>드라마</td>\n",
              "      <td>이름 칠흑 아이 서로 명령 이야기 포화 운명 발견 감동 실화 한국 부모 존재 감행 ...</td>\n",
              "    </tr>\n",
              "    <tr>\n",
              "      <th>6</th>\n",
              "      <td>로켓맨</td>\n",
              "      <td>8.8</td>\n",
              "      <td>8.585797</td>\n",
              "      <td>드라마</td>\n",
              "      <td>사랑 뒤흔들 상처 배신 순간 발매 퍼포먼스 독보적 대하 자리잡 노래 연잇 아이콘 진...</td>\n",
              "    </tr>\n",
              "    <tr>\n",
              "      <th>8</th>\n",
              "      <td>쉰들러 리스트</td>\n",
              "      <td>9.3</td>\n",
              "      <td>8.580307</td>\n",
              "      <td>드라마</td>\n",
              "      <td>적히 인건비 서서 그곳 독일 도시 이자 점령 방법 독일인 나치 용기 기회 폴란드 회...</td>\n",
              "    </tr>\n",
              "    <tr>\n",
              "      <th>9</th>\n",
              "      <td>미성년</td>\n",
              "      <td>8.64</td>\n",
              "      <td>8.574603</td>\n",
              "      <td>드라마</td>\n",
              "      <td>관심 어떻 동안 이야기 만나 폭풍 주리 수습 소진 학교 모르 엄청나 불러오 아빠 미...</td>\n",
              "    </tr>\n",
              "  </tbody>\n",
              "</table>\n",
              "</div>"
            ],
            "text/plain": [
              "                     title  ...                                  summary_processed\n",
              "0            스파이더맨: 뉴 유니버스  ...  평행 피터 모든 열리 결성 유니 만나 우리 스파이 마주치 가지 누아르 악당 물리 방...\n",
              "1                  너의 이름은.  ...  이름 흘러가 서로 시간 되어가 다가오 만나 우리 운명 혜성 메모 이상 뒤바뀌 낯설 ...\n",
              "2                       생일  ...  아들 살아가 서로 떠나 이야기 만나 우리 생일 간직 돌아오 가족 남기 정일 특별 이...\n",
              "3                     위로공단  ...  이름 신음 담기 마니 오늘날 일하 이야기 여정 우리 오늘 독창적 과거 변모 감정 어...\n",
              "4  신비아파트 극장판 하늘도깨비 대 요르문간드  ...  떠나 파괴 왕국 순간 거세 바닷속 발견 마사 비행기 남매 여행 겨울 하늘 깨비 합류...\n",
              "5                      아일라  ...  이름 칠흑 아이 서로 명령 이야기 포화 운명 발견 감동 실화 한국 부모 존재 감행 ...\n",
              "6                      로켓맨  ...  사랑 뒤흔들 상처 배신 순간 발매 퍼포먼스 독보적 대하 자리잡 노래 연잇 아이콘 진...\n",
              "8                  쉰들러 리스트  ...  적히 인건비 서서 그곳 독일 도시 이자 점령 방법 독일인 나치 용기 기회 폴란드 회...\n",
              "9                      미성년  ...  관심 어떻 동안 이야기 만나 폭풍 주리 수습 소진 학교 모르 엄청나 불러오 아빠 미...\n",
              "\n",
              "[9 rows x 5 columns]"
            ]
          },
          "metadata": {
            "tags": []
          },
          "execution_count": 29
        }
      ]
    },
    {
      "cell_type": "code",
      "metadata": {
        "id": "fQ0V9oEczGtI",
        "outputId": "29645f55-dd0a-49ff-9d06-0133340e3b90",
        "colab": {
          "base_uri": "https://localhost:8080/",
          "height": 368
        }
      },
      "source": [
        "similar_movies = find_sim_movie(movie, summ_sim_sorted_ind, '알라딘', 10)\n",
        "similar_movies[['title','vote','weighted_vote','genre','summary_processed']]"
      ],
      "execution_count": null,
      "outputs": [
        {
          "output_type": "stream",
          "text": [
            "추천 기준 영화 정보\n",
            "   title genre                                  summary_processed\n",
            "50   알라딘    모험  소원 사막 아그라 생각 왕국 만나 가지 마법사 들어주 자파 좀도둑 마음 의뢰 자스민...\n"
          ],
          "name": "stdout"
        },
        {
          "output_type": "execute_result",
          "data": {
            "text/html": [
              "<div>\n",
              "<style scoped>\n",
              "    .dataframe tbody tr th:only-of-type {\n",
              "        vertical-align: middle;\n",
              "    }\n",
              "\n",
              "    .dataframe tbody tr th {\n",
              "        vertical-align: top;\n",
              "    }\n",
              "\n",
              "    .dataframe thead th {\n",
              "        text-align: right;\n",
              "    }\n",
              "</style>\n",
              "<table border=\"1\" class=\"dataframe\">\n",
              "  <thead>\n",
              "    <tr style=\"text-align: right;\">\n",
              "      <th></th>\n",
              "      <th>title</th>\n",
              "      <th>vote</th>\n",
              "      <th>weighted_vote</th>\n",
              "      <th>genre</th>\n",
              "      <th>summary_processed</th>\n",
              "    </tr>\n",
              "  </thead>\n",
              "  <tbody>\n",
              "    <tr>\n",
              "      <th>0</th>\n",
              "      <td>토이 스토리 4</td>\n",
              "      <td>9.23</td>\n",
              "      <td>9.151045</td>\n",
              "      <td>애니메이션</td>\n",
              "      <td>여행 새롭 사라지 친구 위험천만 장난감 떠나 버즈 만나 우리 거부 끝나 운명 나서 ...</td>\n",
              "    </tr>\n",
              "    <tr>\n",
              "      <th>1</th>\n",
              "      <td>레드슈즈</td>\n",
              "      <td>9.14</td>\n",
              "      <td>8.938324</td>\n",
              "      <td>애니메이션</td>\n",
              "      <td>이전 끊이 난쟁이 신고 희망 생각 왕국 운명 아름다움 구두 완벽 초록색 머물 사고 ...</td>\n",
              "    </tr>\n",
              "    <tr>\n",
              "      <th>2</th>\n",
              "      <td>겨울왕국 2</td>\n",
              "      <td>8.95</td>\n",
              "      <td>8.926177</td>\n",
              "      <td>애니메이션</td>\n",
              "      <td>두려워하 스토프 위협 떠나 왕국 만나 운명 과거 목소리 알려주 나가 진실 조언 누구...</td>\n",
              "    </tr>\n",
              "    <tr>\n",
              "      <th>3</th>\n",
              "      <td>왕이 될 아이</td>\n",
              "      <td>9.1</td>\n",
              "      <td>8.639181</td>\n",
              "      <td>모험</td>\n",
              "      <td>엑스 미래 루이스 스튜 발견 포스 학교 레베카 나타나 마법사 절대악 꽂히 군단 바위...</td>\n",
              "    </tr>\n",
              "    <tr>\n",
              "      <th>4</th>\n",
              "      <td>라이온 킹</td>\n",
              "      <td>8.64</td>\n",
              "      <td>8.622503</td>\n",
              "      <td>모험</td>\n",
              "      <td>희망 죽음 날르 떠나 왕국 어린 만나 대하 삼촌 과거 마주하 용기 의욕 야심 되찾 ...</td>\n",
              "    </tr>\n",
              "    <tr>\n",
              "      <th>5</th>\n",
              "      <td>시인 할매</td>\n",
              "      <td>9.53</td>\n",
              "      <td>8.558421</td>\n",
              "      <td>다큐멘터리</td>\n",
              "      <td>박사 이름 소원 모질 세월 시집살이 전부 할매 위로 만나 가족 만이 서럽 석자 배우...</td>\n",
              "    </tr>\n",
              "    <tr>\n",
              "      <th>6</th>\n",
              "      <td>위시업</td>\n",
              "      <td>9</td>\n",
              "      <td>8.468522</td>\n",
              "      <td>뮤지컬</td>\n",
              "      <td>일은 소원 시기 모든 음색 운동 순간 방법 발견 스타 노래 나타나 니르 즐기 들어주...</td>\n",
              "    </tr>\n",
              "    <tr>\n",
              "      <th>7</th>\n",
              "      <td>필그리미지</td>\n",
              "      <td>7.8</td>\n",
              "      <td>8.454642</td>\n",
              "      <td>모험</td>\n",
              "      <td>위협 한창 십자군 로마 노리 가지 벙어리 나타나 수도사 이르 지키 내고 수도원 위하...</td>\n",
              "    </tr>\n",
              "    <tr>\n",
              "      <th>8</th>\n",
              "      <td>신비한 동물들과 그린델왈드의 범죄</td>\n",
              "      <td>7.46</td>\n",
              "      <td>7.595966</td>\n",
              "      <td>모험</td>\n",
              "      <td>장담 운명 활약 야욕 알버스 마법사 순혈 세력 레드 합중국 모으 위하 탈출 분열 사...</td>\n",
              "    </tr>\n",
              "  </tbody>\n",
              "</table>\n",
              "</div>"
            ],
            "text/plain": [
              "                title  ...                                  summary_processed\n",
              "0            토이 스토리 4  ...  여행 새롭 사라지 친구 위험천만 장난감 떠나 버즈 만나 우리 거부 끝나 운명 나서 ...\n",
              "1                레드슈즈  ...  이전 끊이 난쟁이 신고 희망 생각 왕국 운명 아름다움 구두 완벽 초록색 머물 사고 ...\n",
              "2              겨울왕국 2  ...  두려워하 스토프 위협 떠나 왕국 만나 운명 과거 목소리 알려주 나가 진실 조언 누구...\n",
              "3             왕이 될 아이  ...  엑스 미래 루이스 스튜 발견 포스 학교 레베카 나타나 마법사 절대악 꽂히 군단 바위...\n",
              "4               라이온 킹  ...  희망 죽음 날르 떠나 왕국 어린 만나 대하 삼촌 과거 마주하 용기 의욕 야심 되찾 ...\n",
              "5               시인 할매  ...  박사 이름 소원 모질 세월 시집살이 전부 할매 위로 만나 가족 만이 서럽 석자 배우...\n",
              "6                 위시업  ...  일은 소원 시기 모든 음색 운동 순간 방법 발견 스타 노래 나타나 니르 즐기 들어주...\n",
              "7               필그리미지  ...  위협 한창 십자군 로마 노리 가지 벙어리 나타나 수도사 이르 지키 내고 수도원 위하...\n",
              "8  신비한 동물들과 그린델왈드의 범죄  ...  장담 운명 활약 야욕 알버스 마법사 순혈 세력 레드 합중국 모으 위하 탈출 분열 사...\n",
              "\n",
              "[9 rows x 5 columns]"
            ]
          },
          "metadata": {
            "tags": []
          },
          "execution_count": 30
        }
      ]
    },
    {
      "cell_type": "markdown",
      "metadata": {
        "id": "lpUwOKAf8SMR"
      },
      "source": [
        "### 감독명과 배우명 추가하기"
      ]
    },
    {
      "cell_type": "markdown",
      "metadata": {
        "id": "o1Zxp6ph-Arv"
      },
      "source": [
        "* 감독만 입력으로 들어오는 경우  \n",
        "`감장줄 5 감장 3 감줄 2 감 1`\n",
        "* 배우만 입력으로 들어오는 경우  \n",
        "`배장줄 5 배장2 배줄 2 배 1`\n",
        "* 감독 & 배우가 입력으로 들어오는 경우  \n",
        "`감배장줄 5 감배장 2 감배줄2 감배1`   \n",
        "  * 만약, 감독&배우가 겹치는 영화가 5개 미만인 경우  \n",
        "  `감장줄2, 배장줄2 > 감배장2 없으면 감장 + 배장 2> 감배줄유 2 없으면 감줄 + 배줄 2 > 감배 2`"
      ]
    },
    {
      "cell_type": "code",
      "metadata": {
        "id": "ki7l0lDoCiTX",
        "outputId": "e9f46dbe-6cbd-4177-840e-8a1fdce45a41",
        "colab": {
          "base_uri": "https://localhost:8080/",
          "height": 364
        }
      },
      "source": [
        "movie.head(5)"
      ],
      "execution_count": null,
      "outputs": [
        {
          "output_type": "execute_result",
          "data": {
            "text/html": [
              "<div>\n",
              "<style scoped>\n",
              "    .dataframe tbody tr th:only-of-type {\n",
              "        vertical-align: middle;\n",
              "    }\n",
              "\n",
              "    .dataframe tbody tr th {\n",
              "        vertical-align: top;\n",
              "    }\n",
              "\n",
              "    .dataframe thead th {\n",
              "        text-align: right;\n",
              "    }\n",
              "</style>\n",
              "<table border=\"1\" class=\"dataframe\">\n",
              "  <thead>\n",
              "    <tr style=\"text-align: right;\">\n",
              "      <th></th>\n",
              "      <th>title</th>\n",
              "      <th>genre</th>\n",
              "      <th>vote</th>\n",
              "      <th>vote_count</th>\n",
              "      <th>director</th>\n",
              "      <th>cast</th>\n",
              "      <th>summary</th>\n",
              "      <th>imagelink</th>\n",
              "      <th>summary_processed</th>\n",
              "      <th>weighted_vote</th>\n",
              "    </tr>\n",
              "  </thead>\n",
              "  <tbody>\n",
              "    <tr>\n",
              "      <th>0</th>\n",
              "      <td>포드 V 페라리</td>\n",
              "      <td>액션</td>\n",
              "      <td>9.31</td>\n",
              "      <td>1118</td>\n",
              "      <td>제임스 맨골드</td>\n",
              "      <td>['맷 데이먼', '크리스찬 베일']</td>\n",
              "      <td>자존심을 건 대결의 시작!1960년대, 매출 감소에 빠진 ‘포드’는 판매 활로를 찾...</td>\n",
              "      <td>https://movie-phinf.pstatic.net/20191204_91/15...</td>\n",
              "      <td>우승자 맞추 펼치 절대적 시간 출전 입맛 불가능 자동차 레이서 이자 활로 타협 판매...</td>\n",
              "      <td>9.125478</td>\n",
              "    </tr>\n",
              "    <tr>\n",
              "      <th>1</th>\n",
              "      <td>감쪽같은 그녀</td>\n",
              "      <td>드라마</td>\n",
              "      <td>8.83</td>\n",
              "      <td>208</td>\n",
              "      <td>허인무</td>\n",
              "      <td>['나문희', '김수안']</td>\n",
              "      <td>“초면에 실례하겠습니다~”\\n 72살 나 홀로 라이프를 즐기는 ‘말순’ 할매의 인생...</td>\n",
              "      <td>https://movie-phinf.pstatic.net/20191204_6/157...</td>\n",
              "      <td>라이프 동생 외모 서로 시간 되어가 취향 순간 갓나 성격 벌이 나타나 못하 극인 즐...</td>\n",
              "      <td>8.610960</td>\n",
              "    </tr>\n",
              "    <tr>\n",
              "      <th>2</th>\n",
              "      <td>백두산</td>\n",
              "      <td>드라마</td>\n",
              "      <td>7.47</td>\n",
              "      <td>2828</td>\n",
              "      <td>이해준</td>\n",
              "      <td>['이병헌', '하정우', '마동석']</td>\n",
              "      <td>대한민국 관측 역사상 최대 규모의 백두산 폭발 발생.\\n 갑작스러운 재난에 한반도는...</td>\n",
              "      <td>https://movie-phinf.pstatic.net/20191219_263/1...</td>\n",
              "      <td>최대 접선 시간 서울 행동 자원 규모 운명 동석 작전 전역 남과 모르 펼쳐지 성공 ...</td>\n",
              "      <td>7.568992</td>\n",
              "    </tr>\n",
              "    <tr>\n",
              "      <th>3</th>\n",
              "      <td>시동</td>\n",
              "      <td>드라마</td>\n",
              "      <td>8.68</td>\n",
              "      <td>1780</td>\n",
              "      <td>최정열</td>\n",
              "      <td>['마동석', '박정민', '정해인']</td>\n",
              "      <td>학교도 싫고 집도 싫고 공부는 더더욱 싫다며\\n '엄마'(염정아)에게 1일 1강스파...</td>\n",
              "      <td>https://movie-phinf.pstatic.net/20200117_56/15...</td>\n",
              "      <td>뛰어들 최대 적수 스파이크 만나 무섭 해인 동석 포스 공부 학교 택일 뛰쳐나가 거석...</td>\n",
              "      <td>8.647918</td>\n",
              "    </tr>\n",
              "    <tr>\n",
              "      <th>4</th>\n",
              "      <td>블랙머니</td>\n",
              "      <td>범죄</td>\n",
              "      <td>8.75</td>\n",
              "      <td>862</td>\n",
              "      <td>정지영</td>\n",
              "      <td>['조진웅', '이하늬']</td>\n",
              "      <td>고발은 의무! 수사는 직진!\\n할말은 하고 깔 건 깐다!일명 서울지검 ‘막프로’! ...</td>\n",
              "      <td>https://movie-phinf.pstatic.net/20191113_203/1...</td>\n",
              "      <td>이름 해외 최대 프로 담당 서울 누명 헐값 문제 거대 내몰리 금융 마주하 근거 일명...</td>\n",
              "      <td>8.674220</td>\n",
              "    </tr>\n",
              "  </tbody>\n",
              "</table>\n",
              "</div>"
            ],
            "text/plain": [
              "      title  ... weighted_vote\n",
              "0  포드 V 페라리  ...      9.125478\n",
              "1   감쪽같은 그녀  ...      8.610960\n",
              "2       백두산  ...      7.568992\n",
              "3        시동  ...      8.647918\n",
              "4      블랙머니  ...      8.674220\n",
              "\n",
              "[5 rows x 10 columns]"
            ]
          },
          "metadata": {
            "tags": []
          },
          "execution_count": 31
        }
      ]
    },
    {
      "cell_type": "code",
      "metadata": {
        "id": "o3I7kYH5CB2Y",
        "outputId": "0ca91c9c-bf07-428f-dac9-a939238f1625",
        "colab": {
          "base_uri": "https://localhost:8080/",
          "height": 237
        }
      },
      "source": [
        "# 감독, 배우가 일치하는 것들에 대한 dataframe을 뽑기\n",
        "director_name = '봉준호'\n",
        "\n",
        "# 감독이 일치하는 데이터프레임\n",
        "director = movie[movie['director'] == director_name]\n",
        "director.head()"
      ],
      "execution_count": null,
      "outputs": [
        {
          "output_type": "execute_result",
          "data": {
            "text/html": [
              "<div>\n",
              "<style scoped>\n",
              "    .dataframe tbody tr th:only-of-type {\n",
              "        vertical-align: middle;\n",
              "    }\n",
              "\n",
              "    .dataframe tbody tr th {\n",
              "        vertical-align: top;\n",
              "    }\n",
              "\n",
              "    .dataframe thead th {\n",
              "        text-align: right;\n",
              "    }\n",
              "</style>\n",
              "<table border=\"1\" class=\"dataframe\">\n",
              "  <thead>\n",
              "    <tr style=\"text-align: right;\">\n",
              "      <th></th>\n",
              "      <th>title</th>\n",
              "      <th>genre</th>\n",
              "      <th>vote</th>\n",
              "      <th>vote_count</th>\n",
              "      <th>director</th>\n",
              "      <th>cast</th>\n",
              "      <th>summary</th>\n",
              "      <th>imagelink</th>\n",
              "      <th>summary_processed</th>\n",
              "      <th>weighted_vote</th>\n",
              "    </tr>\n",
              "  </thead>\n",
              "  <tbody>\n",
              "    <tr>\n",
              "      <th>16</th>\n",
              "      <td>기생충</td>\n",
              "      <td>드라마</td>\n",
              "      <td>9.07</td>\n",
              "      <td>7913</td>\n",
              "      <td>봉준호</td>\n",
              "      <td>['송강호', '이선균', '조여정']</td>\n",
              "      <td>“폐 끼치고 싶진 않았어요”전원백수로 살 길 막막하지만 사이는 좋은 기택(송강호) ...</td>\n",
              "      <td>https://movie-phinf.pstatic.net/20190528_36/15...</td>\n",
              "      <td>장남 명문대 자리 희망 저택 걷잡 싹트 여정 기다리 이렇 강호 과외 맞이하 가족 사...</td>\n",
              "      <td>9.047027</td>\n",
              "    </tr>\n",
              "    <tr>\n",
              "      <th>245</th>\n",
              "      <td>살인의 추억</td>\n",
              "      <td>범죄</td>\n",
              "      <td>9.65</td>\n",
              "      <td>17</td>\n",
              "      <td>봉준호</td>\n",
              "      <td>['송강호', '김상경']</td>\n",
              "      <td>연쇄살인 실화극 | 1986년 시골마을, 두 형사에겐 모든 것이 처음이었다. | 당...</td>\n",
              "      <td>https://movie-phinf.pstatic.net/20111222_166/1...</td>\n",
              "      <td>시체 토박이 박두 후임 수법 발견 벌이 여자 시경 실화 수사 공포 강박 서류 필두 ...</td>\n",
              "      <td>8.526270</td>\n",
              "    </tr>\n",
              "    <tr>\n",
              "      <th>246</th>\n",
              "      <td>마더</td>\n",
              "      <td>범죄</td>\n",
              "      <td>9.45</td>\n",
              "      <td>11</td>\n",
              "      <td>봉준호</td>\n",
              "      <td>['김혜자', '원빈']</td>\n",
              "      <td>아들의 살인혐의, 엄마의 사투 | 아무도 믿지마 엄마가 구해줄께읍내 약재상에서 일하...</td>\n",
              "      <td>https://movie-phinf.pstatic.net/20111223_73/13...</td>\n",
              "      <td>아들 무도 굳어지 준의 일하 해지 당하 경찰 몰리 사고 태우 살인 애간장 백방 구하...</td>\n",
              "      <td>8.498619</td>\n",
              "    </tr>\n",
              "  </tbody>\n",
              "</table>\n",
              "</div>"
            ],
            "text/plain": [
              "      title  ... weighted_vote\n",
              "16      기생충  ...      9.047027\n",
              "245  살인의 추억  ...      8.526270\n",
              "246      마더  ...      8.498619\n",
              "\n",
              "[3 rows x 10 columns]"
            ]
          },
          "metadata": {
            "tags": []
          },
          "execution_count": 34
        }
      ]
    },
    {
      "cell_type": "code",
      "metadata": {
        "id": "Ml9d0mMOEBzB",
        "outputId": "90872acc-129a-4fa4-d208-4c41b7d6d736",
        "colab": {
          "base_uri": "https://localhost:8080/",
          "height": 364
        }
      },
      "source": [
        "cast_name = '마동석'\n",
        "\n",
        "indexes = []\n",
        "for i in range(len(movie)):\n",
        "  if cast_name in movie['cast'][i]:\n",
        "    indexes.append(i)\n",
        "\n",
        "cast = movie.iloc[indexes]\n",
        "cast.head()"
      ],
      "execution_count": null,
      "outputs": [
        {
          "output_type": "execute_result",
          "data": {
            "text/html": [
              "<div>\n",
              "<style scoped>\n",
              "    .dataframe tbody tr th:only-of-type {\n",
              "        vertical-align: middle;\n",
              "    }\n",
              "\n",
              "    .dataframe tbody tr th {\n",
              "        vertical-align: top;\n",
              "    }\n",
              "\n",
              "    .dataframe thead th {\n",
              "        text-align: right;\n",
              "    }\n",
              "</style>\n",
              "<table border=\"1\" class=\"dataframe\">\n",
              "  <thead>\n",
              "    <tr style=\"text-align: right;\">\n",
              "      <th></th>\n",
              "      <th>title</th>\n",
              "      <th>genre</th>\n",
              "      <th>vote</th>\n",
              "      <th>vote_count</th>\n",
              "      <th>director</th>\n",
              "      <th>cast</th>\n",
              "      <th>summary</th>\n",
              "      <th>imagelink</th>\n",
              "      <th>summary_processed</th>\n",
              "      <th>weighted_vote</th>\n",
              "    </tr>\n",
              "  </thead>\n",
              "  <tbody>\n",
              "    <tr>\n",
              "      <th>2</th>\n",
              "      <td>백두산</td>\n",
              "      <td>드라마</td>\n",
              "      <td>7.47</td>\n",
              "      <td>2828</td>\n",
              "      <td>이해준</td>\n",
              "      <td>['이병헌', '하정우', '마동석']</td>\n",
              "      <td>대한민국 관측 역사상 최대 규모의 백두산 폭발 발생.\\n 갑작스러운 재난에 한반도는...</td>\n",
              "      <td>https://movie-phinf.pstatic.net/20191219_263/1...</td>\n",
              "      <td>최대 접선 시간 서울 행동 자원 규모 운명 동석 작전 전역 남과 모르 펼쳐지 성공 ...</td>\n",
              "      <td>7.568992</td>\n",
              "    </tr>\n",
              "    <tr>\n",
              "      <th>3</th>\n",
              "      <td>시동</td>\n",
              "      <td>드라마</td>\n",
              "      <td>8.68</td>\n",
              "      <td>1780</td>\n",
              "      <td>최정열</td>\n",
              "      <td>['마동석', '박정민', '정해인']</td>\n",
              "      <td>학교도 싫고 집도 싫고 공부는 더더욱 싫다며\\n '엄마'(염정아)에게 1일 1강스파...</td>\n",
              "      <td>https://movie-phinf.pstatic.net/20200117_56/15...</td>\n",
              "      <td>뛰어들 최대 적수 스파이크 만나 무섭 해인 동석 포스 공부 학교 택일 뛰쳐나가 거석...</td>\n",
              "      <td>8.647918</td>\n",
              "    </tr>\n",
              "    <tr>\n",
              "      <th>303</th>\n",
              "      <td>나쁜 녀석들: 더 무비</td>\n",
              "      <td>범죄</td>\n",
              "      <td>8.16</td>\n",
              "      <td>2013</td>\n",
              "      <td>손용호</td>\n",
              "      <td>['마동석', '김상중', '김아중']</td>\n",
              "      <td>죄수들이 탈출했다!\\n 교도소 호송차량이 전복되고 최악의 범죄자들이 탈주하는 사상 ...</td>\n",
              "      <td>https://movie-phinf.pstatic.net/20190910_213/1...</td>\n",
              "      <td>반장 차량 생각 오구 죄수 사기꾼 고유성 행동 활약 과거 경찰 동석 전직 거대 조직...</td>\n",
              "      <td>8.200991</td>\n",
              "    </tr>\n",
              "    <tr>\n",
              "      <th>304</th>\n",
              "      <td>성난황소</td>\n",
              "      <td>범죄</td>\n",
              "      <td>8.66</td>\n",
              "      <td>2667</td>\n",
              "      <td>김민호</td>\n",
              "      <td>['마동석', '송지효']</td>\n",
              "      <td>거칠었던 과거를 벗어나 수산시장에서 건어물 유통을 하며 건실하게 살던 동철(마동석)...</td>\n",
              "      <td>https://movie-phinf.pstatic.net/20181031_241/1...</td>\n",
              "      <td>신고 아내 성오 거칠 과거 동석 경찰 시장 건드리 오지 걸리 건어물 행방 거액 납치...</td>\n",
              "      <td>8.639566</td>\n",
              "    </tr>\n",
              "    <tr>\n",
              "      <th>306</th>\n",
              "      <td>악인전</td>\n",
              "      <td>범죄</td>\n",
              "      <td>8.55</td>\n",
              "      <td>2103</td>\n",
              "      <td>이원태</td>\n",
              "      <td>['마동석', '김무열', '김성규']</td>\n",
              "      <td>우연히 연쇄살인마의 표적이 되었다 살아난 조직 보스 장동수와\\n 범인잡기에 혈안이 ...</td>\n",
              "      <td>https://movie-phinf.pstatic.net/20190515_203/1...</td>\n",
              "      <td>손잡 보스 표적 살아나 사람 범인 태석 강력 연쇄 위하 살인마 미친개 동수 혈안 타...</td>\n",
              "      <td>8.539022</td>\n",
              "    </tr>\n",
              "  </tbody>\n",
              "</table>\n",
              "</div>"
            ],
            "text/plain": [
              "            title  ... weighted_vote\n",
              "2             백두산  ...      7.568992\n",
              "3              시동  ...      8.647918\n",
              "303  나쁜 녀석들: 더 무비  ...      8.200991\n",
              "304          성난황소  ...      8.639566\n",
              "306           악인전  ...      8.539022\n",
              "\n",
              "[5 rows x 10 columns]"
            ]
          },
          "metadata": {
            "tags": []
          },
          "execution_count": 39
        }
      ]
    }
  ]
}