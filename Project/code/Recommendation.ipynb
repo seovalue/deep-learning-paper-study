{
  "nbformat": 4,
  "nbformat_minor": 0,
  "metadata": {
    "colab": {
      "name": "Recommendation.ipynb",
      "provenance": [],
      "collapsed_sections": []
    },
    "kernelspec": {
      "name": "python3",
      "display_name": "Python 3"
    }
  },
  "cells": [
    {
      "cell_type": "code",
      "metadata": {
        "id": "0HYiv21ykMz1",
        "outputId": "0a247236-a40f-4e6b-cdff-113ce87d5b87",
        "colab": {
          "base_uri": "https://localhost:8080/",
          "height": 34
        }
      },
      "source": [
        "from google.colab import drive \n",
        "drive.mount('/content/gdrive/')"
      ],
      "execution_count": 85,
      "outputs": [
        {
          "output_type": "stream",
          "text": [
            "Drive already mounted at /content/gdrive/; to attempt to forcibly remount, call drive.mount(\"/content/gdrive/\", force_remount=True).\n"
          ],
          "name": "stdout"
        }
      ]
    },
    {
      "cell_type": "code",
      "metadata": {
        "id": "mYUav62dl0_S",
        "outputId": "b3c1ac5b-caeb-42c6-9ef2-0e3b78a187e3",
        "colab": {
          "base_uri": "https://localhost:8080/",
          "height": 645
        }
      },
      "source": [
        "!apt-get update\n",
        "!apt-get install g++ openjdk-8-jdk \n",
        "!pip3 install konlpy\n",
        "import warnings \n",
        "warnings.filterwarnings('ignore')"
      ],
      "execution_count": 86,
      "outputs": [
        {
          "output_type": "stream",
          "text": [
            "Ign:1 https://developer.download.nvidia.com/compute/cuda/repos/ubuntu1804/x86_64  InRelease\n",
            "Hit:2 https://cloud.r-project.org/bin/linux/ubuntu bionic-cran40/ InRelease\n",
            "Ign:3 https://developer.download.nvidia.com/compute/machine-learning/repos/ubuntu1804/x86_64  InRelease\n",
            "Hit:4 https://developer.download.nvidia.com/compute/cuda/repos/ubuntu1804/x86_64  Release\n",
            "Hit:5 https://developer.download.nvidia.com/compute/machine-learning/repos/ubuntu1804/x86_64  Release\n",
            "Get:6 http://security.ubuntu.com/ubuntu bionic-security InRelease [88.7 kB]\n",
            "Hit:7 http://archive.ubuntu.com/ubuntu bionic InRelease\n",
            "Get:8 http://archive.ubuntu.com/ubuntu bionic-updates InRelease [88.7 kB]\n",
            "Hit:9 http://ppa.launchpad.net/c2d4u.team/c2d4u4.0+/ubuntu bionic InRelease\n",
            "Hit:12 http://ppa.launchpad.net/graphics-drivers/ppa/ubuntu bionic InRelease\n",
            "Get:13 http://archive.ubuntu.com/ubuntu bionic-backports InRelease [74.6 kB]\n",
            "Fetched 252 kB in 2s (146 kB/s)\n",
            "Reading package lists... Done\n",
            "Reading package lists... Done\n",
            "Building dependency tree       \n",
            "Reading state information... Done\n",
            "g++ is already the newest version (4:7.4.0-1ubuntu2.3).\n",
            "openjdk-8-jdk is already the newest version (8u265-b01-0ubuntu2~18.04).\n",
            "0 upgraded, 0 newly installed, 0 to remove and 23 not upgraded.\n",
            "Requirement already satisfied: konlpy in /usr/local/lib/python3.6/dist-packages (0.5.2)\n",
            "Requirement already satisfied: lxml>=4.1.0 in /usr/local/lib/python3.6/dist-packages (from konlpy) (4.2.6)\n",
            "Requirement already satisfied: colorama in /usr/local/lib/python3.6/dist-packages (from konlpy) (0.4.3)\n",
            "Requirement already satisfied: beautifulsoup4==4.6.0 in /usr/local/lib/python3.6/dist-packages (from konlpy) (4.6.0)\n",
            "Requirement already satisfied: tweepy>=3.7.0 in /usr/local/lib/python3.6/dist-packages (from konlpy) (3.9.0)\n",
            "Requirement already satisfied: JPype1>=0.7.0 in /usr/local/lib/python3.6/dist-packages (from konlpy) (1.0.2)\n",
            "Requirement already satisfied: numpy>=1.6 in /usr/local/lib/python3.6/dist-packages (from konlpy) (1.18.5)\n",
            "Requirement already satisfied: six>=1.10.0 in /usr/local/lib/python3.6/dist-packages (from tweepy>=3.7.0->konlpy) (1.15.0)\n",
            "Requirement already satisfied: requests-oauthlib>=0.7.0 in /usr/local/lib/python3.6/dist-packages (from tweepy>=3.7.0->konlpy) (1.3.0)\n",
            "Requirement already satisfied: requests[socks]>=2.11.1 in /usr/local/lib/python3.6/dist-packages (from tweepy>=3.7.0->konlpy) (2.23.0)\n",
            "Requirement already satisfied: typing-extensions; python_version < \"3.8\" in /usr/local/lib/python3.6/dist-packages (from JPype1>=0.7.0->konlpy) (3.7.4.3)\n",
            "Requirement already satisfied: oauthlib>=3.0.0 in /usr/local/lib/python3.6/dist-packages (from requests-oauthlib>=0.7.0->tweepy>=3.7.0->konlpy) (3.1.0)\n",
            "Requirement already satisfied: urllib3!=1.25.0,!=1.25.1,<1.26,>=1.21.1 in /usr/local/lib/python3.6/dist-packages (from requests[socks]>=2.11.1->tweepy>=3.7.0->konlpy) (1.24.3)\n",
            "Requirement already satisfied: certifi>=2017.4.17 in /usr/local/lib/python3.6/dist-packages (from requests[socks]>=2.11.1->tweepy>=3.7.0->konlpy) (2020.6.20)\n",
            "Requirement already satisfied: chardet<4,>=3.0.2 in /usr/local/lib/python3.6/dist-packages (from requests[socks]>=2.11.1->tweepy>=3.7.0->konlpy) (3.0.4)\n",
            "Requirement already satisfied: idna<3,>=2.5 in /usr/local/lib/python3.6/dist-packages (from requests[socks]>=2.11.1->tweepy>=3.7.0->konlpy) (2.10)\n",
            "Requirement already satisfied: PySocks!=1.5.7,>=1.5.6; extra == \"socks\" in /usr/local/lib/python3.6/dist-packages (from requests[socks]>=2.11.1->tweepy>=3.7.0->konlpy) (1.7.1)\n"
          ],
          "name": "stdout"
        }
      ]
    },
    {
      "cell_type": "code",
      "metadata": {
        "id": "g_QXwEEkkfgD"
      },
      "source": [
        "from sklearn.feature_extraction.text import TfidfVectorizer\n",
        "from sklearn.metrics.pairwise import cosine_similarity\n",
        "import matplotlib.pyplot as plt\n",
        "plt.rc('font', family='Malgun Gothic')\n",
        "import seaborn as sns\n",
        "import numpy as np\n",
        "import pandas as pd\n",
        "import re\n",
        "from gensim.models.word2vec import Word2Vec\n",
        "from konlpy.tag import Kkma\n",
        "kkma = Kkma()"
      ],
      "execution_count": 87,
      "outputs": []
    },
    {
      "cell_type": "code",
      "metadata": {
        "id": "-Ka_o5oumGKc",
        "outputId": "82cd2c45-bddb-4c76-8379-bbf0d7a3b97c",
        "colab": {
          "base_uri": "https://localhost:8080/",
          "height": 280
        }
      },
      "source": [
        "movie = pd.read_csv('/content/gdrive/My Drive/data/movies.csv')\n",
        "movie.drop(['Unnamed: 0'], axis = 1, inplace=True)\n",
        "movie.head(5)"
      ],
      "execution_count": 88,
      "outputs": [
        {
          "output_type": "execute_result",
          "data": {
            "text/html": [
              "<div>\n",
              "<style scoped>\n",
              "    .dataframe tbody tr th:only-of-type {\n",
              "        vertical-align: middle;\n",
              "    }\n",
              "\n",
              "    .dataframe tbody tr th {\n",
              "        vertical-align: top;\n",
              "    }\n",
              "\n",
              "    .dataframe thead th {\n",
              "        text-align: right;\n",
              "    }\n",
              "</style>\n",
              "<table border=\"1\" class=\"dataframe\">\n",
              "  <thead>\n",
              "    <tr style=\"text-align: right;\">\n",
              "      <th></th>\n",
              "      <th>title</th>\n",
              "      <th>genre</th>\n",
              "      <th>vote</th>\n",
              "      <th>vote_count</th>\n",
              "      <th>director</th>\n",
              "      <th>cast</th>\n",
              "      <th>summary</th>\n",
              "      <th>imagelink</th>\n",
              "    </tr>\n",
              "  </thead>\n",
              "  <tbody>\n",
              "    <tr>\n",
              "      <th>0</th>\n",
              "      <td>포드 V 페라리</td>\n",
              "      <td>액션</td>\n",
              "      <td>관람객 평점 9.31점</td>\n",
              "      <td>1,118</td>\n",
              "      <td>제임스 맨골드</td>\n",
              "      <td>['맷 데이먼', '크리스찬 베일']</td>\n",
              "      <td>자존심을 건 대결의 시작!1960년대, 매출 감소에 빠진 ‘포드’는 판매 활로를 찾...</td>\n",
              "      <td>https://movie-phinf.pstatic.net/20191204_91/15...</td>\n",
              "    </tr>\n",
              "    <tr>\n",
              "      <th>1</th>\n",
              "      <td>감쪽같은 그녀</td>\n",
              "      <td>드라마</td>\n",
              "      <td>관람객 평점 8.83점</td>\n",
              "      <td>208</td>\n",
              "      <td>허인무</td>\n",
              "      <td>['나문희', '김수안']</td>\n",
              "      <td>“초면에 실례하겠습니다~”\\n 72살 나 홀로 라이프를 즐기는 ‘말순’ 할매의 인생...</td>\n",
              "      <td>https://movie-phinf.pstatic.net/20191204_6/157...</td>\n",
              "    </tr>\n",
              "    <tr>\n",
              "      <th>2</th>\n",
              "      <td>백두산</td>\n",
              "      <td>드라마</td>\n",
              "      <td>관람객 평점 7.47점</td>\n",
              "      <td>2,828</td>\n",
              "      <td>이해준</td>\n",
              "      <td>['이병헌', '하정우', '마동석']</td>\n",
              "      <td>대한민국 관측 역사상 최대 규모의 백두산 폭발 발생.\\n 갑작스러운 재난에 한반도는...</td>\n",
              "      <td>https://movie-phinf.pstatic.net/20191219_263/1...</td>\n",
              "    </tr>\n",
              "    <tr>\n",
              "      <th>3</th>\n",
              "      <td>시동</td>\n",
              "      <td>드라마</td>\n",
              "      <td>관람객 평점 8.68점</td>\n",
              "      <td>1,780</td>\n",
              "      <td>최정열</td>\n",
              "      <td>['마동석', '박정민', '정해인']</td>\n",
              "      <td>학교도 싫고 집도 싫고 공부는 더더욱 싫다며\\n '엄마'(염정아)에게 1일 1강스파...</td>\n",
              "      <td>https://movie-phinf.pstatic.net/20200117_56/15...</td>\n",
              "    </tr>\n",
              "    <tr>\n",
              "      <th>4</th>\n",
              "      <td>블랙머니</td>\n",
              "      <td>범죄</td>\n",
              "      <td>관람객 평점 8.75점</td>\n",
              "      <td>862</td>\n",
              "      <td>정지영</td>\n",
              "      <td>['조진웅', '이하늬']</td>\n",
              "      <td>고발은 의무! 수사는 직진!\\n할말은 하고 깔 건 깐다!일명 서울지검 ‘막프로’! ...</td>\n",
              "      <td>https://movie-phinf.pstatic.net/20191113_203/1...</td>\n",
              "    </tr>\n",
              "  </tbody>\n",
              "</table>\n",
              "</div>"
            ],
            "text/plain": [
              "      title  ...                                          imagelink\n",
              "0  포드 V 페라리  ...  https://movie-phinf.pstatic.net/20191204_91/15...\n",
              "1   감쪽같은 그녀  ...  https://movie-phinf.pstatic.net/20191204_6/157...\n",
              "2       백두산  ...  https://movie-phinf.pstatic.net/20191219_263/1...\n",
              "3        시동  ...  https://movie-phinf.pstatic.net/20200117_56/15...\n",
              "4      블랙머니  ...  https://movie-phinf.pstatic.net/20191113_203/1...\n",
              "\n",
              "[5 rows x 8 columns]"
            ]
          },
          "metadata": {
            "tags": []
          },
          "execution_count": 88
        }
      ]
    },
    {
      "cell_type": "markdown",
      "metadata": {
        "id": "j81QwXJFobxL"
      },
      "source": [
        "결측값 확인"
      ]
    },
    {
      "cell_type": "code",
      "metadata": {
        "id": "bj-6dmrJoI-B",
        "outputId": "af6df641-abd9-44c7-9034-6c15bdb144fa",
        "colab": {
          "base_uri": "https://localhost:8080/",
          "height": 174
        }
      },
      "source": [
        "movie.isnull().sum()"
      ],
      "execution_count": 89,
      "outputs": [
        {
          "output_type": "execute_result",
          "data": {
            "text/plain": [
              "title          0\n",
              "genre          0\n",
              "vote          77\n",
              "vote_count     0\n",
              "director       0\n",
              "cast           0\n",
              "summary        0\n",
              "imagelink      0\n",
              "dtype: int64"
            ]
          },
          "metadata": {
            "tags": []
          },
          "execution_count": 89
        }
      ]
    },
    {
      "cell_type": "markdown",
      "metadata": {
        "id": "THhxpIvpoybS"
      },
      "source": [
        "평점이 null인 행만 추출"
      ]
    },
    {
      "cell_type": "code",
      "metadata": {
        "id": "_N2IcIzRod6V",
        "outputId": "5da9e957-6a49-4938-f108-a8f922546827",
        "colab": {
          "base_uri": "https://localhost:8080/",
          "height": 280
        }
      },
      "source": [
        "movie[movie['vote'].isnull()][:5]"
      ],
      "execution_count": 90,
      "outputs": [
        {
          "output_type": "execute_result",
          "data": {
            "text/html": [
              "<div>\n",
              "<style scoped>\n",
              "    .dataframe tbody tr th:only-of-type {\n",
              "        vertical-align: middle;\n",
              "    }\n",
              "\n",
              "    .dataframe tbody tr th {\n",
              "        vertical-align: top;\n",
              "    }\n",
              "\n",
              "    .dataframe thead th {\n",
              "        text-align: right;\n",
              "    }\n",
              "</style>\n",
              "<table border=\"1\" class=\"dataframe\">\n",
              "  <thead>\n",
              "    <tr style=\"text-align: right;\">\n",
              "      <th></th>\n",
              "      <th>title</th>\n",
              "      <th>genre</th>\n",
              "      <th>vote</th>\n",
              "      <th>vote_count</th>\n",
              "      <th>director</th>\n",
              "      <th>cast</th>\n",
              "      <th>summary</th>\n",
              "      <th>imagelink</th>\n",
              "    </tr>\n",
              "  </thead>\n",
              "  <tbody>\n",
              "    <tr>\n",
              "      <th>49</th>\n",
              "      <td>이터널스</td>\n",
              "      <td>액션</td>\n",
              "      <td>NaN</td>\n",
              "      <td>0</td>\n",
              "      <td>클로이 자오</td>\n",
              "      <td>['안젤리나 졸리', '마동석', '리차드 매든']</td>\n",
              "      <td>잭 커비의 코믹북을 원작으로, 수백만 년 전 인류를 실험하기 위해 지구로 온 셀레스...</td>\n",
              "      <td>https://movie-phinf.pstatic.net/20190813_248/1...</td>\n",
              "    </tr>\n",
              "    <tr>\n",
              "      <th>63</th>\n",
              "      <td>미친사랑</td>\n",
              "      <td>드라마</td>\n",
              "      <td>NaN</td>\n",
              "      <td>0</td>\n",
              "      <td>문시현</td>\n",
              "      <td>['공형진', '이시원', '송재림']</td>\n",
              "      <td>과거 북파 공작원으로 활동했던 남자(두식)는 고향(남한)으로도 돌아가지 못한 채 수...</td>\n",
              "      <td>https://movie-phinf.pstatic.net/20190530_108/1...</td>\n",
              "    </tr>\n",
              "    <tr>\n",
              "      <th>67</th>\n",
              "      <td>아이언맨</td>\n",
              "      <td>SF</td>\n",
              "      <td>NaN</td>\n",
              "      <td>0</td>\n",
              "      <td>존 파브로</td>\n",
              "      <td>['로버트 다우니 주니어', '테렌스 하워드', '제프 브리지스']</td>\n",
              "      <td>하이테크 슈퍼 히어로의 탄생 | 이제 업그레이드는 끝났다천재적인 두뇌와 재능으로 세...</td>\n",
              "      <td>https://movie-phinf.pstatic.net/20111222_37/13...</td>\n",
              "    </tr>\n",
              "    <tr>\n",
              "      <th>70</th>\n",
              "      <td>헬보이 2: 골든 아미</td>\n",
              "      <td>SF</td>\n",
              "      <td>NaN</td>\n",
              "      <td>0</td>\n",
              "      <td>길예르모 델 토로</td>\n",
              "      <td>['론 펄먼', '셀마 블레어', '더그 존스']</td>\n",
              "      <td>잘생긴 얼굴만 세상을 구하는 건 아니지!인간과 요괴 사이에서 존재하던 고대의 휴전 ...</td>\n",
              "      <td>https://movie-phinf.pstatic.net/20111222_198/1...</td>\n",
              "    </tr>\n",
              "    <tr>\n",
              "      <th>74</th>\n",
              "      <td>해리 포터와 비밀의 방</td>\n",
              "      <td>판타지</td>\n",
              "      <td>NaN</td>\n",
              "      <td>0</td>\n",
              "      <td>크리스 콜럼버스</td>\n",
              "      <td>['다니엘 래드클리프', '루퍼트 그린트', '엠마 왓슨']</td>\n",
              "      <td>해리 포터에겐 이번 여름방학이 별로 즐겁질 못했다. 마법이라면 질색을 하는 페투니아...</td>\n",
              "      <td>https://movie-phinf.pstatic.net/20111222_244/1...</td>\n",
              "    </tr>\n",
              "  </tbody>\n",
              "</table>\n",
              "</div>"
            ],
            "text/plain": [
              "           title  ...                                          imagelink\n",
              "49          이터널스  ...  https://movie-phinf.pstatic.net/20190813_248/1...\n",
              "63          미친사랑  ...  https://movie-phinf.pstatic.net/20190530_108/1...\n",
              "67          아이언맨  ...  https://movie-phinf.pstatic.net/20111222_37/13...\n",
              "70  헬보이 2: 골든 아미  ...  https://movie-phinf.pstatic.net/20111222_198/1...\n",
              "74  해리 포터와 비밀의 방  ...  https://movie-phinf.pstatic.net/20111222_244/1...\n",
              "\n",
              "[5 rows x 8 columns]"
            ]
          },
          "metadata": {
            "tags": []
          },
          "execution_count": 90
        }
      ]
    },
    {
      "cell_type": "markdown",
      "metadata": {
        "id": "Am-Vz6LQqbw9"
      },
      "source": [
        "vote가 null인 값들을 직접 naver 영화에서 검색해보았다. \n",
        "아직까지 개봉하지 않은 영화이거나, 개봉했으나 관람객 평점이 존재하지 않는 경우이므로 추천하는데에 무의미한 데이터라 생각하고 drop 하여 삭제하는 것으로 결정하였다."
      ]
    },
    {
      "cell_type": "code",
      "metadata": {
        "id": "qAcNN5sBqyhv",
        "outputId": "47956060-5852-473e-8d66-16c31ce85151",
        "colab": {
          "base_uri": "https://localhost:8080/",
          "height": 174
        }
      },
      "source": [
        "movie = movie.dropna()\n",
        "movie.isnull().sum()"
      ],
      "execution_count": 91,
      "outputs": [
        {
          "output_type": "execute_result",
          "data": {
            "text/plain": [
              "title         0\n",
              "genre         0\n",
              "vote          0\n",
              "vote_count    0\n",
              "director      0\n",
              "cast          0\n",
              "summary       0\n",
              "imagelink     0\n",
              "dtype: int64"
            ]
          },
          "metadata": {
            "tags": []
          },
          "execution_count": 91
        }
      ]
    },
    {
      "cell_type": "code",
      "metadata": {
        "id": "qCXowKfBq9mQ"
      },
      "source": [
        "movie.reset_index(inplace = True)\n",
        "movie.drop(['index'], axis=1, inplace = True)"
      ],
      "execution_count": 92,
      "outputs": []
    },
    {
      "cell_type": "markdown",
      "metadata": {
        "id": "fj7fKTxDr_4_"
      },
      "source": [
        "줄거리를 형태소 분리하여 띄워쓰기로 구분한다."
      ]
    },
    {
      "cell_type": "code",
      "metadata": {
        "id": "w2QmPWYqOvAV"
      },
      "source": [
        "include = ['NNG','NP','NNP','NNB','NN','NX','UM','NU','VV','VA','AJ','IC']"
      ],
      "execution_count": 93,
      "outputs": []
    },
    {
      "cell_type": "markdown",
      "metadata": {
        "id": "ispyV-wZfTxS"
      },
      "source": [
        "명사와 동사, 형용사만 포함될 수 있도록 하며 한 글자로 된 단어는 제외했다. "
      ]
    },
    {
      "cell_type": "code",
      "metadata": {
        "id": "y-mIa6JwM0Zr",
        "outputId": "7ba124a7-a8bc-4e50-972b-1923e1c21c87",
        "colab": {
          "base_uri": "https://localhost:8080/",
          "height": 364
        }
      },
      "source": [
        "movie['summary_processed'] = ''\n",
        "for i in range(len(movie)):\n",
        "  pos = kkma.pos(movie['summary'][i])\n",
        "  res = set()\n",
        "  for j in range(len(pos)):\n",
        "    if pos[j][1] in include:\n",
        "      if len(pos[j][0]) > 1:\n",
        "        res.add(pos[j][0])\n",
        "  movie['summary_processed'][i] = ' '.join(res)\n",
        "\n",
        "movie.head(5)"
      ],
      "execution_count": 94,
      "outputs": [
        {
          "output_type": "execute_result",
          "data": {
            "text/html": [
              "<div>\n",
              "<style scoped>\n",
              "    .dataframe tbody tr th:only-of-type {\n",
              "        vertical-align: middle;\n",
              "    }\n",
              "\n",
              "    .dataframe tbody tr th {\n",
              "        vertical-align: top;\n",
              "    }\n",
              "\n",
              "    .dataframe thead th {\n",
              "        text-align: right;\n",
              "    }\n",
              "</style>\n",
              "<table border=\"1\" class=\"dataframe\">\n",
              "  <thead>\n",
              "    <tr style=\"text-align: right;\">\n",
              "      <th></th>\n",
              "      <th>title</th>\n",
              "      <th>genre</th>\n",
              "      <th>vote</th>\n",
              "      <th>vote_count</th>\n",
              "      <th>director</th>\n",
              "      <th>cast</th>\n",
              "      <th>summary</th>\n",
              "      <th>imagelink</th>\n",
              "      <th>summary_processed</th>\n",
              "    </tr>\n",
              "  </thead>\n",
              "  <tbody>\n",
              "    <tr>\n",
              "      <th>0</th>\n",
              "      <td>포드 V 페라리</td>\n",
              "      <td>액션</td>\n",
              "      <td>관람객 평점 9.31점</td>\n",
              "      <td>1,118</td>\n",
              "      <td>제임스 맨골드</td>\n",
              "      <td>['맷 데이먼', '크리스찬 베일']</td>\n",
              "      <td>자존심을 건 대결의 시작!1960년대, 매출 감소에 빠진 ‘포드’는 판매 활로를 찾...</td>\n",
              "      <td>https://movie-phinf.pstatic.net/20191204_91/15...</td>\n",
              "      <td>질주 판매 즐기 열정 대결 헨리 박살 만들 대회 만큼 실력 여기 입맛 합병 펼치 지...</td>\n",
              "    </tr>\n",
              "    <tr>\n",
              "      <th>1</th>\n",
              "      <td>감쪽같은 그녀</td>\n",
              "      <td>드라마</td>\n",
              "      <td>관람객 평점 8.83점</td>\n",
              "      <td>208</td>\n",
              "      <td>허인무</td>\n",
              "      <td>['나문희', '김수안']</td>\n",
              "      <td>“초면에 실례하겠습니다~”\\n 72살 나 홀로 라이프를 즐기는 ‘말순’ 할매의 인생...</td>\n",
              "      <td>https://movie-phinf.pstatic.net/20191204_6/157...</td>\n",
              "      <td>생활 혼자 지내 서로 즐기 특기 되어가 실례 손녀 자수 주름 필요 와의 나타나 취향...</td>\n",
              "    </tr>\n",
              "    <tr>\n",
              "      <th>2</th>\n",
              "      <td>백두산</td>\n",
              "      <td>드라마</td>\n",
              "      <td>관람객 평점 7.47점</td>\n",
              "      <td>2,828</td>\n",
              "      <td>이해준</td>\n",
              "      <td>['이병헌', '하정우', '마동석']</td>\n",
              "      <td>대한민국 관측 역사상 최대 규모의 백두산 폭발 발생.\\n 갑작스러운 재난에 한반도는...</td>\n",
              "      <td>https://movie-phinf.pstatic.net/20191219_263/1...</td>\n",
              "      <td>운명 일급 접선 무력 초유 따르 만들 순식간 행동 지질학 예측 펼쳐지 곤란 계획 한...</td>\n",
              "    </tr>\n",
              "    <tr>\n",
              "      <th>3</th>\n",
              "      <td>시동</td>\n",
              "      <td>드라마</td>\n",
              "      <td>관람객 평점 8.68점</td>\n",
              "      <td>1,780</td>\n",
              "      <td>최정열</td>\n",
              "      <td>['마동석', '박정민', '정해인']</td>\n",
              "      <td>학교도 싫고 집도 싫고 공부는 더더욱 싫다며\\n '엄마'(염정아)에게 1일 1강스파...</td>\n",
              "      <td>https://movie-phinf.pstatic.net/20200117_56/15...</td>\n",
              "      <td>학교 상상 택일 거석 염정 반점 인사 사회 세상 나누 뛰어들 무섭 인생 맛보 동석 ...</td>\n",
              "    </tr>\n",
              "    <tr>\n",
              "      <th>4</th>\n",
              "      <td>블랙머니</td>\n",
              "      <td>범죄</td>\n",
              "      <td>관람객 평점 8.75점</td>\n",
              "      <td>862</td>\n",
              "      <td>정지영</td>\n",
              "      <td>['조진웅', '이하늬']</td>\n",
              "      <td>고발은 의무! 수사는 직진!\\n할말은 하고 깔 건 깐다!일명 서울지검 ‘막프로’! ...</td>\n",
              "      <td>https://movie-phinf.pstatic.net/20191113_203/1...</td>\n",
              "      <td>은행 자산가 내몰리 직진 회사 이름 검찰 대한 프로 자살 금융 거대 지검 아침 비리...</td>\n",
              "    </tr>\n",
              "  </tbody>\n",
              "</table>\n",
              "</div>"
            ],
            "text/plain": [
              "      title  ...                                  summary_processed\n",
              "0  포드 V 페라리  ...  질주 판매 즐기 열정 대결 헨리 박살 만들 대회 만큼 실력 여기 입맛 합병 펼치 지...\n",
              "1   감쪽같은 그녀  ...  생활 혼자 지내 서로 즐기 특기 되어가 실례 손녀 자수 주름 필요 와의 나타나 취향...\n",
              "2       백두산  ...  운명 일급 접선 무력 초유 따르 만들 순식간 행동 지질학 예측 펼쳐지 곤란 계획 한...\n",
              "3        시동  ...  학교 상상 택일 거석 염정 반점 인사 사회 세상 나누 뛰어들 무섭 인생 맛보 동석 ...\n",
              "4      블랙머니  ...  은행 자산가 내몰리 직진 회사 이름 검찰 대한 프로 자살 금융 거대 지검 아침 비리...\n",
              "\n",
              "[5 rows x 9 columns]"
            ]
          },
          "metadata": {
            "tags": []
          },
          "execution_count": 94
        }
      ]
    },
    {
      "cell_type": "markdown",
      "metadata": {
        "id": "fhQMR_2ysD4I"
      },
      "source": [
        "vote를 평점만 남긴 데이터로 전처리한다."
      ]
    },
    {
      "cell_type": "code",
      "metadata": {
        "id": "G67e_OhlsVzk",
        "outputId": "3417b2df-2e37-45b0-a441-adc3f930050d",
        "colab": {
          "base_uri": "https://localhost:8080/",
          "height": 364
        }
      },
      "source": [
        "for i in range(len(movie)):\n",
        "  vote = movie['vote'][i]\n",
        "  movie['vote'][i] = float(vote[6:len(vote)-1])\n",
        "\n",
        "movie.head(5)"
      ],
      "execution_count": 95,
      "outputs": [
        {
          "output_type": "execute_result",
          "data": {
            "text/html": [
              "<div>\n",
              "<style scoped>\n",
              "    .dataframe tbody tr th:only-of-type {\n",
              "        vertical-align: middle;\n",
              "    }\n",
              "\n",
              "    .dataframe tbody tr th {\n",
              "        vertical-align: top;\n",
              "    }\n",
              "\n",
              "    .dataframe thead th {\n",
              "        text-align: right;\n",
              "    }\n",
              "</style>\n",
              "<table border=\"1\" class=\"dataframe\">\n",
              "  <thead>\n",
              "    <tr style=\"text-align: right;\">\n",
              "      <th></th>\n",
              "      <th>title</th>\n",
              "      <th>genre</th>\n",
              "      <th>vote</th>\n",
              "      <th>vote_count</th>\n",
              "      <th>director</th>\n",
              "      <th>cast</th>\n",
              "      <th>summary</th>\n",
              "      <th>imagelink</th>\n",
              "      <th>summary_processed</th>\n",
              "    </tr>\n",
              "  </thead>\n",
              "  <tbody>\n",
              "    <tr>\n",
              "      <th>0</th>\n",
              "      <td>포드 V 페라리</td>\n",
              "      <td>액션</td>\n",
              "      <td>9.31</td>\n",
              "      <td>1,118</td>\n",
              "      <td>제임스 맨골드</td>\n",
              "      <td>['맷 데이먼', '크리스찬 베일']</td>\n",
              "      <td>자존심을 건 대결의 시작!1960년대, 매출 감소에 빠진 ‘포드’는 판매 활로를 찾...</td>\n",
              "      <td>https://movie-phinf.pstatic.net/20191204_91/15...</td>\n",
              "      <td>질주 판매 즐기 열정 대결 헨리 박살 만들 대회 만큼 실력 여기 입맛 합병 펼치 지...</td>\n",
              "    </tr>\n",
              "    <tr>\n",
              "      <th>1</th>\n",
              "      <td>감쪽같은 그녀</td>\n",
              "      <td>드라마</td>\n",
              "      <td>8.83</td>\n",
              "      <td>208</td>\n",
              "      <td>허인무</td>\n",
              "      <td>['나문희', '김수안']</td>\n",
              "      <td>“초면에 실례하겠습니다~”\\n 72살 나 홀로 라이프를 즐기는 ‘말순’ 할매의 인생...</td>\n",
              "      <td>https://movie-phinf.pstatic.net/20191204_6/157...</td>\n",
              "      <td>생활 혼자 지내 서로 즐기 특기 되어가 실례 손녀 자수 주름 필요 와의 나타나 취향...</td>\n",
              "    </tr>\n",
              "    <tr>\n",
              "      <th>2</th>\n",
              "      <td>백두산</td>\n",
              "      <td>드라마</td>\n",
              "      <td>7.47</td>\n",
              "      <td>2,828</td>\n",
              "      <td>이해준</td>\n",
              "      <td>['이병헌', '하정우', '마동석']</td>\n",
              "      <td>대한민국 관측 역사상 최대 규모의 백두산 폭발 발생.\\n 갑작스러운 재난에 한반도는...</td>\n",
              "      <td>https://movie-phinf.pstatic.net/20191219_263/1...</td>\n",
              "      <td>운명 일급 접선 무력 초유 따르 만들 순식간 행동 지질학 예측 펼쳐지 곤란 계획 한...</td>\n",
              "    </tr>\n",
              "    <tr>\n",
              "      <th>3</th>\n",
              "      <td>시동</td>\n",
              "      <td>드라마</td>\n",
              "      <td>8.68</td>\n",
              "      <td>1,780</td>\n",
              "      <td>최정열</td>\n",
              "      <td>['마동석', '박정민', '정해인']</td>\n",
              "      <td>학교도 싫고 집도 싫고 공부는 더더욱 싫다며\\n '엄마'(염정아)에게 1일 1강스파...</td>\n",
              "      <td>https://movie-phinf.pstatic.net/20200117_56/15...</td>\n",
              "      <td>학교 상상 택일 거석 염정 반점 인사 사회 세상 나누 뛰어들 무섭 인생 맛보 동석 ...</td>\n",
              "    </tr>\n",
              "    <tr>\n",
              "      <th>4</th>\n",
              "      <td>블랙머니</td>\n",
              "      <td>범죄</td>\n",
              "      <td>8.75</td>\n",
              "      <td>862</td>\n",
              "      <td>정지영</td>\n",
              "      <td>['조진웅', '이하늬']</td>\n",
              "      <td>고발은 의무! 수사는 직진!\\n할말은 하고 깔 건 깐다!일명 서울지검 ‘막프로’! ...</td>\n",
              "      <td>https://movie-phinf.pstatic.net/20191113_203/1...</td>\n",
              "      <td>은행 자산가 내몰리 직진 회사 이름 검찰 대한 프로 자살 금융 거대 지검 아침 비리...</td>\n",
              "    </tr>\n",
              "  </tbody>\n",
              "</table>\n",
              "</div>"
            ],
            "text/plain": [
              "      title  ...                                  summary_processed\n",
              "0  포드 V 페라리  ...  질주 판매 즐기 열정 대결 헨리 박살 만들 대회 만큼 실력 여기 입맛 합병 펼치 지...\n",
              "1   감쪽같은 그녀  ...  생활 혼자 지내 서로 즐기 특기 되어가 실례 손녀 자수 주름 필요 와의 나타나 취향...\n",
              "2       백두산  ...  운명 일급 접선 무력 초유 따르 만들 순식간 행동 지질학 예측 펼쳐지 곤란 계획 한...\n",
              "3        시동  ...  학교 상상 택일 거석 염정 반점 인사 사회 세상 나누 뛰어들 무섭 인생 맛보 동석 ...\n",
              "4      블랙머니  ...  은행 자산가 내몰리 직진 회사 이름 검찰 대한 프로 자살 금융 거대 지검 아침 비리...\n",
              "\n",
              "[5 rows x 9 columns]"
            ]
          },
          "metadata": {
            "tags": []
          },
          "execution_count": 95
        }
      ]
    },
    {
      "cell_type": "markdown",
      "metadata": {
        "id": "hFmmIUPttZ1p"
      },
      "source": [
        "vote_count 또한 int형으로 바꾸어준다.."
      ]
    },
    {
      "cell_type": "code",
      "metadata": {
        "id": "-TNA1LIHtYSI"
      },
      "source": [
        "for i in range(len(movie)):\n",
        "  if type(movie['vote_count'][i]) != int and ',' in movie['vote_count'][i]:\n",
        "    a = list(movie['vote_count'][i])\n",
        "    a.pop(a.index(','))\n",
        "    a = ''.join(a)\n",
        "    movie['vote_count'][i] = int(a)\n",
        "  else:\n",
        "    movie['vote_count'][i] = int(movie['vote_count'][i])"
      ],
      "execution_count": 96,
      "outputs": []
    },
    {
      "cell_type": "markdown",
      "metadata": {
        "id": "7luLoJm9tA7v"
      },
      "source": [
        "가중 평점 = (v/(v+m)) R + (m/(v+m)) \\ C\n",
        "\n",
        "* v: 개별 영화에 평점을 투표한 횟수\n",
        "* m: 평점을 부여하기 위한 최소 투표 횟수\n",
        "* R: 개별 영화에 대한 평균 평점\n",
        "* C: 전체 영화에 대한 평균 평점\n",
        "\n",
        "\n",
        "v 는 'vote_count' 값이며, R은 'vote_average' 값에 해당합니다. C의 경우 전체 영화의 평균 평점이므로 movies['ratings'].mean()으로 구할 수 있습니다.\n",
        "m 의 경우는 투표 횟수에 따른 가중치를 직접 조절하는 역할을 하는데, m을 높이면 평점 투표 횟수가 많은 영화에 더 많은 가중 평점을 주게 됩니다.\n",
        "여기서는 m을 상위 60% 해당하는 횟수를 기준으로 정하겠습니다."
      ]
    },
    {
      "cell_type": "code",
      "metadata": {
        "id": "K-NnaJdksTt0",
        "outputId": "a50ec63b-ecb2-48bd-a43e-bfe1c260a15b",
        "colab": {
          "base_uri": "https://localhost:8080/",
          "height": 34
        }
      },
      "source": [
        "C = movie['vote'].mean()\n",
        "m = movie['vote_count'].quantile(0.6)\n",
        "print('C:',round(C,3),'m:',round(m,3))"
      ],
      "execution_count": 97,
      "outputs": [
        {
          "output_type": "stream",
          "text": [
            "C: 8.465 m: 312.4\n"
          ],
          "name": "stdout"
        }
      ]
    },
    {
      "cell_type": "code",
      "metadata": {
        "id": "ifvk7kyBtL4u",
        "outputId": "682ab294-710b-4407-e53b-49d1af924d3c",
        "colab": {
          "base_uri": "https://localhost:8080/",
          "height": 364
        }
      },
      "source": [
        "percentile = 0.6\n",
        "C = movie['vote'].mean()\n",
        "m = movie['vote_count'].quantile(0.6)\n",
        "\n",
        "def weighted_vote_average(record):\n",
        "  v = record['vote_count']\n",
        "  R = record['vote']\n",
        "\n",
        "  return ((v/(v+m)) * R) +( (m/(v+m)) * C)\n",
        "\n",
        "movie['weighted_vote'] = movie.apply(weighted_vote_average, axis = 1)\n",
        "movie.head(5)"
      ],
      "execution_count": 98,
      "outputs": [
        {
          "output_type": "execute_result",
          "data": {
            "text/html": [
              "<div>\n",
              "<style scoped>\n",
              "    .dataframe tbody tr th:only-of-type {\n",
              "        vertical-align: middle;\n",
              "    }\n",
              "\n",
              "    .dataframe tbody tr th {\n",
              "        vertical-align: top;\n",
              "    }\n",
              "\n",
              "    .dataframe thead th {\n",
              "        text-align: right;\n",
              "    }\n",
              "</style>\n",
              "<table border=\"1\" class=\"dataframe\">\n",
              "  <thead>\n",
              "    <tr style=\"text-align: right;\">\n",
              "      <th></th>\n",
              "      <th>title</th>\n",
              "      <th>genre</th>\n",
              "      <th>vote</th>\n",
              "      <th>vote_count</th>\n",
              "      <th>director</th>\n",
              "      <th>cast</th>\n",
              "      <th>summary</th>\n",
              "      <th>imagelink</th>\n",
              "      <th>summary_processed</th>\n",
              "      <th>weighted_vote</th>\n",
              "    </tr>\n",
              "  </thead>\n",
              "  <tbody>\n",
              "    <tr>\n",
              "      <th>0</th>\n",
              "      <td>포드 V 페라리</td>\n",
              "      <td>액션</td>\n",
              "      <td>9.31</td>\n",
              "      <td>1118</td>\n",
              "      <td>제임스 맨골드</td>\n",
              "      <td>['맷 데이먼', '크리스찬 베일']</td>\n",
              "      <td>자존심을 건 대결의 시작!1960년대, 매출 감소에 빠진 ‘포드’는 판매 활로를 찾...</td>\n",
              "      <td>https://movie-phinf.pstatic.net/20191204_91/15...</td>\n",
              "      <td>질주 판매 즐기 열정 대결 헨리 박살 만들 대회 만큼 실력 여기 입맛 합병 펼치 지...</td>\n",
              "      <td>9.125478</td>\n",
              "    </tr>\n",
              "    <tr>\n",
              "      <th>1</th>\n",
              "      <td>감쪽같은 그녀</td>\n",
              "      <td>드라마</td>\n",
              "      <td>8.83</td>\n",
              "      <td>208</td>\n",
              "      <td>허인무</td>\n",
              "      <td>['나문희', '김수안']</td>\n",
              "      <td>“초면에 실례하겠습니다~”\\n 72살 나 홀로 라이프를 즐기는 ‘말순’ 할매의 인생...</td>\n",
              "      <td>https://movie-phinf.pstatic.net/20191204_6/157...</td>\n",
              "      <td>생활 혼자 지내 서로 즐기 특기 되어가 실례 손녀 자수 주름 필요 와의 나타나 취향...</td>\n",
              "      <td>8.610960</td>\n",
              "    </tr>\n",
              "    <tr>\n",
              "      <th>2</th>\n",
              "      <td>백두산</td>\n",
              "      <td>드라마</td>\n",
              "      <td>7.47</td>\n",
              "      <td>2828</td>\n",
              "      <td>이해준</td>\n",
              "      <td>['이병헌', '하정우', '마동석']</td>\n",
              "      <td>대한민국 관측 역사상 최대 규모의 백두산 폭발 발생.\\n 갑작스러운 재난에 한반도는...</td>\n",
              "      <td>https://movie-phinf.pstatic.net/20191219_263/1...</td>\n",
              "      <td>운명 일급 접선 무력 초유 따르 만들 순식간 행동 지질학 예측 펼쳐지 곤란 계획 한...</td>\n",
              "      <td>7.568992</td>\n",
              "    </tr>\n",
              "    <tr>\n",
              "      <th>3</th>\n",
              "      <td>시동</td>\n",
              "      <td>드라마</td>\n",
              "      <td>8.68</td>\n",
              "      <td>1780</td>\n",
              "      <td>최정열</td>\n",
              "      <td>['마동석', '박정민', '정해인']</td>\n",
              "      <td>학교도 싫고 집도 싫고 공부는 더더욱 싫다며\\n '엄마'(염정아)에게 1일 1강스파...</td>\n",
              "      <td>https://movie-phinf.pstatic.net/20200117_56/15...</td>\n",
              "      <td>학교 상상 택일 거석 염정 반점 인사 사회 세상 나누 뛰어들 무섭 인생 맛보 동석 ...</td>\n",
              "      <td>8.647918</td>\n",
              "    </tr>\n",
              "    <tr>\n",
              "      <th>4</th>\n",
              "      <td>블랙머니</td>\n",
              "      <td>범죄</td>\n",
              "      <td>8.75</td>\n",
              "      <td>862</td>\n",
              "      <td>정지영</td>\n",
              "      <td>['조진웅', '이하늬']</td>\n",
              "      <td>고발은 의무! 수사는 직진!\\n할말은 하고 깔 건 깐다!일명 서울지검 ‘막프로’! ...</td>\n",
              "      <td>https://movie-phinf.pstatic.net/20191113_203/1...</td>\n",
              "      <td>은행 자산가 내몰리 직진 회사 이름 검찰 대한 프로 자살 금융 거대 지검 아침 비리...</td>\n",
              "      <td>8.674220</td>\n",
              "    </tr>\n",
              "  </tbody>\n",
              "</table>\n",
              "</div>"
            ],
            "text/plain": [
              "      title  ... weighted_vote\n",
              "0  포드 V 페라리  ...      9.125478\n",
              "1   감쪽같은 그녀  ...      8.610960\n",
              "2       백두산  ...      7.568992\n",
              "3        시동  ...      8.647918\n",
              "4      블랙머니  ...      8.674220\n",
              "\n",
              "[5 rows x 10 columns]"
            ]
          },
          "metadata": {
            "tags": []
          },
          "execution_count": 98
        }
      ]
    },
    {
      "cell_type": "markdown",
      "metadata": {
        "id": "wcq89e5zvwlr"
      },
      "source": [
        "* 가중 평점을 적용하지 않은 평점 순위 Top 10"
      ]
    },
    {
      "cell_type": "code",
      "metadata": {
        "id": "yYLvuN-vvsGI",
        "outputId": "ee196b7f-e3a1-42a7-a5fa-0fd63270a8b4",
        "colab": {
          "base_uri": "https://localhost:8080/",
          "height": 345
        }
      },
      "source": [
        "movie[['title','vote','weighted_vote','vote_count']].sort_values('vote', ascending=False)[:10]"
      ],
      "execution_count": 99,
      "outputs": [
        {
          "output_type": "execute_result",
          "data": {
            "text/html": [
              "<div>\n",
              "<style scoped>\n",
              "    .dataframe tbody tr th:only-of-type {\n",
              "        vertical-align: middle;\n",
              "    }\n",
              "\n",
              "    .dataframe tbody tr th {\n",
              "        vertical-align: top;\n",
              "    }\n",
              "\n",
              "    .dataframe thead th {\n",
              "        text-align: right;\n",
              "    }\n",
              "</style>\n",
              "<table border=\"1\" class=\"dataframe\">\n",
              "  <thead>\n",
              "    <tr style=\"text-align: right;\">\n",
              "      <th></th>\n",
              "      <th>title</th>\n",
              "      <th>vote</th>\n",
              "      <th>weighted_vote</th>\n",
              "      <th>vote_count</th>\n",
              "    </tr>\n",
              "  </thead>\n",
              "  <tbody>\n",
              "    <tr>\n",
              "      <th>101</th>\n",
              "      <td>러브 앳</td>\n",
              "      <td>10</td>\n",
              "      <td>8.479719</td>\n",
              "      <td>3</td>\n",
              "    </tr>\n",
              "    <tr>\n",
              "      <th>186</th>\n",
              "      <td>앨리스 죽이기</td>\n",
              "      <td>10</td>\n",
              "      <td>8.474884</td>\n",
              "      <td>2</td>\n",
              "    </tr>\n",
              "    <tr>\n",
              "      <th>262</th>\n",
              "      <td>체 게바라: 2부 게릴라</td>\n",
              "      <td>10</td>\n",
              "      <td>8.470017</td>\n",
              "      <td>1</td>\n",
              "    </tr>\n",
              "    <tr>\n",
              "      <th>224</th>\n",
              "      <td>집으로...</td>\n",
              "      <td>10</td>\n",
              "      <td>8.498758</td>\n",
              "      <td>7</td>\n",
              "    </tr>\n",
              "    <tr>\n",
              "      <th>273</th>\n",
              "      <td>쿵푸 보이</td>\n",
              "      <td>10</td>\n",
              "      <td>8.479719</td>\n",
              "      <td>3</td>\n",
              "    </tr>\n",
              "    <tr>\n",
              "      <th>194</th>\n",
              "      <td>발리: 천상의 울림</td>\n",
              "      <td>10</td>\n",
              "      <td>8.470017</td>\n",
              "      <td>1</td>\n",
              "    </tr>\n",
              "    <tr>\n",
              "      <th>287</th>\n",
              "      <td>너의 목소리</td>\n",
              "      <td>10</td>\n",
              "      <td>8.474884</td>\n",
              "      <td>2</td>\n",
              "    </tr>\n",
              "    <tr>\n",
              "      <th>260</th>\n",
              "      <td>퍼펙트 타겟</td>\n",
              "      <td>10</td>\n",
              "      <td>8.470017</td>\n",
              "      <td>1</td>\n",
              "    </tr>\n",
              "    <tr>\n",
              "      <th>191</th>\n",
              "      <td>물의 기억</td>\n",
              "      <td>10</td>\n",
              "      <td>8.479719</td>\n",
              "      <td>3</td>\n",
              "    </tr>\n",
              "    <tr>\n",
              "      <th>7</th>\n",
              "      <td>사선의 끝</td>\n",
              "      <td>10</td>\n",
              "      <td>8.474884</td>\n",
              "      <td>2</td>\n",
              "    </tr>\n",
              "  </tbody>\n",
              "</table>\n",
              "</div>"
            ],
            "text/plain": [
              "             title vote  weighted_vote vote_count\n",
              "101           러브 앳   10       8.479719          3\n",
              "186        앨리스 죽이기   10       8.474884          2\n",
              "262  체 게바라: 2부 게릴라   10       8.470017          1\n",
              "224         집으로...   10       8.498758          7\n",
              "273          쿵푸 보이   10       8.479719          3\n",
              "194     발리: 천상의 울림   10       8.470017          1\n",
              "287         너의 목소리   10       8.474884          2\n",
              "260         퍼펙트 타겟   10       8.470017          1\n",
              "191          물의 기억   10       8.479719          3\n",
              "7            사선의 끝   10       8.474884          2"
            ]
          },
          "metadata": {
            "tags": []
          },
          "execution_count": 99
        }
      ]
    },
    {
      "cell_type": "markdown",
      "metadata": {
        "id": "I8lGk19xv3Vx"
      },
      "source": [
        "* 가중 평점을 적용한 Top 10"
      ]
    },
    {
      "cell_type": "code",
      "metadata": {
        "id": "rf9R5A70u7Y9",
        "outputId": "007ed0c4-3304-4b05-a619-f728b04dc9ca",
        "colab": {
          "base_uri": "https://localhost:8080/",
          "height": 345
        }
      },
      "source": [
        "movie[['title','vote','weighted_vote','vote_count']].sort_values('weighted_vote', ascending=False)[:10]"
      ],
      "execution_count": 100,
      "outputs": [
        {
          "output_type": "execute_result",
          "data": {
            "text/html": [
              "<div>\n",
              "<style scoped>\n",
              "    .dataframe tbody tr th:only-of-type {\n",
              "        vertical-align: middle;\n",
              "    }\n",
              "\n",
              "    .dataframe tbody tr th {\n",
              "        vertical-align: top;\n",
              "    }\n",
              "\n",
              "    .dataframe thead th {\n",
              "        text-align: right;\n",
              "    }\n",
              "</style>\n",
              "<table border=\"1\" class=\"dataframe\">\n",
              "  <thead>\n",
              "    <tr style=\"text-align: right;\">\n",
              "      <th></th>\n",
              "      <th>title</th>\n",
              "      <th>vote</th>\n",
              "      <th>weighted_vote</th>\n",
              "      <th>vote_count</th>\n",
              "    </tr>\n",
              "  </thead>\n",
              "  <tbody>\n",
              "    <tr>\n",
              "      <th>326</th>\n",
              "      <td>어벤져스: 엔드게임</td>\n",
              "      <td>9.5</td>\n",
              "      <td>9.490055</td>\n",
              "      <td>32196</td>\n",
              "    </tr>\n",
              "    <tr>\n",
              "      <th>38</th>\n",
              "      <td>보헤미안 랩소디</td>\n",
              "      <td>9.45</td>\n",
              "      <td>9.427144</td>\n",
              "      <td>13149</td>\n",
              "    </tr>\n",
              "    <tr>\n",
              "      <th>34</th>\n",
              "      <td>그린 북</td>\n",
              "      <td>9.55</td>\n",
              "      <td>9.407861</td>\n",
              "      <td>2072</td>\n",
              "    </tr>\n",
              "    <tr>\n",
              "      <th>50</th>\n",
              "      <td>알라딘</td>\n",
              "      <td>9.42</td>\n",
              "      <td>9.386280</td>\n",
              "      <td>8534</td>\n",
              "    </tr>\n",
              "    <tr>\n",
              "      <th>37</th>\n",
              "      <td>가버나움</td>\n",
              "      <td>9.54</td>\n",
              "      <td>9.343216</td>\n",
              "      <td>1394</td>\n",
              "    </tr>\n",
              "    <tr>\n",
              "      <th>31</th>\n",
              "      <td>항거:유관순 이야기</td>\n",
              "      <td>9.39</td>\n",
              "      <td>9.254694</td>\n",
              "      <td>1823</td>\n",
              "    </tr>\n",
              "    <tr>\n",
              "      <th>231</th>\n",
              "      <td>스파이더맨: 뉴 유니버스</td>\n",
              "      <td>9.38</td>\n",
              "      <td>9.247214</td>\n",
              "      <td>1840</td>\n",
              "    </tr>\n",
              "    <tr>\n",
              "      <th>315</th>\n",
              "      <td>위대한 쇼맨</td>\n",
              "      <td>9.31</td>\n",
              "      <td>9.247133</td>\n",
              "      <td>3886</td>\n",
              "    </tr>\n",
              "    <tr>\n",
              "      <th>283</th>\n",
              "      <td>뽀로로 극장판 보물섬 대모험</td>\n",
              "      <td>9.35</td>\n",
              "      <td>9.223276</td>\n",
              "      <td>1869</td>\n",
              "    </tr>\n",
              "    <tr>\n",
              "      <th>217</th>\n",
              "      <td>극한직업</td>\n",
              "      <td>9.2</td>\n",
              "      <td>9.185950</td>\n",
              "      <td>16028</td>\n",
              "    </tr>\n",
              "  </tbody>\n",
              "</table>\n",
              "</div>"
            ],
            "text/plain": [
              "               title  vote  weighted_vote vote_count\n",
              "326       어벤져스: 엔드게임   9.5       9.490055      32196\n",
              "38          보헤미안 랩소디  9.45       9.427144      13149\n",
              "34              그린 북  9.55       9.407861       2072\n",
              "50               알라딘  9.42       9.386280       8534\n",
              "37              가버나움  9.54       9.343216       1394\n",
              "31        항거:유관순 이야기  9.39       9.254694       1823\n",
              "231    스파이더맨: 뉴 유니버스  9.38       9.247214       1840\n",
              "315           위대한 쇼맨  9.31       9.247133       3886\n",
              "283  뽀로로 극장판 보물섬 대모험  9.35       9.223276       1869\n",
              "217             극한직업   9.2       9.185950      16028"
            ]
          },
          "metadata": {
            "tags": []
          },
          "execution_count": 100
        }
      ]
    },
    {
      "cell_type": "code",
      "metadata": {
        "id": "flcsGIWOvlaF",
        "outputId": "20643aee-8e75-4237-ff2c-ec33cc3f506d",
        "colab": {
          "base_uri": "https://localhost:8080/",
          "height": 34
        }
      },
      "source": [
        "from sklearn.feature_extraction.text import CountVectorizer\n",
        "\n",
        "count_vect = CountVectorizer(min_df = 0, ngram_range=(1,2))\n",
        "summ_mat = count_vect.fit_transform(movie['summary_processed'])\n",
        "print(summ_mat.shape)"
      ],
      "execution_count": 101,
      "outputs": [
        {
          "output_type": "stream",
          "text": [
            "(334, 14746)\n"
          ],
          "name": "stdout"
        }
      ]
    },
    {
      "cell_type": "code",
      "metadata": {
        "id": "NudErtZtwYye"
      },
      "source": [
        "summ_sim = cosine_similarity(summ_mat, summ_mat)\n",
        "summ_sim_sorted_ind = summ_sim.argsort()[:,::-1] #유사도가 높은 순으로 정리된 summ_sim 객체의 비교 행 위치 값을 얻을 수 있습니다."
      ],
      "execution_count": 102,
      "outputs": []
    },
    {
      "cell_type": "markdown",
      "metadata": {
        "id": "L_h79wZWxIra"
      },
      "source": [
        "추출해냈던 `summary_processed`에 대해 코사인 유사도를 구하여 줄거리 키워드가 유사한 영화 상위 10개를 추천해보자"
      ]
    },
    {
      "cell_type": "code",
      "metadata": {
        "id": "jyYLPsVVwjpE"
      },
      "source": [
        "def find_sim_movie(df, sorted_ind, title_name, top_n = 10):\n",
        "    # 인자로 입력된 df에서 'title' 칼럼이 입력된 title_name 값인 데이터프레임 추출\n",
        "    title_movie = df[df['title'] == title_name]\n",
        "\n",
        "    title_index = title_movie.index.values\n",
        "    similar_indexes = sorted_ind[title_index, :(top_n*2)]\n",
        "    similar_indexes = similar_indexes.reshape(-1) #1차원 array로 변경\n",
        "\n",
        "    similar_indexes = similar_indexes[similar_indexes != title_index]\n",
        "\n",
        "    return df.iloc[similar_indexes].sort_values('weighted_vote',ascending=False)[:top_n]"
      ],
      "execution_count": 103,
      "outputs": []
    },
    {
      "cell_type": "code",
      "metadata": {
        "id": "95004wZ8h7WY",
        "outputId": "bca284c9-3939-48e8-ccd4-9a5e1c039aac",
        "colab": {
          "base_uri": "https://localhost:8080/",
          "height": 77
        }
      },
      "source": [
        "movie[movie['title'] == '어벤져스: 엔드게임'][['title','vote','weighted_vote','summary_processed']]"
      ],
      "execution_count": 104,
      "outputs": [
        {
          "output_type": "execute_result",
          "data": {
            "text/html": [
              "<div>\n",
              "<style scoped>\n",
              "    .dataframe tbody tr th:only-of-type {\n",
              "        vertical-align: middle;\n",
              "    }\n",
              "\n",
              "    .dataframe tbody tr th {\n",
              "        vertical-align: top;\n",
              "    }\n",
              "\n",
              "    .dataframe thead th {\n",
              "        text-align: right;\n",
              "    }\n",
              "</style>\n",
              "<table border=\"1\" class=\"dataframe\">\n",
              "  <thead>\n",
              "    <tr style=\"text-align: right;\">\n",
              "      <th></th>\n",
              "      <th>title</th>\n",
              "      <th>vote</th>\n",
              "      <th>weighted_vote</th>\n",
              "      <th>summary_processed</th>\n",
              "    </tr>\n",
              "  </thead>\n",
              "  <tbody>\n",
              "    <tr>\n",
              "      <th>326</th>\n",
              "      <td>어벤져스: 엔드게임</td>\n",
              "      <td>9.5</td>\n",
              "      <td>9.490055</td>\n",
              "      <td>운명 펼쳐지 이후 위대 살아남 지구 떠나 위하 전쟁 절반 마지막 바꾸 최후 희망</td>\n",
              "    </tr>\n",
              "  </tbody>\n",
              "</table>\n",
              "</div>"
            ],
            "text/plain": [
              "          title  ...                             summary_processed\n",
              "326  어벤져스: 엔드게임  ...  운명 펼쳐지 이후 위대 살아남 지구 떠나 위하 전쟁 절반 마지막 바꾸 최후 희망\n",
              "\n",
              "[1 rows x 4 columns]"
            ]
          },
          "metadata": {
            "tags": []
          },
          "execution_count": 104
        }
      ]
    },
    {
      "cell_type": "code",
      "metadata": {
        "id": "xua0LzvZwsLm",
        "outputId": "8355d976-f46b-4ef8-d656-bf97a3e438af",
        "colab": {
          "base_uri": "https://localhost:8080/",
          "height": 345
        }
      },
      "source": [
        "similar_movies = find_sim_movie(movie, summ_sim_sorted_ind, '어벤져스: 엔드게임', 10)\n",
        "similar_movies[['title','vote','weighted_vote','summary_processed']]"
      ],
      "execution_count": 105,
      "outputs": [
        {
          "output_type": "execute_result",
          "data": {
            "text/html": [
              "<div>\n",
              "<style scoped>\n",
              "    .dataframe tbody tr th:only-of-type {\n",
              "        vertical-align: middle;\n",
              "    }\n",
              "\n",
              "    .dataframe tbody tr th {\n",
              "        vertical-align: top;\n",
              "    }\n",
              "\n",
              "    .dataframe thead th {\n",
              "        text-align: right;\n",
              "    }\n",
              "</style>\n",
              "<table border=\"1\" class=\"dataframe\">\n",
              "  <thead>\n",
              "    <tr style=\"text-align: right;\">\n",
              "      <th></th>\n",
              "      <th>title</th>\n",
              "      <th>vote</th>\n",
              "      <th>weighted_vote</th>\n",
              "      <th>summary_processed</th>\n",
              "    </tr>\n",
              "  </thead>\n",
              "  <tbody>\n",
              "    <tr>\n",
              "      <th>314</th>\n",
              "      <td>겨울왕국</td>\n",
              "      <td>9.2</td>\n",
              "      <td>9.178613</td>\n",
              "      <td>서로 친구 환상적 언니 세상 최고 저주 동생 자매 떠나 위하 자신 신비 얼리 녹이 ...</td>\n",
              "    </tr>\n",
              "    <tr>\n",
              "      <th>59</th>\n",
              "      <td>토이 스토리 4</td>\n",
              "      <td>9.23</td>\n",
              "      <td>9.151045</td>\n",
              "      <td>운명 한편 거부 통하 새롭 모험 떠나 친구 위하 나서 여행 장난감 만나 세상 버즈 ...</td>\n",
              "    </tr>\n",
              "    <tr>\n",
              "      <th>64</th>\n",
              "      <td>어벤져스: 인피니티 워</td>\n",
              "      <td>9.08</td>\n",
              "      <td>9.067384</td>\n",
              "      <td>운명 펼쳐지 목격 걸리 클라이맥스 최강 무한 대결 이루 향하 마블 스톤 조합 세계 역대</td>\n",
              "    </tr>\n",
              "    <tr>\n",
              "      <th>293</th>\n",
              "      <td>드래곤볼 슈퍼: 브로리</td>\n",
              "      <td>9.47</td>\n",
              "      <td>8.847628</td>\n",
              "      <td>상상 운명 프리 한계 대회 만들 처절 엄청나 전투력 평화 수수께끼 전투 되찾 시작 ...</td>\n",
              "    </tr>\n",
              "    <tr>\n",
              "      <th>240</th>\n",
              "      <td>다크 나이트</td>\n",
              "      <td>9.65</td>\n",
              "      <td>8.617197</td>\n",
              "      <td>운명 기사 조직 결전 정체 전체 대결 매이 죽이 혼돈 펼치 부패 범죄 시작 내던지 ...</td>\n",
              "    </tr>\n",
              "    <tr>\n",
              "      <th>158</th>\n",
              "      <td>존 윅 3: 파라벨룸</td>\n",
              "      <td>8.64</td>\n",
              "      <td>8.604717</td>\n",
              "      <td>직면 킬러 파문 피아 내려지 전쟁 평화 국제 조치 찾아가 보호 세계 향하 마지막 결...</td>\n",
              "    </tr>\n",
              "    <tr>\n",
              "      <th>254</th>\n",
              "      <td>아일라</td>\n",
              "      <td>9.13</td>\n",
              "      <td>8.586829</td>\n",
              "      <td>운명 서로 잠시 무엇 이름 전쟁 터키어 참전 돌아가 발견 고국 그리움 모두 파병 지...</td>\n",
              "    </tr>\n",
              "    <tr>\n",
              "      <th>328</th>\n",
              "      <td>터미네이터 2</td>\n",
              "      <td>9.51</td>\n",
              "      <td>8.581085</td>\n",
              "      <td>운명 기계 인간 미래 전쟁 과거 액체 없애 사령관 지키 저항 위하 보내 스카이 코너...</td>\n",
              "    </tr>\n",
              "    <tr>\n",
              "      <th>327</th>\n",
              "      <td>터미네이터 2:오리지널</td>\n",
              "      <td>9.51</td>\n",
              "      <td>8.581085</td>\n",
              "      <td>운명 기계 인간 미래 전쟁 과거 액체 없애 사령관 지키 저항 위하 보내 스카이 코너...</td>\n",
              "    </tr>\n",
              "    <tr>\n",
              "      <th>278</th>\n",
              "      <td>안녕, 티라노: 영원히, 함께</td>\n",
              "      <td>8.6</td>\n",
              "      <td>8.511366</td>\n",
              "      <td>이제 혼자 펼쳐지 우정 비밀 관하 사랑 약속 이야기 떠나 희망 니야 가슴 아프 간직 천국</td>\n",
              "    </tr>\n",
              "  </tbody>\n",
              "</table>\n",
              "</div>"
            ],
            "text/plain": [
              "                title  ...                                  summary_processed\n",
              "314              겨울왕국  ...  서로 친구 환상적 언니 세상 최고 저주 동생 자매 떠나 위하 자신 신비 얼리 녹이 ...\n",
              "59           토이 스토리 4  ...  운명 한편 거부 통하 새롭 모험 떠나 친구 위하 나서 여행 장난감 만나 세상 버즈 ...\n",
              "64       어벤져스: 인피니티 워  ...   운명 펼쳐지 목격 걸리 클라이맥스 최강 무한 대결 이루 향하 마블 스톤 조합 세계 역대\n",
              "293      드래곤볼 슈퍼: 브로리  ...  상상 운명 프리 한계 대회 만들 처절 엄청나 전투력 평화 수수께끼 전투 되찾 시작 ...\n",
              "240            다크 나이트  ...  운명 기사 조직 결전 정체 전체 대결 매이 죽이 혼돈 펼치 부패 범죄 시작 내던지 ...\n",
              "158       존 윅 3: 파라벨룸  ...  직면 킬러 파문 피아 내려지 전쟁 평화 국제 조치 찾아가 보호 세계 향하 마지막 결...\n",
              "254               아일라  ...  운명 서로 잠시 무엇 이름 전쟁 터키어 참전 돌아가 발견 고국 그리움 모두 파병 지...\n",
              "328           터미네이터 2  ...  운명 기계 인간 미래 전쟁 과거 액체 없애 사령관 지키 저항 위하 보내 스카이 코너...\n",
              "327      터미네이터 2:오리지널  ...  운명 기계 인간 미래 전쟁 과거 액체 없애 사령관 지키 저항 위하 보내 스카이 코너...\n",
              "278  안녕, 티라노: 영원히, 함께  ...  이제 혼자 펼쳐지 우정 비밀 관하 사랑 약속 이야기 떠나 희망 니야 가슴 아프 간직 천국\n",
              "\n",
              "[10 rows x 4 columns]"
            ]
          },
          "metadata": {
            "tags": []
          },
          "execution_count": 105
        }
      ]
    },
    {
      "cell_type": "code",
      "metadata": {
        "id": "Vx5E3QLNhvJ6",
        "outputId": "3849b5b8-c3c1-4e87-8c1f-884e0727205f",
        "colab": {
          "base_uri": "https://localhost:8080/",
          "height": 77
        }
      },
      "source": [
        "movie[movie['title'] == '보헤미안 랩소디'][['title','vote','weighted_vote','summary_processed']]"
      ],
      "execution_count": 106,
      "outputs": [
        {
          "output_type": "execute_result",
          "data": {
            "text/html": [
              "<div>\n",
              "<style scoped>\n",
              "    .dataframe tbody tr th:only-of-type {\n",
              "        vertical-align: middle;\n",
              "    }\n",
              "\n",
              "    .dataframe tbody tr th {\n",
              "        vertical-align: top;\n",
              "    }\n",
              "\n",
              "    .dataframe thead th {\n",
              "        text-align: right;\n",
              "    }\n",
              "</style>\n",
              "<table border=\"1\" class=\"dataframe\">\n",
              "  <thead>\n",
              "    <tr style=\"text-align: right;\">\n",
              "      <th></th>\n",
              "      <th>title</th>\n",
              "      <th>vote</th>\n",
              "      <th>weighted_vote</th>\n",
              "      <th>summary_processed</th>\n",
              "    </tr>\n",
              "  </thead>\n",
              "  <tbody>\n",
              "    <tr>\n",
              "      <th>38</th>\n",
              "      <td>보헤미안 랩소디</td>\n",
              "      <td>9.45</td>\n",
              "      <td>9.427144</td>\n",
              "      <td>아웃사이더 성장 퍼포먼스 이민자 독창적 들어가 데뷔 멤버 이름 결별 사로잡 시대 흔...</td>\n",
              "    </tr>\n",
              "  </tbody>\n",
              "</table>\n",
              "</div>"
            ],
            "text/plain": [
              "       title  ...                                  summary_processed\n",
              "38  보헤미안 랩소디  ...  아웃사이더 성장 퍼포먼스 이민자 독창적 들어가 데뷔 멤버 이름 결별 사로잡 시대 흔...\n",
              "\n",
              "[1 rows x 4 columns]"
            ]
          },
          "metadata": {
            "tags": []
          },
          "execution_count": 106
        }
      ]
    },
    {
      "cell_type": "code",
      "metadata": {
        "id": "fvw51pCrw2Fx",
        "outputId": "a60ce2b4-8690-4d98-bbaa-8baa29e6db8b",
        "colab": {
          "base_uri": "https://localhost:8080/",
          "height": 345
        }
      },
      "source": [
        "similar_movies = find_sim_movie(movie, summ_sim_sorted_ind, '보헤미안 랩소디', 10)\n",
        "similar_movies[['title','vote','weighted_vote','summary_processed']]"
      ],
      "execution_count": 107,
      "outputs": [
        {
          "output_type": "execute_result",
          "data": {
            "text/html": [
              "<div>\n",
              "<style scoped>\n",
              "    .dataframe tbody tr th:only-of-type {\n",
              "        vertical-align: middle;\n",
              "    }\n",
              "\n",
              "    .dataframe tbody tr th {\n",
              "        vertical-align: top;\n",
              "    }\n",
              "\n",
              "    .dataframe thead th {\n",
              "        text-align: right;\n",
              "    }\n",
              "</style>\n",
              "<table border=\"1\" class=\"dataframe\">\n",
              "  <thead>\n",
              "    <tr style=\"text-align: right;\">\n",
              "      <th></th>\n",
              "      <th>title</th>\n",
              "      <th>vote</th>\n",
              "      <th>weighted_vote</th>\n",
              "      <th>summary_processed</th>\n",
              "    </tr>\n",
              "  </thead>\n",
              "  <tbody>\n",
              "    <tr>\n",
              "      <th>231</th>\n",
              "      <td>스파이더맨: 뉴 유니버스</td>\n",
              "      <td>9.38</td>\n",
              "      <td>9.247214</td>\n",
              "      <td>싸우 이후 피터 거미 누아르 모든 시대 구하 유니 시작 버스 있음 존재 악당 마주치...</td>\n",
              "    </tr>\n",
              "    <tr>\n",
              "      <th>182</th>\n",
              "      <td>브링 더 소울 : 더 무비</td>\n",
              "      <td>9.68</td>\n",
              "      <td>9.074111</td>\n",
              "      <td>전세계 풀어지 파리 긴장 둘르 멤버 설레 콘서트 나누 펼쳐지 유럽 투어 시작 열광 ...</td>\n",
              "    </tr>\n",
              "    <tr>\n",
              "      <th>272</th>\n",
              "      <td>너의 이름은.</td>\n",
              "      <td>9.02</td>\n",
              "      <td>9.004857</td>\n",
              "      <td>운명 서로 친구 가족 깨닫 되어가 이름 확인 시작 다가오 도쿄 낯설 너르 남기 풍경...</td>\n",
              "    </tr>\n",
              "    <tr>\n",
              "      <th>133</th>\n",
              "      <td>마이펫의 이중생활2</td>\n",
              "      <td>9</td>\n",
              "      <td>8.854875</td>\n",
              "      <td>어로 스노우 집구석 따르 생각 걱정 세상 시작 비우 고프 자유 나쁘 속마음 공개 사...</td>\n",
              "    </tr>\n",
              "    <tr>\n",
              "      <th>145</th>\n",
              "      <td>범블비</td>\n",
              "      <td>8.75</td>\n",
              "      <td>8.706361</td>\n",
              "      <td>목격 서로 인간 의하 정체 임무 이름 전쟁 되어가 도착 지속 거대 발견 진짜 수리 ...</td>\n",
              "    </tr>\n",
              "    <tr>\n",
              "      <th>202</th>\n",
              "      <td>위로공단</td>\n",
              "      <td>9.02</td>\n",
              "      <td>8.657658</td>\n",
              "      <td>단지 신음 눈물 독창적 빌딩 노동 가족 이름 과거 기나길 동의 다큐멘터리 나이키 스...</td>\n",
              "    </tr>\n",
              "    <tr>\n",
              "      <th>254</th>\n",
              "      <td>아일라</td>\n",
              "      <td>9.13</td>\n",
              "      <td>8.586829</td>\n",
              "      <td>운명 서로 잠시 무엇 이름 전쟁 터키어 참전 돌아가 발견 고국 그리움 모두 파병 지...</td>\n",
              "    </tr>\n",
              "    <tr>\n",
              "      <th>21</th>\n",
              "      <td>로켓맨</td>\n",
              "      <td>8.8</td>\n",
              "      <td>8.585797</td>\n",
              "      <td>알아보 퍼포먼스 대중 자리잡 환상적 친구 상처 사로잡 시대 세상 음악성 최고 천재적...</td>\n",
              "    </tr>\n",
              "    <tr>\n",
              "      <th>136</th>\n",
              "      <td>명탐정 피카츄</td>\n",
              "      <td>8.53</td>\n",
              "      <td>8.508121</td>\n",
              "      <td>탐정 아냐 여기 이름 구하 적히 세상 깨어나 시작 단서 모험 아빠 번쩍이 아들 해리...</td>\n",
              "    </tr>\n",
              "    <tr>\n",
              "      <th>197</th>\n",
              "      <td>1919 유관순</td>\n",
              "      <td>8.65</td>\n",
              "      <td>8.477798</td>\n",
              "      <td>시작 기록 그녀 기억 위하 그날 맞서 이름 재판 남기 너희 시절 소녀 모든 세상 우...</td>\n",
              "    </tr>\n",
              "  </tbody>\n",
              "</table>\n",
              "</div>"
            ],
            "text/plain": [
              "              title  ...                                  summary_processed\n",
              "231   스파이더맨: 뉴 유니버스  ...  싸우 이후 피터 거미 누아르 모든 시대 구하 유니 시작 버스 있음 존재 악당 마주치...\n",
              "182  브링 더 소울 : 더 무비  ...  전세계 풀어지 파리 긴장 둘르 멤버 설레 콘서트 나누 펼쳐지 유럽 투어 시작 열광 ...\n",
              "272         너의 이름은.  ...  운명 서로 친구 가족 깨닫 되어가 이름 확인 시작 다가오 도쿄 낯설 너르 남기 풍경...\n",
              "133      마이펫의 이중생활2  ...  어로 스노우 집구석 따르 생각 걱정 세상 시작 비우 고프 자유 나쁘 속마음 공개 사...\n",
              "145             범블비  ...  목격 서로 인간 의하 정체 임무 이름 전쟁 되어가 도착 지속 거대 발견 진짜 수리 ...\n",
              "202            위로공단  ...  단지 신음 눈물 독창적 빌딩 노동 가족 이름 과거 기나길 동의 다큐멘터리 나이키 스...\n",
              "254             아일라  ...  운명 서로 잠시 무엇 이름 전쟁 터키어 참전 돌아가 발견 고국 그리움 모두 파병 지...\n",
              "21              로켓맨  ...  알아보 퍼포먼스 대중 자리잡 환상적 친구 상처 사로잡 시대 세상 음악성 최고 천재적...\n",
              "136         명탐정 피카츄  ...  탐정 아냐 여기 이름 구하 적히 세상 깨어나 시작 단서 모험 아빠 번쩍이 아들 해리...\n",
              "197        1919 유관순  ...  시작 기록 그녀 기억 위하 그날 맞서 이름 재판 남기 너희 시절 소녀 모든 세상 우...\n",
              "\n",
              "[10 rows x 4 columns]"
            ]
          },
          "metadata": {
            "tags": []
          },
          "execution_count": 107
        }
      ]
    },
    {
      "cell_type": "markdown",
      "metadata": {
        "id": "0Vz7xV_4iEua"
      },
      "source": [
        "줄거리에 나타나는 키워드 유사도를 바탕으로 추천해보았을 때엔 `나름대로..` 비슷한 키워드가 포함된 영화들이 추천되는 것 같다. 물론 엄청난 관련은 없어보이지만... \n",
        "\n",
        "이제는 좀 더 세부적인 조건을 추가해보려고 한다.\n",
        "* 장르가 같으면 가산점\n",
        "* 감독이 같으면 가산점\n",
        "* 출연하는 배우가 같으면 가산점\n",
        "\n",
        "---\n",
        "\n",
        "### 장르가 같으면 가산점\n",
        "장르는 기본적으로 포함하여 줄거리 유사도와 장르의 일치여부를 판단하여 추천해보려고 한다. \n",
        "\n",
        "### 감독, 출연하는 배우가 같으면 가산점\n",
        "이 부분은 `선택`으로 줄 생각이다. 만약 입력되지 않는다면 장르와 줄거리 유사도를 기반으로 10가지 영화를 추천하는 반면에, 감독이나 배우가 입력된다면 유사도의 우선순위를 `장르 > 감독 or 배우 > 줄거리유사도` 순으로 주고, 입력되지 않는다면 유사도 우선순위를 `장르 > 줄거리유사도` 순으로 준다.\n",
        "\n",
        "\n",
        "이는 해당 영화를 좋아한다고 해서 그 영화의 `감독`을 좋아하진 않는다는 가정을 바탕으로 진행하며 `배우` 또한 마찬가지이다. "
      ]
    },
    {
      "cell_type": "markdown",
      "metadata": {
        "id": "f6JmJWuljIMd"
      },
      "source": [
        "앞서 구현했던 find_sim_movie를 장르를 포함할 수 있도록 수정해보자.\n",
        "대신, 동일한 장르의 영화만 10가지 모두 추천되지 않도록 같은 장르의 영화는 50% 추천될 수 있도록 해보자."
      ]
    },
    {
      "cell_type": "code",
      "metadata": {
        "id": "Pf03YK3uosYT"
      },
      "source": [
        "from sklearn.feature_extraction.text import CountVectorizer\n",
        "def get_similarity(df):\n",
        "  count_vect = CountVectorizer(min_df = 0, ngram_range=(1,2))\n",
        "  mat = count_vect.fit_transform(df['summary_processed'])\n",
        "\n",
        "  sim = cosine_similarity(mat, mat)\n",
        "  sim_sorted_ind = sim.argsort()[:,::-1]\n",
        "  return mat, sim, sim_sorted_ind"
      ],
      "execution_count": 180,
      "outputs": []
    },
    {
      "cell_type": "code",
      "metadata": {
        "id": "T-3hPBUCnmEM"
      },
      "source": [
        "summ_mat, summ_sim, summ_sim_sorted_ind = get_similarity('summary_processed', movie)"
      ],
      "execution_count": 174,
      "outputs": []
    },
    {
      "cell_type": "markdown",
      "metadata": {
        "id": "bhG4p5zGogYp"
      },
      "source": [
        "1. 장르가 일치하는 것에서 줄거리 유사도를 산충해서 높은 것 5가지를 뽑는다.\n",
        "2. 줄거리 유사도가 일치하는 것들 중 1과 겹치지 않는 것을 추가한다."
      ]
    },
    {
      "cell_type": "code",
      "metadata": {
        "id": "gdfRrvAQjDk8"
      },
      "source": [
        "def find_sim_movie(df, summ_sorted_ind, title_name, top_n = 10):\n",
        "    # 인자로 입력된 df에서 'title' 칼럼이 입력된 title_name 값인 데이터프레임 추출\n",
        "    title_movie = df[df['title'] == title_name]\n",
        "    title_index = title_movie.index.values\n",
        "\n",
        "    #먼저, 장르가 일치하는 것들에 대한 dataframe을 구한다.\n",
        "    genre = df[df['title'] == title_name]['genre']\n",
        "    genre_name = genre.values[0]\n",
        "\n",
        "    print(\"추천 기준 영화 정보\")\n",
        "    print(df[df['title'] == title_name][['title','genre','summary_processed']])\n",
        "\n",
        "    genre_df = df[df['genre'] == genre_name]\n",
        "    genre_df.reset_index(inplace = True)\n",
        "    genre_df.drop(['index'], axis=1, inplace = True)\n",
        "    \n",
        "    g_mat, g_sim, g_sim_sorted_ind = get_similarity(genre_df)\n",
        "    g_title_movie = genre_df[genre_df['title'] == title_name]\n",
        "    g_title_index = g_title_movie.index.values\n",
        "    g_similar_indexes = g_sim_sorted_ind[g_title_index, :(top_n)]\n",
        "    g_similar_indexes = g_similar_indexes.reshape(-1)\n",
        "    g_similar_indexes = g_similar_indexes[g_similar_indexes != g_title_index]\n",
        "    g = genre_df.iloc[g_similar_indexes].sort_values('weighted_vote',ascending=False)[:top_n//2]\n",
        "\n",
        "# /    줄거리가 유사한 것들에 대해 다시 진행\n",
        "    similar_indexes = summ_sorted_ind[title_index, :(top_n)]\n",
        "    similar_indexes = similar_indexes.reshape(-1) #1차원 array로 변경\n",
        "    similar_indexes = similar_indexes[similar_indexes != title_index]\n",
        "    s = df.iloc[similar_indexes].sort_values('weighted_vote',ascending=False)[:top_n//2]\n",
        "\n",
        "    # 혹시 모를 후보군\n",
        "    candidate = df.iloc[similar_indexes].sort_values('weighted_vote',ascending=False)[:top_n//2]\n",
        "\n",
        "    result = pd.concat([g, s])\n",
        "    result = result.sort_values('weighted_vote', ascending=False)\n",
        "    result.reset_index(inplace = True)\n",
        "    result.drop(['index'],axis=1,inplace=True)\n",
        "    result = result.drop_duplicates(['title'], keep='first') #중복 제거\n",
        "\n",
        "    if len(result) < 10: #열개보다 적은 경우\n",
        "      result = pd.concat([result, candidate]) #후보군과 먼저 합친다.\n",
        "      result = result.drop_duplicates(['title'], keep='first') #다시 중복을 제거하고\n",
        "      result = result[:top_n] #열개만큼 잘라낸 뒤,\n",
        "      result = result.sort_values('weighted_vote',ascending=False) #다시 별점 순으로 변경\n",
        "    return result"
      ],
      "execution_count": 227,
      "outputs": []
    },
    {
      "cell_type": "code",
      "metadata": {
        "id": "2cqzT60Q1Lpt",
        "outputId": "fd38a4dc-3168-44a7-b916-fd4ce8877cc6",
        "colab": {
          "base_uri": "https://localhost:8080/",
          "height": 338
        }
      },
      "source": [
        "similar_movies = find_sim_movie(movie, summ_sim_sorted_ind, '어벤져스: 엔드게임', 10)\n",
        "similar_movies[['title','vote','weighted_vote','genre','summary_processed']]"
      ],
      "execution_count": 228,
      "outputs": [
        {
          "output_type": "stream",
          "text": [
            "추천 기준 영화 정보\n",
            "          title genre                             summary_processed\n",
            "326  어벤져스: 엔드게임    액션  운명 펼쳐지 이후 위대 살아남 지구 떠나 위하 전쟁 절반 마지막 바꾸 최후 희망\n"
          ],
          "name": "stdout"
        },
        {
          "output_type": "execute_result",
          "data": {
            "text/html": [
              "<div>\n",
              "<style scoped>\n",
              "    .dataframe tbody tr th:only-of-type {\n",
              "        vertical-align: middle;\n",
              "    }\n",
              "\n",
              "    .dataframe tbody tr th {\n",
              "        vertical-align: top;\n",
              "    }\n",
              "\n",
              "    .dataframe thead th {\n",
              "        text-align: right;\n",
              "    }\n",
              "</style>\n",
              "<table border=\"1\" class=\"dataframe\">\n",
              "  <thead>\n",
              "    <tr style=\"text-align: right;\">\n",
              "      <th></th>\n",
              "      <th>title</th>\n",
              "      <th>vote</th>\n",
              "      <th>weighted_vote</th>\n",
              "      <th>genre</th>\n",
              "      <th>summary_processed</th>\n",
              "    </tr>\n",
              "  </thead>\n",
              "  <tbody>\n",
              "    <tr>\n",
              "      <th>0</th>\n",
              "      <td>토이 스토리 4</td>\n",
              "      <td>9.23</td>\n",
              "      <td>9.151045</td>\n",
              "      <td>애니메이션</td>\n",
              "      <td>운명 한편 거부 통하 새롭 모험 떠나 친구 위하 나서 여행 장난감 만나 세상 버즈 ...</td>\n",
              "    </tr>\n",
              "    <tr>\n",
              "      <th>1</th>\n",
              "      <td>어벤져스: 인피니티 워</td>\n",
              "      <td>9.08</td>\n",
              "      <td>9.067384</td>\n",
              "      <td>액션</td>\n",
              "      <td>운명 펼쳐지 목격 걸리 클라이맥스 최강 무한 대결 이루 향하 마블 스톤 조합 세계 역대</td>\n",
              "    </tr>\n",
              "    <tr>\n",
              "      <th>3</th>\n",
              "      <td>다크 나이트</td>\n",
              "      <td>9.65</td>\n",
              "      <td>8.617197</td>\n",
              "      <td>액션</td>\n",
              "      <td>운명 기사 조직 결전 정체 전체 대결 매이 죽이 혼돈 펼치 부패 범죄 시작 내던지 ...</td>\n",
              "    </tr>\n",
              "    <tr>\n",
              "      <th>5</th>\n",
              "      <td>존 윅 3: 파라벨룸</td>\n",
              "      <td>8.64</td>\n",
              "      <td>8.604717</td>\n",
              "      <td>액션</td>\n",
              "      <td>직면 킬러 파문 피아 내려지 전쟁 평화 국제 조치 찾아가 보호 세계 향하 마지막 결...</td>\n",
              "    </tr>\n",
              "    <tr>\n",
              "      <th>6</th>\n",
              "      <td>아일라</td>\n",
              "      <td>9.13</td>\n",
              "      <td>8.586829</td>\n",
              "      <td>드라마</td>\n",
              "      <td>운명 서로 잠시 무엇 이름 전쟁 터키어 참전 돌아가 발견 고국 그리움 모두 파병 지...</td>\n",
              "    </tr>\n",
              "    <tr>\n",
              "      <th>7</th>\n",
              "      <td>안녕, 티라노: 영원히, 함께</td>\n",
              "      <td>8.6</td>\n",
              "      <td>8.511366</td>\n",
              "      <td>애니메이션</td>\n",
              "      <td>이제 혼자 펼쳐지 우정 비밀 관하 사랑 약속 이야기 떠나 희망 니야 가슴 아프 간직 천국</td>\n",
              "    </tr>\n",
              "    <tr>\n",
              "      <th>8</th>\n",
              "      <td>캡틴 마블</td>\n",
              "      <td>8.45</td>\n",
              "      <td>8.450464</td>\n",
              "      <td>액션</td>\n",
              "      <td>이루 전쟁 사무엘 발견 요원 지구 캐럴 크리 버스 향하 시절 희망 빠지 살아가 전사...</td>\n",
              "    </tr>\n",
              "    <tr>\n",
              "      <th>9</th>\n",
              "      <td>안나</td>\n",
              "      <td>8.2</td>\n",
              "      <td>8.402304</td>\n",
              "      <td>액션</td>\n",
              "      <td>제거 루스 액션 시작 살아남 파리 미션 킬러 위하 모델 위장 하드 모든 코어 위협 마지막</td>\n",
              "    </tr>\n",
              "  </tbody>\n",
              "</table>\n",
              "</div>"
            ],
            "text/plain": [
              "              title  ...                                  summary_processed\n",
              "0          토이 스토리 4  ...  운명 한편 거부 통하 새롭 모험 떠나 친구 위하 나서 여행 장난감 만나 세상 버즈 ...\n",
              "1      어벤져스: 인피니티 워  ...   운명 펼쳐지 목격 걸리 클라이맥스 최강 무한 대결 이루 향하 마블 스톤 조합 세계 역대\n",
              "3            다크 나이트  ...  운명 기사 조직 결전 정체 전체 대결 매이 죽이 혼돈 펼치 부패 범죄 시작 내던지 ...\n",
              "5       존 윅 3: 파라벨룸  ...  직면 킬러 파문 피아 내려지 전쟁 평화 국제 조치 찾아가 보호 세계 향하 마지막 결...\n",
              "6               아일라  ...  운명 서로 잠시 무엇 이름 전쟁 터키어 참전 돌아가 발견 고국 그리움 모두 파병 지...\n",
              "7  안녕, 티라노: 영원히, 함께  ...  이제 혼자 펼쳐지 우정 비밀 관하 사랑 약속 이야기 떠나 희망 니야 가슴 아프 간직 천국\n",
              "8             캡틴 마블  ...  이루 전쟁 사무엘 발견 요원 지구 캐럴 크리 버스 향하 시절 희망 빠지 살아가 전사...\n",
              "9                안나  ...  제거 루스 액션 시작 살아남 파리 미션 킬러 위하 모델 위장 하드 모든 코어 위협 마지막\n",
              "\n",
              "[8 rows x 5 columns]"
            ]
          },
          "metadata": {
            "tags": []
          },
          "execution_count": 228
        }
      ]
    },
    {
      "cell_type": "code",
      "metadata": {
        "id": "06W4yUs6rjXO",
        "outputId": "dbf04f09-83e1-4766-a6b2-dc1f3a3771ea",
        "colab": {
          "base_uri": "https://localhost:8080/",
          "height": 338
        }
      },
      "source": [
        "similar_movies = find_sim_movie(movie, summ_sim_sorted_ind, '보헤미안 랩소디', 10)\n",
        "similar_movies[['title','vote','weighted_vote','genre','summary_processed']]"
      ],
      "execution_count": 229,
      "outputs": [
        {
          "output_type": "stream",
          "text": [
            "추천 기준 영화 정보\n",
            "       title genre                                  summary_processed\n",
            "38  보헤미안 랩소디   드라마  아웃사이더 성장 퍼포먼스 이민자 독창적 들어가 데뷔 멤버 이름 결별 사로잡 시대 흔...\n"
          ],
          "name": "stdout"
        },
        {
          "output_type": "execute_result",
          "data": {
            "text/html": [
              "<div>\n",
              "<style scoped>\n",
              "    .dataframe tbody tr th:only-of-type {\n",
              "        vertical-align: middle;\n",
              "    }\n",
              "\n",
              "    .dataframe tbody tr th {\n",
              "        vertical-align: top;\n",
              "    }\n",
              "\n",
              "    .dataframe thead th {\n",
              "        text-align: right;\n",
              "    }\n",
              "</style>\n",
              "<table border=\"1\" class=\"dataframe\">\n",
              "  <thead>\n",
              "    <tr style=\"text-align: right;\">\n",
              "      <th></th>\n",
              "      <th>title</th>\n",
              "      <th>vote</th>\n",
              "      <th>weighted_vote</th>\n",
              "      <th>genre</th>\n",
              "      <th>summary_processed</th>\n",
              "    </tr>\n",
              "  </thead>\n",
              "  <tbody>\n",
              "    <tr>\n",
              "      <th>0</th>\n",
              "      <td>스파이더맨: 뉴 유니버스</td>\n",
              "      <td>9.38</td>\n",
              "      <td>9.247214</td>\n",
              "      <td>애니메이션</td>\n",
              "      <td>싸우 이후 피터 거미 누아르 모든 시대 구하 유니 시작 버스 있음 존재 악당 마주치...</td>\n",
              "    </tr>\n",
              "    <tr>\n",
              "      <th>1</th>\n",
              "      <td>너의 이름은.</td>\n",
              "      <td>9.02</td>\n",
              "      <td>9.004857</td>\n",
              "      <td>애니메이션</td>\n",
              "      <td>운명 서로 친구 가족 깨닫 되어가 이름 확인 시작 다가오 도쿄 낯설 너르 남기 풍경...</td>\n",
              "    </tr>\n",
              "    <tr>\n",
              "      <th>2</th>\n",
              "      <td>생일</td>\n",
              "      <td>9.01</td>\n",
              "      <td>8.902019</td>\n",
              "      <td>드라마</td>\n",
              "      <td>영원 서로 이후 올해 친구 가족 세상 그리움 모두 남기 아들 선물 특별 이야기 떠나...</td>\n",
              "    </tr>\n",
              "    <tr>\n",
              "      <th>3</th>\n",
              "      <td>위로공단</td>\n",
              "      <td>9.02</td>\n",
              "      <td>8.657658</td>\n",
              "      <td>다큐멘터리</td>\n",
              "      <td>단지 신음 눈물 독창적 빌딩 노동 가족 이름 과거 기나길 동의 다큐멘터리 나이키 스...</td>\n",
              "    </tr>\n",
              "    <tr>\n",
              "      <th>4</th>\n",
              "      <td>아일라</td>\n",
              "      <td>9.13</td>\n",
              "      <td>8.586829</td>\n",
              "      <td>드라마</td>\n",
              "      <td>운명 서로 잠시 무엇 이름 전쟁 터키어 참전 돌아가 발견 고국 그리움 모두 파병 지...</td>\n",
              "    </tr>\n",
              "    <tr>\n",
              "      <th>6</th>\n",
              "      <td>로켓맨</td>\n",
              "      <td>8.8</td>\n",
              "      <td>8.585797</td>\n",
              "      <td>드라마</td>\n",
              "      <td>알아보 퍼포먼스 대중 자리잡 환상적 친구 상처 사로잡 시대 세상 음악성 최고 천재적...</td>\n",
              "    </tr>\n",
              "    <tr>\n",
              "      <th>8</th>\n",
              "      <td>쉰들러 리스트</td>\n",
              "      <td>9.3</td>\n",
              "      <td>8.580307</td>\n",
              "      <td>드라마</td>\n",
              "      <td>리스트 의하 주의 강제 수단 노동 만들 참혹 시대 흔들리 방법 구하 학살 적히 명단...</td>\n",
              "    </tr>\n",
              "    <tr>\n",
              "      <th>9</th>\n",
              "      <td>모리스</td>\n",
              "      <td>8.8</td>\n",
              "      <td>8.508101</td>\n",
              "      <td>드라마</td>\n",
              "      <td>생활 서로 우정 발전 흔들리 변하 대학교 시작 이브 사람 해방감 가깝 존재 사랑 버...</td>\n",
              "    </tr>\n",
              "  </tbody>\n",
              "</table>\n",
              "</div>"
            ],
            "text/plain": [
              "           title  ...                                  summary_processed\n",
              "0  스파이더맨: 뉴 유니버스  ...  싸우 이후 피터 거미 누아르 모든 시대 구하 유니 시작 버스 있음 존재 악당 마주치...\n",
              "1        너의 이름은.  ...  운명 서로 친구 가족 깨닫 되어가 이름 확인 시작 다가오 도쿄 낯설 너르 남기 풍경...\n",
              "2             생일  ...  영원 서로 이후 올해 친구 가족 세상 그리움 모두 남기 아들 선물 특별 이야기 떠나...\n",
              "3           위로공단  ...  단지 신음 눈물 독창적 빌딩 노동 가족 이름 과거 기나길 동의 다큐멘터리 나이키 스...\n",
              "4            아일라  ...  운명 서로 잠시 무엇 이름 전쟁 터키어 참전 돌아가 발견 고국 그리움 모두 파병 지...\n",
              "6            로켓맨  ...  알아보 퍼포먼스 대중 자리잡 환상적 친구 상처 사로잡 시대 세상 음악성 최고 천재적...\n",
              "8        쉰들러 리스트  ...  리스트 의하 주의 강제 수단 노동 만들 참혹 시대 흔들리 방법 구하 학살 적히 명단...\n",
              "9            모리스  ...  생활 서로 우정 발전 흔들리 변하 대학교 시작 이브 사람 해방감 가깝 존재 사랑 버...\n",
              "\n",
              "[8 rows x 5 columns]"
            ]
          },
          "metadata": {
            "tags": []
          },
          "execution_count": 229
        }
      ]
    },
    {
      "cell_type": "code",
      "metadata": {
        "id": "fQ0V9oEczGtI",
        "outputId": "8888dc62-0cc1-4367-c9f5-aae7f42bda92",
        "colab": {
          "base_uri": "https://localhost:8080/",
          "height": 368
        }
      },
      "source": [
        "similar_movies = find_sim_movie(movie, summ_sim_sorted_ind, '알라딘', 10)\n",
        "similar_movies[['title','vote','weighted_vote','genre','summary_processed']]"
      ],
      "execution_count": 230,
      "outputs": [
        {
          "output_type": "stream",
          "text": [
            "추천 기준 영화 정보\n",
            "   title genre                                  summary_processed\n",
            "50   알라딘    모험  휘말리 시대 생각 자파 머나멀 모험 램프 의뢰 소원 마음 마법 들어주 사막 나서 신...\n"
          ],
          "name": "stdout"
        },
        {
          "output_type": "execute_result",
          "data": {
            "text/html": [
              "<div>\n",
              "<style scoped>\n",
              "    .dataframe tbody tr th:only-of-type {\n",
              "        vertical-align: middle;\n",
              "    }\n",
              "\n",
              "    .dataframe tbody tr th {\n",
              "        vertical-align: top;\n",
              "    }\n",
              "\n",
              "    .dataframe thead th {\n",
              "        text-align: right;\n",
              "    }\n",
              "</style>\n",
              "<table border=\"1\" class=\"dataframe\">\n",
              "  <thead>\n",
              "    <tr style=\"text-align: right;\">\n",
              "      <th></th>\n",
              "      <th>title</th>\n",
              "      <th>vote</th>\n",
              "      <th>weighted_vote</th>\n",
              "      <th>genre</th>\n",
              "      <th>summary_processed</th>\n",
              "    </tr>\n",
              "  </thead>\n",
              "  <tbody>\n",
              "    <tr>\n",
              "      <th>0</th>\n",
              "      <td>토이 스토리 4</td>\n",
              "      <td>9.23</td>\n",
              "      <td>9.151045</td>\n",
              "      <td>애니메이션</td>\n",
              "      <td>운명 한편 거부 통하 새롭 모험 떠나 친구 위하 나서 여행 장난감 만나 세상 버즈 ...</td>\n",
              "    </tr>\n",
              "    <tr>\n",
              "      <th>1</th>\n",
              "      <td>이웃집 토토로</td>\n",
              "      <td>9.52</td>\n",
              "      <td>8.941242</td>\n",
              "      <td>애니메이션</td>\n",
              "      <td>친구 언니 취하 도착 토토 생명체 모험 아빠 위태 소식 특별 도시 어머니 메이 연락...</td>\n",
              "    </tr>\n",
              "    <tr>\n",
              "      <th>2</th>\n",
              "      <td>레드슈즈</td>\n",
              "      <td>9.14</td>\n",
              "      <td>8.938324</td>\n",
              "      <td>애니메이션</td>\n",
              "      <td>영원 운명 사고 레드 생각 끊이 초록색 구두 저주 시작 사건 아빠 꿈꾸 난쟁이 한편...</td>\n",
              "    </tr>\n",
              "    <tr>\n",
              "      <th>3</th>\n",
              "      <td>겨울왕국 2</td>\n",
              "      <td>8.95</td>\n",
              "      <td>8.926177</td>\n",
              "      <td>애니메이션</td>\n",
              "      <td>운명 트롤 알려주 과거 목소리 구하 평화 시작 스토프 모험 조언 크리 부르 두려워하...</td>\n",
              "    </tr>\n",
              "    <tr>\n",
              "      <th>4</th>\n",
              "      <td>왕이 될 아이</td>\n",
              "      <td>9.1</td>\n",
              "      <td>8.639181</td>\n",
              "      <td>모험</td>\n",
              "      <td>학교 어로 레베카 루이스 잠시 미래 친구 모으 구하 발견 세상 절대악 스튜 엑스 패...</td>\n",
              "    </tr>\n",
              "    <tr>\n",
              "      <th>5</th>\n",
              "      <td>라이온 킹</td>\n",
              "      <td>8.64</td>\n",
              "      <td>8.622503</td>\n",
              "      <td>모험</td>\n",
              "      <td>모습 삼촌 도움 친구 과거 시대 왕인 세상 의욕 죄책감 되찾 마주하 사자 도전 욕망...</td>\n",
              "    </tr>\n",
              "    <tr>\n",
              "      <th>6</th>\n",
              "      <td>시인 할매</td>\n",
              "      <td>9.53</td>\n",
              "      <td>8.558421</td>\n",
              "      <td>다큐멘터리</td>\n",
              "      <td>박사 세월 소원 석자 배우 마음 위로 한편 서럽 견디 만이 가족 이름 만나 시집살이...</td>\n",
              "    </tr>\n",
              "    <tr>\n",
              "      <th>7</th>\n",
              "      <td>필그리미지</td>\n",
              "      <td>7.8</td>\n",
              "      <td>8.454642</td>\n",
              "      <td>모험</td>\n",
              "      <td>교황 전쟁 노리 수도 도중 일행 지키 사가 나타나 향하 랜드 원하 위하 처하 승리 ...</td>\n",
              "    </tr>\n",
              "    <tr>\n",
              "      <th>8</th>\n",
              "      <td>신비한 동물들과 그린델왈드의 범죄</td>\n",
              "      <td>7.46</td>\n",
              "      <td>7.595966</td>\n",
              "      <td>모험</td>\n",
              "      <td>탈출 운명 요청 대결 레드 도움 메인 장담 사용 모으 사회 야욕 활약 순혈 알버스 ...</td>\n",
              "    </tr>\n",
              "  </tbody>\n",
              "</table>\n",
              "</div>"
            ],
            "text/plain": [
              "                title  ...                                  summary_processed\n",
              "0            토이 스토리 4  ...  운명 한편 거부 통하 새롭 모험 떠나 친구 위하 나서 여행 장난감 만나 세상 버즈 ...\n",
              "1             이웃집 토토로  ...  친구 언니 취하 도착 토토 생명체 모험 아빠 위태 소식 특별 도시 어머니 메이 연락...\n",
              "2                레드슈즈  ...  영원 운명 사고 레드 생각 끊이 초록색 구두 저주 시작 사건 아빠 꿈꾸 난쟁이 한편...\n",
              "3              겨울왕국 2  ...  운명 트롤 알려주 과거 목소리 구하 평화 시작 스토프 모험 조언 크리 부르 두려워하...\n",
              "4             왕이 될 아이  ...  학교 어로 레베카 루이스 잠시 미래 친구 모으 구하 발견 세상 절대악 스튜 엑스 패...\n",
              "5               라이온 킹  ...  모습 삼촌 도움 친구 과거 시대 왕인 세상 의욕 죄책감 되찾 마주하 사자 도전 욕망...\n",
              "6               시인 할매  ...  박사 세월 소원 석자 배우 마음 위로 한편 서럽 견디 만이 가족 이름 만나 시집살이...\n",
              "7               필그리미지  ...  교황 전쟁 노리 수도 도중 일행 지키 사가 나타나 향하 랜드 원하 위하 처하 승리 ...\n",
              "8  신비한 동물들과 그린델왈드의 범죄  ...  탈출 운명 요청 대결 레드 도움 메인 장담 사용 모으 사회 야욕 활약 순혈 알버스 ...\n",
              "\n",
              "[9 rows x 5 columns]"
            ]
          },
          "metadata": {
            "tags": []
          },
          "execution_count": 230
        }
      ]
    }
  ]
}