{
  "nbformat": 4,
  "nbformat_minor": 0,
  "metadata": {
    "colab": {
      "name": "추천 알고리즘 실습_코사인 유사도.ipynb",
      "provenance": [],
      "collapsed_sections": []
    },
    "kernelspec": {
      "name": "python3",
      "display_name": "Python 3"
    },
    "widgets": {
      "application/vnd.jupyter.widget-state+json": {
        "fafc1f820afe4d48b49c899fc60b35c4": {
          "model_module": "@jupyter-widgets/controls",
          "model_name": "HBoxModel",
          "state": {
            "_view_name": "HBoxView",
            "_dom_classes": [],
            "_model_name": "HBoxModel",
            "_view_module": "@jupyter-widgets/controls",
            "_model_module_version": "1.5.0",
            "_view_count": null,
            "_view_module_version": "1.5.0",
            "box_style": "",
            "layout": "IPY_MODEL_cf8282cb185d466eaa6e27eced9afb1c",
            "_model_module": "@jupyter-widgets/controls",
            "children": [
              "IPY_MODEL_19218e0e0b624aa4a4f7c7f9666e7e2b",
              "IPY_MODEL_bed4dfdea4584f1fa87b52496c35de35"
            ]
          }
        },
        "cf8282cb185d466eaa6e27eced9afb1c": {
          "model_module": "@jupyter-widgets/base",
          "model_name": "LayoutModel",
          "state": {
            "_view_name": "LayoutView",
            "grid_template_rows": null,
            "right": null,
            "justify_content": null,
            "_view_module": "@jupyter-widgets/base",
            "overflow": null,
            "_model_module_version": "1.2.0",
            "_view_count": null,
            "flex_flow": null,
            "width": null,
            "min_width": null,
            "border": null,
            "align_items": null,
            "bottom": null,
            "_model_module": "@jupyter-widgets/base",
            "top": null,
            "grid_column": null,
            "overflow_y": null,
            "overflow_x": null,
            "grid_auto_flow": null,
            "grid_area": null,
            "grid_template_columns": null,
            "flex": null,
            "_model_name": "LayoutModel",
            "justify_items": null,
            "grid_row": null,
            "max_height": null,
            "align_content": null,
            "visibility": null,
            "align_self": null,
            "height": null,
            "min_height": null,
            "padding": null,
            "grid_auto_rows": null,
            "grid_gap": null,
            "max_width": null,
            "order": null,
            "_view_module_version": "1.2.0",
            "grid_template_areas": null,
            "object_position": null,
            "object_fit": null,
            "grid_auto_columns": null,
            "margin": null,
            "display": null,
            "left": null
          }
        },
        "19218e0e0b624aa4a4f7c7f9666e7e2b": {
          "model_module": "@jupyter-widgets/controls",
          "model_name": "FloatProgressModel",
          "state": {
            "_view_name": "ProgressView",
            "style": "IPY_MODEL_ebd3ab97ce14450ea37254a40e6aaa77",
            "_dom_classes": [],
            "description": "100%",
            "_model_name": "FloatProgressModel",
            "bar_style": "success",
            "max": 885,
            "_view_module": "@jupyter-widgets/controls",
            "_model_module_version": "1.5.0",
            "value": 885,
            "_view_count": null,
            "_view_module_version": "1.5.0",
            "orientation": "horizontal",
            "min": 0,
            "description_tooltip": null,
            "_model_module": "@jupyter-widgets/controls",
            "layout": "IPY_MODEL_b7d5eeb8f8f74ecc8d8119ae09b548f7"
          }
        },
        "bed4dfdea4584f1fa87b52496c35de35": {
          "model_module": "@jupyter-widgets/controls",
          "model_name": "HTMLModel",
          "state": {
            "_view_name": "HTMLView",
            "style": "IPY_MODEL_485db24d490c4e58a1dc5d5059aedf73",
            "_dom_classes": [],
            "description": "",
            "_model_name": "HTMLModel",
            "placeholder": "​",
            "_view_module": "@jupyter-widgets/controls",
            "_model_module_version": "1.5.0",
            "value": " 885/885 [35:15&lt;00:00,  2.39s/it]",
            "_view_count": null,
            "_view_module_version": "1.5.0",
            "description_tooltip": null,
            "_model_module": "@jupyter-widgets/controls",
            "layout": "IPY_MODEL_cf34aca646e245748784cf16b6eb7c76"
          }
        },
        "ebd3ab97ce14450ea37254a40e6aaa77": {
          "model_module": "@jupyter-widgets/controls",
          "model_name": "ProgressStyleModel",
          "state": {
            "_view_name": "StyleView",
            "_model_name": "ProgressStyleModel",
            "description_width": "initial",
            "_view_module": "@jupyter-widgets/base",
            "_model_module_version": "1.5.0",
            "_view_count": null,
            "_view_module_version": "1.2.0",
            "bar_color": null,
            "_model_module": "@jupyter-widgets/controls"
          }
        },
        "b7d5eeb8f8f74ecc8d8119ae09b548f7": {
          "model_module": "@jupyter-widgets/base",
          "model_name": "LayoutModel",
          "state": {
            "_view_name": "LayoutView",
            "grid_template_rows": null,
            "right": null,
            "justify_content": null,
            "_view_module": "@jupyter-widgets/base",
            "overflow": null,
            "_model_module_version": "1.2.0",
            "_view_count": null,
            "flex_flow": null,
            "width": null,
            "min_width": null,
            "border": null,
            "align_items": null,
            "bottom": null,
            "_model_module": "@jupyter-widgets/base",
            "top": null,
            "grid_column": null,
            "overflow_y": null,
            "overflow_x": null,
            "grid_auto_flow": null,
            "grid_area": null,
            "grid_template_columns": null,
            "flex": null,
            "_model_name": "LayoutModel",
            "justify_items": null,
            "grid_row": null,
            "max_height": null,
            "align_content": null,
            "visibility": null,
            "align_self": null,
            "height": null,
            "min_height": null,
            "padding": null,
            "grid_auto_rows": null,
            "grid_gap": null,
            "max_width": null,
            "order": null,
            "_view_module_version": "1.2.0",
            "grid_template_areas": null,
            "object_position": null,
            "object_fit": null,
            "grid_auto_columns": null,
            "margin": null,
            "display": null,
            "left": null
          }
        },
        "485db24d490c4e58a1dc5d5059aedf73": {
          "model_module": "@jupyter-widgets/controls",
          "model_name": "DescriptionStyleModel",
          "state": {
            "_view_name": "StyleView",
            "_model_name": "DescriptionStyleModel",
            "description_width": "",
            "_view_module": "@jupyter-widgets/base",
            "_model_module_version": "1.5.0",
            "_view_count": null,
            "_view_module_version": "1.2.0",
            "_model_module": "@jupyter-widgets/controls"
          }
        },
        "cf34aca646e245748784cf16b6eb7c76": {
          "model_module": "@jupyter-widgets/base",
          "model_name": "LayoutModel",
          "state": {
            "_view_name": "LayoutView",
            "grid_template_rows": null,
            "right": null,
            "justify_content": null,
            "_view_module": "@jupyter-widgets/base",
            "overflow": null,
            "_model_module_version": "1.2.0",
            "_view_count": null,
            "flex_flow": null,
            "width": null,
            "min_width": null,
            "border": null,
            "align_items": null,
            "bottom": null,
            "_model_module": "@jupyter-widgets/base",
            "top": null,
            "grid_column": null,
            "overflow_y": null,
            "overflow_x": null,
            "grid_auto_flow": null,
            "grid_area": null,
            "grid_template_columns": null,
            "flex": null,
            "_model_name": "LayoutModel",
            "justify_items": null,
            "grid_row": null,
            "max_height": null,
            "align_content": null,
            "visibility": null,
            "align_self": null,
            "height": null,
            "min_height": null,
            "padding": null,
            "grid_auto_rows": null,
            "grid_gap": null,
            "max_width": null,
            "order": null,
            "_view_module_version": "1.2.0",
            "grid_template_areas": null,
            "object_position": null,
            "object_fit": null,
            "grid_auto_columns": null,
            "margin": null,
            "display": null,
            "left": null
          }
        }
      }
    }
  },
  "cells": [
    {
      "cell_type": "markdown",
      "metadata": {
        "id": "oDg-2k0TegU5",
        "colab_type": "text"
      },
      "source": [
        "# 추천 알고리즘 실습해보기, 코사인 유사도를 가지고!"
      ]
    },
    {
      "cell_type": "code",
      "metadata": {
        "id": "uEk0O698ckLr",
        "colab_type": "code",
        "colab": {
          "base_uri": "https://localhost:8080/",
          "height": 125
        },
        "outputId": "8ca9dba2-105e-429f-826e-c1c935c9b342"
      },
      "source": [
        "from google.colab import drive \n",
        "drive.mount('/content/gdrive')"
      ],
      "execution_count": null,
      "outputs": [
        {
          "output_type": "stream",
          "text": [
            "Go to this URL in a browser: https://accounts.google.com/o/oauth2/auth?client_id=947318989803-6bn6qk8qdgf4n4g3pfee6491hc0brc4i.apps.googleusercontent.com&redirect_uri=urn%3aietf%3awg%3aoauth%3a2.0%3aoob&scope=email%20https%3a%2f%2fwww.googleapis.com%2fauth%2fdocs.test%20https%3a%2f%2fwww.googleapis.com%2fauth%2fdrive%20https%3a%2f%2fwww.googleapis.com%2fauth%2fdrive.photos.readonly%20https%3a%2f%2fwww.googleapis.com%2fauth%2fpeopleapi.readonly&response_type=code\n",
            "\n",
            "Enter your authorization code:\n",
            "··········\n",
            "Mounted at /content/gdrive\n"
          ],
          "name": "stdout"
        }
      ]
    },
    {
      "cell_type": "code",
      "metadata": {
        "id": "Bbfmtw1pcoIK",
        "colab_type": "code",
        "colab": {}
      },
      "source": [
        "import pandas as pd\n",
        "import numpy as np\n",
        "import warnings \n",
        "warnings.filterwarnings('ignore')"
      ],
      "execution_count": null,
      "outputs": []
    },
    {
      "cell_type": "code",
      "metadata": {
        "id": "3aY7yEQLewcb",
        "colab_type": "code",
        "colab": {
          "base_uri": "https://localhost:8080/",
          "height": 567
        },
        "outputId": "321c17cf-73b0-40bf-df3f-147568b53a8b"
      },
      "source": [
        "df = pd.read_csv('/content/gdrive/My Drive/data/소상공인시장진흥공단_상가(상권)정보_부산_20200630/부산_상권정보.csv', sep='|')\n",
        "df.head(1)"
      ],
      "execution_count": null,
      "outputs": [
        {
          "output_type": "execute_result",
          "data": {
            "text/html": [
              "<div>\n",
              "<style scoped>\n",
              "    .dataframe tbody tr th:only-of-type {\n",
              "        vertical-align: middle;\n",
              "    }\n",
              "\n",
              "    .dataframe tbody tr th {\n",
              "        vertical-align: top;\n",
              "    }\n",
              "\n",
              "    .dataframe thead th {\n",
              "        text-align: right;\n",
              "    }\n",
              "</style>\n",
              "<table border=\"1\" class=\"dataframe\">\n",
              "  <thead>\n",
              "    <tr style=\"text-align: right;\">\n",
              "      <th></th>\n",
              "      <th>상가업소번호</th>\n",
              "      <th>상호명</th>\n",
              "      <th>지점명</th>\n",
              "      <th>상권업종대분류코드</th>\n",
              "      <th>상권업종대분류명</th>\n",
              "      <th>상권업종중분류코드</th>\n",
              "      <th>상권업종중분류명</th>\n",
              "      <th>상권업종소분류코드</th>\n",
              "      <th>상권업종소분류명</th>\n",
              "      <th>표준산업분류코드</th>\n",
              "      <th>표준산업분류명</th>\n",
              "      <th>시도코드</th>\n",
              "      <th>시도명</th>\n",
              "      <th>시군구코드</th>\n",
              "      <th>시군구명</th>\n",
              "      <th>행정동코드</th>\n",
              "      <th>행정동명</th>\n",
              "      <th>법정동코드</th>\n",
              "      <th>법정동명</th>\n",
              "      <th>지번코드</th>\n",
              "      <th>대지구분코드</th>\n",
              "      <th>대지구분명</th>\n",
              "      <th>지번본번지</th>\n",
              "      <th>지번부번지</th>\n",
              "      <th>지번주소</th>\n",
              "      <th>도로명코드</th>\n",
              "      <th>도로명</th>\n",
              "      <th>건물본번지</th>\n",
              "      <th>건물부번지</th>\n",
              "      <th>건물관리번호</th>\n",
              "      <th>건물명</th>\n",
              "      <th>도로명주소</th>\n",
              "      <th>구우편번호</th>\n",
              "      <th>신우편번호</th>\n",
              "      <th>동정보</th>\n",
              "      <th>층정보</th>\n",
              "      <th>호정보</th>\n",
              "      <th>경도</th>\n",
              "      <th>위도</th>\n",
              "    </tr>\n",
              "  </thead>\n",
              "  <tbody>\n",
              "    <tr>\n",
              "      <th>0</th>\n",
              "      <td>20031733</td>\n",
              "      <td>동해제일산오징어</td>\n",
              "      <td>NaN</td>\n",
              "      <td>Q</td>\n",
              "      <td>음식</td>\n",
              "      <td>Q03</td>\n",
              "      <td>일식/수산물</td>\n",
              "      <td>Q03A13</td>\n",
              "      <td>낙지/오징어</td>\n",
              "      <td>I56111</td>\n",
              "      <td>한식 음식점업</td>\n",
              "      <td>26</td>\n",
              "      <td>부산광역시</td>\n",
              "      <td>26260</td>\n",
              "      <td>동래구</td>\n",
              "      <td>2626057000</td>\n",
              "      <td>온천3동</td>\n",
              "      <td>2626010800</td>\n",
              "      <td>온천동</td>\n",
              "      <td>2626010800013800002</td>\n",
              "      <td>1</td>\n",
              "      <td>대지</td>\n",
              "      <td>1380</td>\n",
              "      <td>2.0</td>\n",
              "      <td>부산광역시 동래구 온천동 1380-2번지</td>\n",
              "      <td>262604190330</td>\n",
              "      <td>부산광역시 동래구 아시아드대로220번길</td>\n",
              "      <td>30</td>\n",
              "      <td>NaN</td>\n",
              "      <td>2626010800113800002003460</td>\n",
              "      <td>NaN</td>\n",
              "      <td>부산광역시 동래구 아시아드대로220번길 30, (온천동)</td>\n",
              "      <td>607060</td>\n",
              "      <td>47838.0</td>\n",
              "      <td>NaN</td>\n",
              "      <td>1</td>\n",
              "      <td>NaN</td>\n",
              "      <td>129.068324</td>\n",
              "      <td>35.202902</td>\n",
              "    </tr>\n",
              "  </tbody>\n",
              "</table>\n",
              "</div>"
            ],
            "text/plain": [
              "     상가업소번호       상호명  지점명 상권업종대분류코드  ... 층정보  호정보          경도         위도\n",
              "0  20031733  동해제일산오징어  NaN         Q  ...   1  NaN  129.068324  35.202902\n",
              "\n",
              "[1 rows x 39 columns]"
            ]
          },
          "metadata": {
            "tags": []
          },
          "execution_count": 10
        }
      ]
    },
    {
      "cell_type": "code",
      "metadata": {
        "id": "UIZ4GG6LguZj",
        "colab_type": "code",
        "colab": {
          "base_uri": "https://localhost:8080/",
          "height": 140
        },
        "outputId": "5fa7e56e-b26d-46bb-940f-0fc2995a24fe"
      },
      "source": [
        "df.columns"
      ],
      "execution_count": null,
      "outputs": [
        {
          "output_type": "execute_result",
          "data": {
            "text/plain": [
              "Index(['상가업소번호', '상호명', '지점명', '상권업종대분류코드', '상권업종대분류명', '상권업종중분류코드',\n",
              "       '상권업종중분류명', '상권업종소분류코드', '상권업종소분류명', '표준산업분류코드', '표준산업분류명', '시도코드',\n",
              "       '시도명', '시군구코드', '시군구명', '행정동코드', '행정동명', '법정동코드', '법정동명', '지번코드',\n",
              "       '대지구분코드', '대지구분명', '지번본번지', '지번부번지', '지번주소', '도로명코드', '도로명', '건물본번지',\n",
              "       '건물부번지', '건물관리번호', '건물명', '도로명주소', '구우편번호', '신우편번호', '동정보', '층정보',\n",
              "       '호정보', '경도', '위도'],\n",
              "      dtype='object')"
            ]
          },
          "metadata": {
            "tags": []
          },
          "execution_count": 11
        }
      ]
    },
    {
      "cell_type": "code",
      "metadata": {
        "id": "kr4U5FZvhOKS",
        "colab_type": "code",
        "colab": {
          "base_uri": "https://localhost:8080/",
          "height": 228
        },
        "outputId": "9071b72a-d010-44e2-8e31-07d46492d3bb"
      },
      "source": [
        "df['행정동명']"
      ],
      "execution_count": null,
      "outputs": [
        {
          "output_type": "execute_result",
          "data": {
            "text/plain": [
              "0         온천3동\n",
              "1          괘법동\n",
              "2         범천1동\n",
              "3         명지1동\n",
              "4         범천1동\n",
              "          ... \n",
              "154449    봉래1동\n",
              "154450     녹산동\n",
              "154451     중앙동\n",
              "154452    장전2동\n",
              "154453    하단1동\n",
              "Name: 행정동명, Length: 154454, dtype: object"
            ]
          },
          "metadata": {
            "tags": []
          },
          "execution_count": 12
        }
      ]
    },
    {
      "cell_type": "code",
      "metadata": {
        "id": "N-YmKW2ug2R1",
        "colab_type": "code",
        "colab": {}
      },
      "source": [
        "# 음식점 데이터만 이용\n",
        "df = df.loc[df['상권업종대분류명'] == '음식']\n",
        "\n",
        "# 필요한 칼럼만을 뽑아냅니다.\n",
        "df = df[['상호명','상권업종중분류명','상권업종소분류명','표준산업분류명','행정동명','위도','경도']]\n",
        "\n",
        "# 그 중에서, 사용할 동을 뽑아냅니다.\n",
        "df = df.loc[(df['행정동명'] == '부전2동')]\n",
        "df = df.dropna()"
      ],
      "execution_count": null,
      "outputs": []
    },
    {
      "cell_type": "code",
      "metadata": {
        "id": "bbvEMvkxiGqj",
        "colab_type": "code",
        "colab": {
          "base_uri": "https://localhost:8080/",
          "height": 195
        },
        "outputId": "9abb8853-7796-4faf-9fdc-c01247ca1d42"
      },
      "source": [
        "df.head(5)"
      ],
      "execution_count": null,
      "outputs": [
        {
          "output_type": "execute_result",
          "data": {
            "text/html": [
              "<div>\n",
              "<style scoped>\n",
              "    .dataframe tbody tr th:only-of-type {\n",
              "        vertical-align: middle;\n",
              "    }\n",
              "\n",
              "    .dataframe tbody tr th {\n",
              "        vertical-align: top;\n",
              "    }\n",
              "\n",
              "    .dataframe thead th {\n",
              "        text-align: right;\n",
              "    }\n",
              "</style>\n",
              "<table border=\"1\" class=\"dataframe\">\n",
              "  <thead>\n",
              "    <tr style=\"text-align: right;\">\n",
              "      <th></th>\n",
              "      <th>상호명</th>\n",
              "      <th>상권업종중분류명</th>\n",
              "      <th>상권업종소분류명</th>\n",
              "      <th>표준산업분류명</th>\n",
              "      <th>행정동명</th>\n",
              "      <th>위도</th>\n",
              "      <th>경도</th>\n",
              "    </tr>\n",
              "  </thead>\n",
              "  <tbody>\n",
              "    <tr>\n",
              "      <th>240</th>\n",
              "      <td>오스카Ⅰ</td>\n",
              "      <td>유흥주점</td>\n",
              "      <td>룸살롱/단란주점</td>\n",
              "      <td>일반유흥 주점업</td>\n",
              "      <td>부전2동</td>\n",
              "      <td>35.152243</td>\n",
              "      <td>129.057125</td>\n",
              "    </tr>\n",
              "    <tr>\n",
              "      <th>268</th>\n",
              "      <td>부산양곱창1호</td>\n",
              "      <td>한식</td>\n",
              "      <td>곱창/양구이전문</td>\n",
              "      <td>한식 음식점업</td>\n",
              "      <td>부전2동</td>\n",
              "      <td>35.154759</td>\n",
              "      <td>129.057004</td>\n",
              "    </tr>\n",
              "    <tr>\n",
              "      <th>569</th>\n",
              "      <td>칠공공비어</td>\n",
              "      <td>한식</td>\n",
              "      <td>한식/백반/한정식</td>\n",
              "      <td>한식 음식점업</td>\n",
              "      <td>부전2동</td>\n",
              "      <td>35.153555</td>\n",
              "      <td>129.058591</td>\n",
              "    </tr>\n",
              "    <tr>\n",
              "      <th>664</th>\n",
              "      <td>아웃백스테이크하우스부전점</td>\n",
              "      <td>양식</td>\n",
              "      <td>패밀리레스토랑</td>\n",
              "      <td>서양식 음식점업</td>\n",
              "      <td>부전2동</td>\n",
              "      <td>35.154226</td>\n",
              "      <td>129.060158</td>\n",
              "    </tr>\n",
              "    <tr>\n",
              "      <th>683</th>\n",
              "      <td>부산항가라오케</td>\n",
              "      <td>유흥주점</td>\n",
              "      <td>룸살롱/단란주점</td>\n",
              "      <td>일반유흥 주점업</td>\n",
              "      <td>부전2동</td>\n",
              "      <td>35.156700</td>\n",
              "      <td>129.054581</td>\n",
              "    </tr>\n",
              "  </tbody>\n",
              "</table>\n",
              "</div>"
            ],
            "text/plain": [
              "               상호명 상권업종중분류명   상권업종소분류명   표준산업분류명  행정동명         위도          경도\n",
              "240           오스카Ⅰ     유흥주점   룸살롱/단란주점  일반유흥 주점업  부전2동  35.152243  129.057125\n",
              "268        부산양곱창1호       한식   곱창/양구이전문   한식 음식점업  부전2동  35.154759  129.057004\n",
              "569          칠공공비어       한식  한식/백반/한정식   한식 음식점업  부전2동  35.153555  129.058591\n",
              "664  아웃백스테이크하우스부전점       양식    패밀리레스토랑  서양식 음식점업  부전2동  35.154226  129.060158\n",
              "683        부산항가라오케     유흥주점   룸살롱/단란주점  일반유흥 주점업  부전2동  35.156700  129.054581"
            ]
          },
          "metadata": {
            "tags": []
          },
          "execution_count": 14
        }
      ]
    },
    {
      "cell_type": "code",
      "metadata": {
        "id": "Uc7zAmtniIP_",
        "colab_type": "code",
        "colab": {}
      },
      "source": [
        "# 컬럼명 단순화\n",
        "# 순서대로 상호명, 상권업종중분류명, 상권업종소분류명, 표준산업분류명, 행정동명, 위도, 경도 입니다.\n",
        "df.columns = ['name','cat_mid','cat_small','cat_std','dong','lon','lat']"
      ],
      "execution_count": null,
      "outputs": []
    },
    {
      "cell_type": "code",
      "metadata": {
        "id": "8gDrWVOqicfz",
        "colab_type": "code",
        "colab": {
          "base_uri": "https://localhost:8080/",
          "height": 196
        },
        "outputId": "3b42ce3e-5ad8-4cea-ac20-9ddad8319bd5"
      },
      "source": [
        "df['cat_mix'] = df['cat_mid'] + df['cat_small'] + df['cat_std']\n",
        "df['cat_mix'] = df['cat_mix'].str.replace(\"/\",\" \")\n",
        "\n",
        "df.head(5)"
      ],
      "execution_count": null,
      "outputs": [
        {
          "output_type": "execute_result",
          "data": {
            "text/html": [
              "<div>\n",
              "<style scoped>\n",
              "    .dataframe tbody tr th:only-of-type {\n",
              "        vertical-align: middle;\n",
              "    }\n",
              "\n",
              "    .dataframe tbody tr th {\n",
              "        vertical-align: top;\n",
              "    }\n",
              "\n",
              "    .dataframe thead th {\n",
              "        text-align: right;\n",
              "    }\n",
              "</style>\n",
              "<table border=\"1\" class=\"dataframe\">\n",
              "  <thead>\n",
              "    <tr style=\"text-align: right;\">\n",
              "      <th></th>\n",
              "      <th>name</th>\n",
              "      <th>cat_mid</th>\n",
              "      <th>cat_small</th>\n",
              "      <th>cat_std</th>\n",
              "      <th>dong</th>\n",
              "      <th>lon</th>\n",
              "      <th>lat</th>\n",
              "      <th>cat_mix</th>\n",
              "    </tr>\n",
              "  </thead>\n",
              "  <tbody>\n",
              "    <tr>\n",
              "      <th>240</th>\n",
              "      <td>오스카Ⅰ</td>\n",
              "      <td>유흥주점</td>\n",
              "      <td>룸살롱/단란주점</td>\n",
              "      <td>일반유흥 주점업</td>\n",
              "      <td>부전2동</td>\n",
              "      <td>35.152243</td>\n",
              "      <td>129.057125</td>\n",
              "      <td>유흥주점룸살롱 단란주점일반유흥 주점업</td>\n",
              "    </tr>\n",
              "    <tr>\n",
              "      <th>268</th>\n",
              "      <td>부산양곱창1호</td>\n",
              "      <td>한식</td>\n",
              "      <td>곱창/양구이전문</td>\n",
              "      <td>한식 음식점업</td>\n",
              "      <td>부전2동</td>\n",
              "      <td>35.154759</td>\n",
              "      <td>129.057004</td>\n",
              "      <td>한식곱창 양구이전문한식 음식점업</td>\n",
              "    </tr>\n",
              "    <tr>\n",
              "      <th>569</th>\n",
              "      <td>칠공공비어</td>\n",
              "      <td>한식</td>\n",
              "      <td>한식/백반/한정식</td>\n",
              "      <td>한식 음식점업</td>\n",
              "      <td>부전2동</td>\n",
              "      <td>35.153555</td>\n",
              "      <td>129.058591</td>\n",
              "      <td>한식한식 백반 한정식한식 음식점업</td>\n",
              "    </tr>\n",
              "    <tr>\n",
              "      <th>664</th>\n",
              "      <td>아웃백스테이크하우스부전점</td>\n",
              "      <td>양식</td>\n",
              "      <td>패밀리레스토랑</td>\n",
              "      <td>서양식 음식점업</td>\n",
              "      <td>부전2동</td>\n",
              "      <td>35.154226</td>\n",
              "      <td>129.060158</td>\n",
              "      <td>양식패밀리레스토랑서양식 음식점업</td>\n",
              "    </tr>\n",
              "    <tr>\n",
              "      <th>683</th>\n",
              "      <td>부산항가라오케</td>\n",
              "      <td>유흥주점</td>\n",
              "      <td>룸살롱/단란주점</td>\n",
              "      <td>일반유흥 주점업</td>\n",
              "      <td>부전2동</td>\n",
              "      <td>35.156700</td>\n",
              "      <td>129.054581</td>\n",
              "      <td>유흥주점룸살롱 단란주점일반유흥 주점업</td>\n",
              "    </tr>\n",
              "  </tbody>\n",
              "</table>\n",
              "</div>"
            ],
            "text/plain": [
              "              name cat_mid  ...         lat               cat_mix\n",
              "240           오스카Ⅰ    유흥주점  ...  129.057125  유흥주점룸살롱 단란주점일반유흥 주점업\n",
              "268        부산양곱창1호      한식  ...  129.057004     한식곱창 양구이전문한식 음식점업\n",
              "569          칠공공비어      한식  ...  129.058591    한식한식 백반 한정식한식 음식점업\n",
              "664  아웃백스테이크하우스부전점      양식  ...  129.060158     양식패밀리레스토랑서양식 음식점업\n",
              "683        부산항가라오케    유흥주점  ...  129.054581  유흥주점룸살롱 단란주점일반유흥 주점업\n",
              "\n",
              "[5 rows x 8 columns]"
            ]
          },
          "metadata": {
            "tags": []
          },
          "execution_count": 16
        }
      ]
    },
    {
      "cell_type": "code",
      "metadata": {
        "id": "iMXV9y_Oi_wm",
        "colab_type": "code",
        "colab": {}
      },
      "source": [
        "from sklearn.feature_extraction.text import CountVectorizer  # 피쳐 벡터화\n",
        "from sklearn.metrics.pairwise import cosine_similarity  # 코사인 유사도\n",
        "\n",
        "count_vect_category = CountVectorizer(min_df=0, ngram_range=(1,2))\n",
        "place_category = count_vect_category.fit_transform(df['cat_mix']) \n",
        "place_simi_cate = cosine_similarity(place_category, place_category) \n",
        "place_simi_cate_sorted_ind = place_simi_cate.argsort()[:, ::-1]"
      ],
      "execution_count": null,
      "outputs": []
    },
    {
      "cell_type": "code",
      "metadata": {
        "id": "jhJTpK5AjiR7",
        "colab_type": "code",
        "colab": {
          "base_uri": "https://localhost:8080/",
          "height": 244
        },
        "outputId": "dc0ad505-13a2-458d-a535-98ace5b50b3c"
      },
      "source": [
        "place_simi_cate"
      ],
      "execution_count": null,
      "outputs": [
        {
          "output_type": "execute_result",
          "data": {
            "text/plain": [
              "array([[1.        , 0.        , 0.        , ..., 0.        , 0.        ,\n",
              "        0.        ],\n",
              "       [0.        , 1.        , 0.16903085, ..., 0.16903085, 0.        ,\n",
              "        0.16903085],\n",
              "       [0.        , 0.16903085, 1.        , ..., 1.        , 0.        ,\n",
              "        0.14285714],\n",
              "       ...,\n",
              "       [0.        , 0.16903085, 1.        , ..., 1.        , 0.        ,\n",
              "        0.14285714],\n",
              "       [0.        , 0.        , 0.        , ..., 0.        , 1.        ,\n",
              "        0.        ],\n",
              "       [0.        , 0.16903085, 0.14285714, ..., 0.14285714, 0.        ,\n",
              "        1.        ]])"
            ]
          },
          "metadata": {
            "tags": []
          },
          "execution_count": 18
        }
      ]
    },
    {
      "cell_type": "code",
      "metadata": {
        "id": "KyqVai1jjnsN",
        "colab_type": "code",
        "colab": {
          "base_uri": "https://localhost:8080/",
          "height": 191
        },
        "outputId": "be1470e9-e407-4a52-d1ed-8d18e12cf12e"
      },
      "source": [
        "# install chromium, its driver, and selenium\n",
        "!apt install chromium-chromedriver\n",
        "!pip install selenium\n",
        "# set options to be headless, ..\n",
        "from selenium import webdriver\n",
        "options = webdriver.ChromeOptions()\n",
        "options.add_argument('--headless')\n",
        "options.add_argument('--no-sandbox')\n",
        "options.add_argument('--disable-dev-shm-usage')\n",
        "# open it, go to a website, and get results"
      ],
      "execution_count": null,
      "outputs": [
        {
          "output_type": "stream",
          "text": [
            "Reading package lists... Done\n",
            "Building dependency tree       \n",
            "Reading state information... Done\n",
            "chromium-chromedriver is already the newest version (84.0.4147.105-0ubuntu0.18.04.1).\n",
            "The following package was automatically installed and is no longer required:\n",
            "  libnvidia-common-440\n",
            "Use 'apt autoremove' to remove it.\n",
            "0 upgraded, 0 newly installed, 0 to remove and 39 not upgraded.\n",
            "Requirement already satisfied: selenium in /usr/local/lib/python3.6/dist-packages (3.141.0)\n",
            "Requirement already satisfied: urllib3 in /usr/local/lib/python3.6/dist-packages (from selenium) (1.24.3)\n"
          ],
          "name": "stdout"
        }
      ]
    },
    {
      "cell_type": "code",
      "metadata": {
        "id": "_RIJPfzAj20k",
        "colab_type": "code",
        "colab": {}
      },
      "source": [
        "from selenium.webdriver.common.keys import Keys\n",
        "from selenium.webdriver.support.ui import WebDriverWait\n",
        "from selenium.webdriver.support import expected_conditions as EC\n",
        "from selenium.common.exceptions import TimeoutException\n",
        "from selenium.common.exceptions import NoSuchElementException\n",
        "from selenium.webdriver.common.by import By\n",
        "from selenium.webdriver.support.ui import Select\n",
        "import time"
      ],
      "execution_count": null,
      "outputs": []
    },
    {
      "cell_type": "code",
      "metadata": {
        "id": "DlmXekX0kUHX",
        "colab_type": "code",
        "colab": {}
      },
      "source": [
        "driver = webdriver.Chrome('chromedriver',options=options)"
      ],
      "execution_count": null,
      "outputs": []
    },
    {
      "cell_type": "markdown",
      "metadata": {
        "id": "vhOvBM1jgGEi",
        "colab_type": "text"
      },
      "source": [
        "1. 공공데이터로 확보한 상호명과 행정동명을 검색어로 변환하여 포털에 검색합니다.\n",
        "2. 검색 결과로 나온 블로그 리뷰 및 별점 데이터를 가져옵니다."
      ]
    },
    {
      "cell_type": "code",
      "metadata": {
        "id": "5PcemdaQkZWC",
        "colab_type": "code",
        "colab": {}
      },
      "source": [
        "df['kakao_keyword'] = df['dong'] + \"%20\" + df['name']\n",
        "df['kakao_map_url'] = ''\n",
        "\n",
        "print(\"여기서 %20은 띄어쓰기를 의미해요\")\n",
        "for i, keyword in enumerate(df['kakao_keyword'].tolist()):\n",
        "    print(\"이번에 찾을 키워드 :\", i, f\"/ {df.shape[0]} 행\", keyword)\n",
        "    try:\n",
        "        kakao_map_search_url = f\"https://map.kakao.com/?q={keyword}\"\n",
        "        driver.get(kakao_map_search_url)\n",
        "        time.sleep(3.5)\n",
        "        df.iloc[i,-1] = driver.find_element_by_css_selector(\"#info\\.search\\.place\\.list > li:nth-child(1) > div.info_item > div.contact.clickArea > a.moreview\").get_attribute('href')\n",
        "    except Exception as e1:\n",
        "        if \"li:nth-child(1)\" in str(e1):  # child(1)이 없던데요?\n",
        "            try:\n",
        "                df.iloc[i,-1] = driver.find_element_by_css_selector(\"#info\\.search\\.place\\.list > li > div.info_item > div.contact.clickArea > a.moreview\").get_attribute('href')\n",
        "                time.sleep(1)\n",
        "            except Exception as e2:\n",
        "                df.iloc[i,-1] = np.nan\n",
        "                time.sleep(1)\n",
        "        else:\n",
        "            pass"
      ],
      "execution_count": null,
      "outputs": []
    },
    {
      "cell_type": "code",
      "metadata": {
        "id": "sQVCR0hHF_Ky",
        "colab_type": "code",
        "colab": {
          "base_uri": "https://localhost:8080/",
          "height": 280
        },
        "outputId": "42033c36-f207-4a3c-96fb-1d824c5e7912"
      },
      "source": [
        "df.head(5)"
      ],
      "execution_count": null,
      "outputs": [
        {
          "output_type": "execute_result",
          "data": {
            "text/html": [
              "<div>\n",
              "<style scoped>\n",
              "    .dataframe tbody tr th:only-of-type {\n",
              "        vertical-align: middle;\n",
              "    }\n",
              "\n",
              "    .dataframe tbody tr th {\n",
              "        vertical-align: top;\n",
              "    }\n",
              "\n",
              "    .dataframe thead th {\n",
              "        text-align: right;\n",
              "    }\n",
              "</style>\n",
              "<table border=\"1\" class=\"dataframe\">\n",
              "  <thead>\n",
              "    <tr style=\"text-align: right;\">\n",
              "      <th></th>\n",
              "      <th>name</th>\n",
              "      <th>cat_mid</th>\n",
              "      <th>cat_small</th>\n",
              "      <th>cat_std</th>\n",
              "      <th>dong</th>\n",
              "      <th>lon</th>\n",
              "      <th>lat</th>\n",
              "      <th>cat_mix</th>\n",
              "      <th>kakao_keyword</th>\n",
              "      <th>kakao_map_url</th>\n",
              "    </tr>\n",
              "  </thead>\n",
              "  <tbody>\n",
              "    <tr>\n",
              "      <th>240</th>\n",
              "      <td>오스카Ⅰ</td>\n",
              "      <td>유흥주점</td>\n",
              "      <td>룸살롱/단란주점</td>\n",
              "      <td>일반유흥 주점업</td>\n",
              "      <td>부전2동</td>\n",
              "      <td>35.152243</td>\n",
              "      <td>129.057125</td>\n",
              "      <td>유흥주점룸살롱 단란주점일반유흥 주점업</td>\n",
              "      <td>부전2동%20오스카Ⅰ</td>\n",
              "      <td>NaN</td>\n",
              "    </tr>\n",
              "    <tr>\n",
              "      <th>268</th>\n",
              "      <td>부산양곱창1호</td>\n",
              "      <td>한식</td>\n",
              "      <td>곱창/양구이전문</td>\n",
              "      <td>한식 음식점업</td>\n",
              "      <td>부전2동</td>\n",
              "      <td>35.154759</td>\n",
              "      <td>129.057004</td>\n",
              "      <td>한식곱창 양구이전문한식 음식점업</td>\n",
              "      <td>부전2동%20부산양곱창1호</td>\n",
              "      <td>https://place.map.kakao.com/15563128</td>\n",
              "    </tr>\n",
              "    <tr>\n",
              "      <th>569</th>\n",
              "      <td>칠공공비어</td>\n",
              "      <td>한식</td>\n",
              "      <td>한식/백반/한정식</td>\n",
              "      <td>한식 음식점업</td>\n",
              "      <td>부전2동</td>\n",
              "      <td>35.153555</td>\n",
              "      <td>129.058591</td>\n",
              "      <td>한식한식 백반 한정식한식 음식점업</td>\n",
              "      <td>부전2동%20칠공공비어</td>\n",
              "      <td>https://place.map.kakao.com/9902660</td>\n",
              "    </tr>\n",
              "    <tr>\n",
              "      <th>664</th>\n",
              "      <td>아웃백스테이크하우스부전점</td>\n",
              "      <td>양식</td>\n",
              "      <td>패밀리레스토랑</td>\n",
              "      <td>서양식 음식점업</td>\n",
              "      <td>부전2동</td>\n",
              "      <td>35.154226</td>\n",
              "      <td>129.060158</td>\n",
              "      <td>양식패밀리레스토랑서양식 음식점업</td>\n",
              "      <td>부전2동%20아웃백스테이크하우스부전점</td>\n",
              "      <td>NaN</td>\n",
              "    </tr>\n",
              "    <tr>\n",
              "      <th>683</th>\n",
              "      <td>부산항가라오케</td>\n",
              "      <td>유흥주점</td>\n",
              "      <td>룸살롱/단란주점</td>\n",
              "      <td>일반유흥 주점업</td>\n",
              "      <td>부전2동</td>\n",
              "      <td>35.156700</td>\n",
              "      <td>129.054581</td>\n",
              "      <td>유흥주점룸살롱 단란주점일반유흥 주점업</td>\n",
              "      <td>부전2동%20부산항가라오케</td>\n",
              "      <td>https://place.map.kakao.com/21423596</td>\n",
              "    </tr>\n",
              "  </tbody>\n",
              "</table>\n",
              "</div>"
            ],
            "text/plain": [
              "              name  ...                         kakao_map_url\n",
              "240           오스카Ⅰ  ...                                   NaN\n",
              "268        부산양곱창1호  ...  https://place.map.kakao.com/15563128\n",
              "569          칠공공비어  ...   https://place.map.kakao.com/9902660\n",
              "664  아웃백스테이크하우스부전점  ...                                   NaN\n",
              "683        부산항가라오케  ...  https://place.map.kakao.com/21423596\n",
              "\n",
              "[5 rows x 10 columns]"
            ]
          },
          "metadata": {
            "tags": []
          },
          "execution_count": 24
        }
      ]
    },
    {
      "cell_type": "code",
      "metadata": {
        "id": "tHGUMrNcGCMn",
        "colab_type": "code",
        "colab": {
          "base_uri": "https://localhost:8080/",
          "height": 209
        },
        "outputId": "c906a3a4-b5c7-4343-9b18-378c980225ad"
      },
      "source": [
        "df.isnull().sum() \n",
        "\n",
        "#map_url에서 500개의 null값이 보입니다. \n",
        "#주소가 검색되지 않는 곳은 없다고 생각하고, drop하도록 합니다."
      ],
      "execution_count": null,
      "outputs": [
        {
          "output_type": "execute_result",
          "data": {
            "text/plain": [
              "name               0\n",
              "cat_mid            0\n",
              "cat_small          0\n",
              "cat_std            0\n",
              "dong               0\n",
              "lon                0\n",
              "lat                0\n",
              "cat_mix            0\n",
              "kakao_keyword      0\n",
              "kakao_map_url    500\n",
              "dtype: int64"
            ]
          },
          "metadata": {
            "tags": []
          },
          "execution_count": 26
        }
      ]
    },
    {
      "cell_type": "code",
      "metadata": {
        "id": "sgTXoPTmGINc",
        "colab_type": "code",
        "colab": {}
      },
      "source": [
        "df = df.dropna()"
      ],
      "execution_count": null,
      "outputs": []
    },
    {
      "cell_type": "code",
      "metadata": {
        "id": "4oKkqyPQkixG",
        "colab_type": "code",
        "colab": {
          "base_uri": "https://localhost:8080/",
          "height": 66,
          "referenced_widgets": [
            "fafc1f820afe4d48b49c899fc60b35c4",
            "cf8282cb185d466eaa6e27eced9afb1c",
            "19218e0e0b624aa4a4f7c7f9666e7e2b",
            "bed4dfdea4584f1fa87b52496c35de35",
            "ebd3ab97ce14450ea37254a40e6aaa77",
            "b7d5eeb8f8f74ecc8d8119ae09b548f7",
            "485db24d490c4e58a1dc5d5059aedf73",
            "cf34aca646e245748784cf16b6eb7c76"
          ]
        },
        "outputId": "22ad20a5-a6d8-404e-b089-5024eaebe0b3"
      },
      "source": [
        "# 각 데이터들을 미리 리스트에 담은 다음, 마지막에 데이터 프레임에 합칠 것입니다.\n",
        "\n",
        "kakao_map_name_list = []\n",
        "blog_review_list = []\n",
        "blog_review_qty_list = []\n",
        "kakao_map_star_review_stars_list = []\n",
        "kakao_map_star_review_qty_list = []\n",
        "\n",
        "for i, url in enumerate(tqdm_notebook(df['kakao_map_url'])):\n",
        "    driver.get(url)\n",
        "    time.sleep(1)\n",
        "    review_text = \"\"\n",
        "    \n",
        "    try:\n",
        "        kakao_map_name = driver.find_element_by_css_selector(\"#mArticle > div.cont_essential > div:nth-child(1) > div.place_details > div > h2\").text\n",
        "        blog_review_qty = driver.find_element_by_css_selector(\"#mArticle > div.cont_essential > div:nth-child(1) > div.place_details > div > div > a:nth-child(5) > span\").text\n",
        "        star_review_stars = driver.find_element_by_css_selector(\"#mArticle > div.cont_essential > div:nth-child(1) > div.place_details > div > div > a:nth-child(3) > span.color_b.inactive\").text\n",
        "        star_review_qty = driver.find_element_by_css_selector(\"#mArticle > div.cont_essential > div:nth-child(1) > div.place_details > div > div > a:nth-child(3) > span.color_g\").text\n",
        "    except Exception as e1:\n",
        "        if \"inactive\" in str(e1):\n",
        "            star_review_stars = driver.find_element_by_css_selector(\"#mArticle > div.cont_essential > div:nth-child(1) > div.place_details > div > div > a:nth-child(3) > span.color_b\").text\n",
        "            star_review_qty = driver.find_element_by_css_selector(\"#mArticle > div.cont_essential > div:nth-child(1) > div.place_details > div > div > a:nth-child(3) > span.color_g\").text\n",
        "            \n",
        "    num = 0\n",
        "    try:\n",
        "        while num < 3:\n",
        "            try:\n",
        "                num += 1\n",
        "                review_text = review_text + driver.find_element_by_css_selector(f\"div.wrap_list > ul > li:nth-child({num}) > a > div.review_story > p\").text\n",
        "                \n",
        "                if num == 3:\n",
        "                    blog_review_list.append(review_text)  # 3개나 찾았으면 그만 찾고 나감\n",
        "                    kakao_map_name_list.append(kakao_map_name)\n",
        "                    blog_review_qty_list.append(blog_review_qty)\n",
        "                    kakao_map_star_review_stars_list.append(star_review_stars)\n",
        "                    kakao_map_star_review_qty_list.append(star_review_qty)\n",
        "                    break\n",
        "\n",
        "            except Exception as e1:\n",
        "                if \"li:nth-child(1)\" in str(e1):  # child(1)이 없던데요? -> 리뷰가 하나도 없는 것\n",
        "                    review_text = \"empty\"\n",
        "                    blog_review_list.append(review_text)\n",
        "                    kakao_map_name_list.append(kakao_map_name)\n",
        "                    blog_review_qty_list.append(blog_review_qty)\n",
        "                    kakao_map_star_review_stars_list.append(star_review_stars)\n",
        "                    kakao_map_star_review_qty_list.append(star_review_qty)\n",
        "                    break\n",
        "                else:\n",
        "                    blog_review_list.append(review_text)  # 일단 리뷰가 하나도 없는 건 아니니 붙이고 탈출 / 리뷰 딸랑 하나 있으면 발생할 수 있음                    \n",
        "                    kakao_map_name_list.append(kakao_map_name)\n",
        "                    blog_review_qty_list.append(blog_review_qty)\n",
        "                    kakao_map_star_review_stars_list.append(star_review_stars)\n",
        "                    kakao_map_star_review_qty_list.append(star_review_qty)\n",
        "                    break\n",
        "                \n",
        "    except Exception as e2:\n",
        "        print(e2)\n",
        "driver.quit()\n",
        "\n",
        "\n",
        "df['kakao_store_name'] = kakao_map_name_list  # 카카오 상세페이지에서 크롤링한 상호명\n",
        "df['kakao_star_point'] = kakao_map_star_review_stars_list  # 카카오 상세페이지에서 평가한 별점 평점\n",
        "df['kakao_star_point_qty'] = kakao_map_star_review_qty_list  # 카카오 상세페이지에서 별점 평가를 한 횟수\n",
        "df['kakao_blog_review_txt'] = blog_review_list  # 카카오 상세페이지에 나온 블로그 리뷰 텍스트들\n",
        "df['kakao_blog_review_qty'] = blog_review_qty_list  # 카카오 상세페이지에 나온 블로그 리뷰의 총 개수"
      ],
      "execution_count": null,
      "outputs": [
        {
          "output_type": "display_data",
          "data": {
            "application/vnd.jupyter.widget-view+json": {
              "model_id": "fafc1f820afe4d48b49c899fc60b35c4",
              "version_minor": 0,
              "version_major": 2
            },
            "text/plain": [
              "HBox(children=(FloatProgress(value=0.0, max=885.0), HTML(value='')))"
            ]
          },
          "metadata": {
            "tags": []
          }
        },
        {
          "output_type": "stream",
          "text": [
            "\n"
          ],
          "name": "stdout"
        }
      ]
    },
    {
      "cell_type": "code",
      "metadata": {
        "id": "4_eGsjV39JBI",
        "colab_type": "code",
        "colab": {
          "base_uri": "https://localhost:8080/",
          "height": 313
        },
        "outputId": "c64baebe-0ddf-49f0-aa2e-663059567375"
      },
      "source": [
        "df.isnull().sum()"
      ],
      "execution_count": null,
      "outputs": [
        {
          "output_type": "execute_result",
          "data": {
            "text/plain": [
              "Unnamed: 0               0\n",
              "name                     0\n",
              "cat_mid                  0\n",
              "cat_small                0\n",
              "cat_std                  0\n",
              "dong                     0\n",
              "lon                      0\n",
              "lat                      0\n",
              "cat_mix                  0\n",
              "kakao_keyword            0\n",
              "kakao_map_url            0\n",
              "kakao_store_name         0\n",
              "kakao_star_point         0\n",
              "kakao_star_point_qty     0\n",
              "kakao_blog_review_txt    0\n",
              "kakao_blog_review_qty    0\n",
              "dtype: int64"
            ]
          },
          "metadata": {
            "tags": []
          },
          "execution_count": 21
        }
      ]
    },
    {
      "cell_type": "code",
      "metadata": {
        "id": "NiZKvlQj9Pkg",
        "colab_type": "code",
        "colab": {
          "base_uri": "https://localhost:8080/",
          "height": 418
        },
        "outputId": "1b87ef48-e189-4d37-996e-e0cb40438bfa"
      },
      "source": [
        "df.info()"
      ],
      "execution_count": null,
      "outputs": [
        {
          "output_type": "stream",
          "text": [
            "<class 'pandas.core.frame.DataFrame'>\n",
            "RangeIndex: 885 entries, 0 to 884\n",
            "Data columns (total 16 columns):\n",
            " #   Column                 Non-Null Count  Dtype  \n",
            "---  ------                 --------------  -----  \n",
            " 0   Unnamed: 0             885 non-null    int64  \n",
            " 1   name                   885 non-null    object \n",
            " 2   cat_mid                885 non-null    object \n",
            " 3   cat_small              885 non-null    object \n",
            " 4   cat_std                885 non-null    object \n",
            " 5   dong                   885 non-null    object \n",
            " 6   lon                    885 non-null    float64\n",
            " 7   lat                    885 non-null    float64\n",
            " 8   cat_mix                885 non-null    object \n",
            " 9   kakao_keyword          885 non-null    object \n",
            " 10  kakao_map_url          885 non-null    object \n",
            " 11  kakao_store_name       885 non-null    object \n",
            " 12  kakao_star_point       885 non-null    object \n",
            " 13  kakao_star_point_qty   885 non-null    object \n",
            " 14  kakao_blog_review_txt  885 non-null    object \n",
            " 15  kakao_blog_review_qty  885 non-null    object \n",
            "dtypes: float64(2), int64(1), object(13)\n",
            "memory usage: 110.8+ KB\n"
          ],
          "name": "stdout"
        }
      ]
    },
    {
      "cell_type": "markdown",
      "metadata": {
        "id": "b3C-PP5ngQnX",
        "colab_type": "text"
      },
      "source": [
        "* 카테고리가 얼마나 유사한지\n",
        "* 블로그 리뷰가 얼마나 유사한지\n",
        "* 블로그 리뷰가 얼마나 많이 올라왔는지\n",
        "* 블로그 별점이 얼마나 높은지\n",
        "* 블로그 별점 평가가 얼마나 많이 됐는지\n",
        "위 공식 5개를 적절한 비율로 가중치를 주어 공식을 만들어봅니다."
      ]
    },
    {
      "cell_type": "code",
      "metadata": {
        "id": "-_FbmykKGfdd",
        "colab_type": "code",
        "colab": {}
      },
      "source": [
        "# 리뷰 텍스트 데이터 간의 텍스트 피쳐 벡터라이징\n",
        "count_vect_review = CountVectorizer(min_df=2, ngram_range=(1,2))\n",
        "place_review = count_vect_review.fit_transform(df['kakao_blog_review_txt']) \n",
        "\n",
        "# 리뷰 텍스트 간의 코사인 유사도 따지기\n",
        "place_simi_review = cosine_similarity(place_review, place_review)\n",
        "place_simi_review_sorted_ind = place_simi_review.argsort()[:, ::-1]"
      ],
      "execution_count": null,
      "outputs": []
    },
    {
      "cell_type": "code",
      "metadata": {
        "id": "xGbDl4slAwb8",
        "colab_type": "code",
        "colab": {
          "base_uri": "https://localhost:8080/",
          "height": 517
        },
        "outputId": "a765a41d-b66b-44a4-d4e9-dd0db4a8fbb2"
      },
      "source": [
        "df.head(5)"
      ],
      "execution_count": null,
      "outputs": [
        {
          "output_type": "execute_result",
          "data": {
            "text/html": [
              "<div>\n",
              "<style scoped>\n",
              "    .dataframe tbody tr th:only-of-type {\n",
              "        vertical-align: middle;\n",
              "    }\n",
              "\n",
              "    .dataframe tbody tr th {\n",
              "        vertical-align: top;\n",
              "    }\n",
              "\n",
              "    .dataframe thead th {\n",
              "        text-align: right;\n",
              "    }\n",
              "</style>\n",
              "<table border=\"1\" class=\"dataframe\">\n",
              "  <thead>\n",
              "    <tr style=\"text-align: right;\">\n",
              "      <th></th>\n",
              "      <th>Unnamed: 0</th>\n",
              "      <th>name</th>\n",
              "      <th>cat_mid</th>\n",
              "      <th>cat_small</th>\n",
              "      <th>cat_std</th>\n",
              "      <th>dong</th>\n",
              "      <th>lon</th>\n",
              "      <th>lat</th>\n",
              "      <th>cat_mix</th>\n",
              "      <th>kakao_keyword</th>\n",
              "      <th>kakao_map_url</th>\n",
              "      <th>kakao_store_name</th>\n",
              "      <th>kakao_star_point</th>\n",
              "      <th>kakao_star_point_qty</th>\n",
              "      <th>kakao_blog_review_txt</th>\n",
              "      <th>kakao_blog_review_qty</th>\n",
              "    </tr>\n",
              "  </thead>\n",
              "  <tbody>\n",
              "    <tr>\n",
              "      <th>0</th>\n",
              "      <td>268</td>\n",
              "      <td>부산양곱창1호</td>\n",
              "      <td>한식</td>\n",
              "      <td>곱창/양구이전문</td>\n",
              "      <td>한식 음식점업</td>\n",
              "      <td>부전2동</td>\n",
              "      <td>35.154759</td>\n",
              "      <td>129.057004</td>\n",
              "      <td>한식곱창 양구이전문한식 음식점업</td>\n",
              "      <td>부전2동%20부산양곱창1호</td>\n",
              "      <td>https://place.map.kakao.com/15563128</td>\n",
              "      <td>친구양곱창 문현1호점</td>\n",
              "      <td>4.4</td>\n",
              "      <td>(6)</td>\n",
              "      <td>친구양곱창 문현동 매일 ㅣ 15:00 - 24:00 *일요일 휴무 전화 ㅣ051-6...</td>\n",
              "      <td>3</td>\n",
              "    </tr>\n",
              "    <tr>\n",
              "      <th>1</th>\n",
              "      <td>569</td>\n",
              "      <td>칠공공비어</td>\n",
              "      <td>한식</td>\n",
              "      <td>한식/백반/한정식</td>\n",
              "      <td>한식 음식점업</td>\n",
              "      <td>부전2동</td>\n",
              "      <td>35.153555</td>\n",
              "      <td>129.058591</td>\n",
              "      <td>한식한식 백반 한정식한식 음식점업</td>\n",
              "      <td>부전2동%20칠공공비어</td>\n",
              "      <td>https://place.map.kakao.com/9902660</td>\n",
              "      <td>700비어 서면일번가점</td>\n",
              "      <td>0</td>\n",
              "      <td>(0)</td>\n",
              "      <td>요즘 날씨가 장마가 오니마니 해서 너무 찝찝하다 더운 여름이 오고 있음을 느낀다 찝...</td>\n",
              "      <td>2</td>\n",
              "    </tr>\n",
              "    <tr>\n",
              "      <th>2</th>\n",
              "      <td>683</td>\n",
              "      <td>부산항가라오케</td>\n",
              "      <td>유흥주점</td>\n",
              "      <td>룸살롱/단란주점</td>\n",
              "      <td>일반유흥 주점업</td>\n",
              "      <td>부전2동</td>\n",
              "      <td>35.156700</td>\n",
              "      <td>129.054581</td>\n",
              "      <td>유흥주점룸살롱 단란주점일반유흥 주점업</td>\n",
              "      <td>부전2동%20부산항가라오케</td>\n",
              "      <td>https://place.map.kakao.com/21423596</td>\n",
              "      <td>부산항가라오케</td>\n",
              "      <td>0</td>\n",
              "      <td>(0)</td>\n",
              "      <td>empty</td>\n",
              "      <td>0</td>\n",
              "    </tr>\n",
              "    <tr>\n",
              "      <th>3</th>\n",
              "      <td>747</td>\n",
              "      <td>베르빌골프아카데미</td>\n",
              "      <td>한식</td>\n",
              "      <td>한식/백반/한정식</td>\n",
              "      <td>한식 음식점업</td>\n",
              "      <td>부전2동</td>\n",
              "      <td>35.153880</td>\n",
              "      <td>129.055401</td>\n",
              "      <td>한식한식 백반 한정식한식 음식점업</td>\n",
              "      <td>부전2동%20베르빌골프아카데미</td>\n",
              "      <td>https://place.map.kakao.com/17036813</td>\n",
              "      <td>베르빌 스크린골프아카데미</td>\n",
              "      <td>5.0</td>\n",
              "      <td>(1)</td>\n",
              "      <td>empty</td>\n",
              "      <td>0</td>\n",
              "    </tr>\n",
              "    <tr>\n",
              "      <th>4</th>\n",
              "      <td>751</td>\n",
              "      <td>대림참치</td>\n",
              "      <td>한식</td>\n",
              "      <td>한식/백반/한정식</td>\n",
              "      <td>한식 음식점업</td>\n",
              "      <td>부전2동</td>\n",
              "      <td>35.154328</td>\n",
              "      <td>129.056812</td>\n",
              "      <td>한식한식 백반 한정식한식 음식점업</td>\n",
              "      <td>부전2동%20대림참치</td>\n",
              "      <td>https://place.map.kakao.com/16243380</td>\n",
              "      <td>대림참치 서현점</td>\n",
              "      <td>3.7</td>\n",
              "      <td>(7)</td>\n",
              "      <td>#서면참치맛집 #서면참치 히힛 어제 저녁은 기름지고 땟깔좋은 Rich Rich한 참...</td>\n",
              "      <td>21</td>\n",
              "    </tr>\n",
              "  </tbody>\n",
              "</table>\n",
              "</div>"
            ],
            "text/plain": [
              "   Unnamed: 0  ... kakao_blog_review_qty\n",
              "0         268  ...                     3\n",
              "1         569  ...                     2\n",
              "2         683  ...                     0\n",
              "3         747  ...                     0\n",
              "4         751  ...                    21\n",
              "\n",
              "[5 rows x 16 columns]"
            ]
          },
          "metadata": {
            "tags": []
          },
          "execution_count": 41
        }
      ]
    },
    {
      "cell_type": "code",
      "metadata": {
        "id": "Bvg41aawCKaC",
        "colab_type": "code",
        "colab": {}
      },
      "source": [
        "for i in range(len(df)):\n",
        "  df['kakao_star_point_qty'][i] = int(df['kakao_star_point_qty'][i][1])"
      ],
      "execution_count": null,
      "outputs": []
    },
    {
      "cell_type": "code",
      "metadata": {
        "id": "JIgBJRKQAA5K",
        "colab_type": "code",
        "colab": {}
      },
      "source": [
        "df = df.astype({'kakao_blog_review_qty': np.float, \n",
        "                'kakao_star_point': np.float,\n",
        "                'kakao_star_point_qty':np.float})"
      ],
      "execution_count": null,
      "outputs": []
    },
    {
      "cell_type": "code",
      "metadata": {
        "id": "ifCbgt0eGigm",
        "colab_type": "code",
        "colab": {}
      },
      "source": [
        "# 공식 1~5의 중요성을 짬뽕시키는 공식\n",
        "# * 0.003 등의 가중치를 줘서 조절합니다.\n",
        "\n",
        "place_simi_co = (\n",
        "                 + place_simi_cate * 0.3 # 공식 1. 카테고리 유사도\n",
        "                 + place_simi_review * 1 # 공식 2. 리뷰 텍스트 유사도\n",
        "                 + np.repeat([df['kakao_blog_review_qty'].values], len(df['kakao_blog_review_qty']) , axis=0) * 0.001  # 공식 3. 블로그 리뷰가 얼마나 많이 올라왔는지\n",
        "                 + np.repeat([df['kakao_star_point'].values], len(df['kakao_star_point']) , axis=0) * 0.005            # 공식 4. 블로그 별점이 얼마나 높은지\n",
        "                 + np.repeat([df['kakao_star_point_qty'].values], len(df['kakao_star_point_qty']) , axis=0) * 0.001    # 공식 5. 블로그 별점 평가가 얼마나 많이 됐는지\n",
        "                 )\n",
        "\n",
        "\n",
        "\n",
        "# 아래 place_simi_co_sorted_ind 는 그냥 바로 사용하면 됩니다.\n",
        "place_simi_co_sorted_ind = place_simi_co.argsort()[:, ::-1] \n",
        "\n",
        "\n",
        "# 최종 구현 함수\n",
        "def find_simi_place(df, sorted_ind, place_name, top_n=10):\n",
        "    \n",
        "    place_title = df[df['name'] == place_name]\n",
        "    place_index = place_title.index.values\n",
        "    similar_indexes = sorted_ind[place_index, :(top_n)]\n",
        "    similar_indexes = similar_indexes.reshape(-1)\n",
        "    return df.iloc[similar_indexes]"
      ],
      "execution_count": null,
      "outputs": []
    },
    {
      "cell_type": "code",
      "metadata": {
        "id": "P4EoqzM4C_yz",
        "colab_type": "code",
        "colab": {}
      },
      "source": [
        "df = df.drop(['Unnamed: 0'], axis=1)"
      ],
      "execution_count": null,
      "outputs": []
    },
    {
      "cell_type": "markdown",
      "metadata": {
        "id": "QaJg5H2Igcu9",
        "colab_type": "text"
      },
      "source": [
        "송정 3대국밥을 포함한 5개의 업체를 뽑아봅니다.\n",
        "\n",
        "송정3대국밥과 가장 유사한 업체는 송정국밥, 경주국밥, 홍유단, 꾸이쩜빵이 나왔네요."
      ]
    },
    {
      "cell_type": "code",
      "metadata": {
        "id": "-S0OU-5zzC7s",
        "colab_type": "code",
        "colab": {
          "base_uri": "https://localhost:8080/",
          "height": 467
        },
        "outputId": "8c95339d-4fc1-4480-a442-9c87900bcd19"
      },
      "source": [
        "find_simi_place(df, place_simi_co_sorted_ind, '송정3대국밥', 5)"
      ],
      "execution_count": null,
      "outputs": [
        {
          "output_type": "execute_result",
          "data": {
            "text/html": [
              "<div>\n",
              "<style scoped>\n",
              "    .dataframe tbody tr th:only-of-type {\n",
              "        vertical-align: middle;\n",
              "    }\n",
              "\n",
              "    .dataframe tbody tr th {\n",
              "        vertical-align: top;\n",
              "    }\n",
              "\n",
              "    .dataframe thead th {\n",
              "        text-align: right;\n",
              "    }\n",
              "</style>\n",
              "<table border=\"1\" class=\"dataframe\">\n",
              "  <thead>\n",
              "    <tr style=\"text-align: right;\">\n",
              "      <th></th>\n",
              "      <th>name</th>\n",
              "      <th>cat_mid</th>\n",
              "      <th>cat_small</th>\n",
              "      <th>cat_std</th>\n",
              "      <th>dong</th>\n",
              "      <th>lon</th>\n",
              "      <th>lat</th>\n",
              "      <th>cat_mix</th>\n",
              "      <th>kakao_keyword</th>\n",
              "      <th>kakao_map_url</th>\n",
              "      <th>kakao_store_name</th>\n",
              "      <th>kakao_star_point</th>\n",
              "      <th>kakao_star_point_qty</th>\n",
              "      <th>kakao_blog_review_txt</th>\n",
              "      <th>kakao_blog_review_qty</th>\n",
              "    </tr>\n",
              "  </thead>\n",
              "  <tbody>\n",
              "    <tr>\n",
              "      <th>408</th>\n",
              "      <td>송정3대국밥</td>\n",
              "      <td>한식</td>\n",
              "      <td>해장국/감자탕</td>\n",
              "      <td>한식 음식점업</td>\n",
              "      <td>부전2동</td>\n",
              "      <td>35.155674</td>\n",
              "      <td>129.058541</td>\n",
              "      <td>한식해장국 감자탕한식 음식점업</td>\n",
              "      <td>부전2동%20송정3대국밥</td>\n",
              "      <td>https://place.map.kakao.com/10551889</td>\n",
              "      <td>송정삼대국밥</td>\n",
              "      <td>3.5</td>\n",
              "      <td>1.0</td>\n",
              "      <td>제목 :┃부산진구.부전동┃송정3대국밥 (서면 돼지국밥) 상호 : 송정3대국밥 주소 ...</td>\n",
              "      <td>416.0</td>\n",
              "    </tr>\n",
              "    <tr>\n",
              "      <th>398</th>\n",
              "      <td>송정국밥</td>\n",
              "      <td>한식</td>\n",
              "      <td>한식/백반/한정식</td>\n",
              "      <td>한식 음식점업</td>\n",
              "      <td>부전2동</td>\n",
              "      <td>35.155674</td>\n",
              "      <td>129.058541</td>\n",
              "      <td>한식한식 백반 한정식한식 음식점업</td>\n",
              "      <td>부전2동%20송정국밥</td>\n",
              "      <td>https://place.map.kakao.com/10551889</td>\n",
              "      <td>송정삼대국밥</td>\n",
              "      <td>3.5</td>\n",
              "      <td>1.0</td>\n",
              "      <td>제목 :┃부산진구.부전동┃송정3대국밥 (서면 돼지국밥) 상호 : 송정3대국밥 주소 ...</td>\n",
              "      <td>416.0</td>\n",
              "    </tr>\n",
              "    <tr>\n",
              "      <th>455</th>\n",
              "      <td>경주국밥</td>\n",
              "      <td>한식</td>\n",
              "      <td>해장국/감자탕</td>\n",
              "      <td>한식 음식점업</td>\n",
              "      <td>부전2동</td>\n",
              "      <td>35.155674</td>\n",
              "      <td>129.058541</td>\n",
              "      <td>한식해장국 감자탕한식 음식점업</td>\n",
              "      <td>부전2동%20경주국밥</td>\n",
              "      <td>https://place.map.kakao.com/25619797</td>\n",
              "      <td>경주박가국밥 서면점</td>\n",
              "      <td>4.2</td>\n",
              "      <td>1.0</td>\n",
              "      <td>안녕하세요 콩순이입니다~ 부산 여행 가면 꼭 먹게되는 음식 돼지국밥! 이번엔 서면시...</td>\n",
              "      <td>37.0</td>\n",
              "    </tr>\n",
              "    <tr>\n",
              "      <th>347</th>\n",
              "      <td>홍유단</td>\n",
              "      <td>중식</td>\n",
              "      <td>중국음식/중국집</td>\n",
              "      <td>중식 음식점업</td>\n",
              "      <td>부전2동</td>\n",
              "      <td>35.153267</td>\n",
              "      <td>129.056513</td>\n",
              "      <td>중식중국음식 중국집중식 음식점업</td>\n",
              "      <td>부전2동%20홍유단</td>\n",
              "      <td>https://place.map.kakao.com/25976846</td>\n",
              "      <td>홍유단</td>\n",
              "      <td>3.8</td>\n",
              "      <td>2.0</td>\n",
              "      <td>안녕하세요 여러분 ! 유리얼입니다 ? 오늘은 서면에서 굉장히 크고 유명한 서면 중식...</td>\n",
              "      <td>433.0</td>\n",
              "    </tr>\n",
              "    <tr>\n",
              "      <th>645</th>\n",
              "      <td>꾸이점빵</td>\n",
              "      <td>한식</td>\n",
              "      <td>기타고기요리</td>\n",
              "      <td>한식 음식점업</td>\n",
              "      <td>부전2동</td>\n",
              "      <td>35.153681</td>\n",
              "      <td>129.060732</td>\n",
              "      <td>한식기타고기요리한식 음식점업</td>\n",
              "      <td>부전2동%20꾸이점빵</td>\n",
              "      <td>https://place.map.kakao.com/107987366</td>\n",
              "      <td>꾸이점빵</td>\n",
              "      <td>3.0</td>\n",
              "      <td>2.0</td>\n",
              "      <td>서면 고기집 추천 꾸이점빵 #눈꽃살모듬 안녕하세요. 구지입니다 ㅎㅎ 오랜만에 친한동...</td>\n",
              "      <td>392.0</td>\n",
              "    </tr>\n",
              "  </tbody>\n",
              "</table>\n",
              "</div>"
            ],
            "text/plain": [
              "       name  ... kakao_blog_review_qty\n",
              "408  송정3대국밥  ...                 416.0\n",
              "398    송정국밥  ...                 416.0\n",
              "455    경주국밥  ...                  37.0\n",
              "347     홍유단  ...                 433.0\n",
              "645    꾸이점빵  ...                 392.0\n",
              "\n",
              "[5 rows x 15 columns]"
            ]
          },
          "metadata": {
            "tags": []
          },
          "execution_count": 57
        }
      ]
    },
    {
      "cell_type": "code",
      "metadata": {
        "id": "6X3bh-VCDMrq",
        "colab_type": "code",
        "colab": {
          "base_uri": "https://localhost:8080/",
          "height": 551
        },
        "outputId": "ba541a09-a70b-417f-ec0f-cfe424407860"
      },
      "source": [
        "find_simi_place(df, place_simi_co_sorted_ind, '가야밀면', 5)"
      ],
      "execution_count": null,
      "outputs": [
        {
          "output_type": "execute_result",
          "data": {
            "text/html": [
              "<div>\n",
              "<style scoped>\n",
              "    .dataframe tbody tr th:only-of-type {\n",
              "        vertical-align: middle;\n",
              "    }\n",
              "\n",
              "    .dataframe tbody tr th {\n",
              "        vertical-align: top;\n",
              "    }\n",
              "\n",
              "    .dataframe thead th {\n",
              "        text-align: right;\n",
              "    }\n",
              "</style>\n",
              "<table border=\"1\" class=\"dataframe\">\n",
              "  <thead>\n",
              "    <tr style=\"text-align: right;\">\n",
              "      <th></th>\n",
              "      <th>name</th>\n",
              "      <th>cat_mid</th>\n",
              "      <th>cat_small</th>\n",
              "      <th>cat_std</th>\n",
              "      <th>dong</th>\n",
              "      <th>lon</th>\n",
              "      <th>lat</th>\n",
              "      <th>cat_mix</th>\n",
              "      <th>kakao_keyword</th>\n",
              "      <th>kakao_map_url</th>\n",
              "      <th>kakao_store_name</th>\n",
              "      <th>kakao_star_point</th>\n",
              "      <th>kakao_star_point_qty</th>\n",
              "      <th>kakao_blog_review_txt</th>\n",
              "      <th>kakao_blog_review_qty</th>\n",
              "    </tr>\n",
              "  </thead>\n",
              "  <tbody>\n",
              "    <tr>\n",
              "      <th>81</th>\n",
              "      <td>가야밀면</td>\n",
              "      <td>분식</td>\n",
              "      <td>국수/만두/칼국수</td>\n",
              "      <td>분식 및 김밥 전문점</td>\n",
              "      <td>부전2동</td>\n",
              "      <td>35.155154</td>\n",
              "      <td>129.061267</td>\n",
              "      <td>분식국수 만두 칼국수분식 및 김밥 전문점</td>\n",
              "      <td>부전2동%20가야밀면</td>\n",
              "      <td>https://place.map.kakao.com/16668945</td>\n",
              "      <td>가야밀면</td>\n",
              "      <td>0.0</td>\n",
              "      <td>0.0</td>\n",
              "      <td>안녕하세요~!찌니에용 찌니는 부산놀러가면 서면을 주변으로 다녀요! 놀다가 출출할때 ...</td>\n",
              "      <td>3.0</td>\n",
              "    </tr>\n",
              "    <tr>\n",
              "      <th>143</th>\n",
              "      <td>국수가게</td>\n",
              "      <td>분식</td>\n",
              "      <td>국수/만두/칼국수</td>\n",
              "      <td>분식 및 김밥 전문점</td>\n",
              "      <td>부전2동</td>\n",
              "      <td>35.155172</td>\n",
              "      <td>129.057141</td>\n",
              "      <td>분식국수 만두 칼국수분식 및 김밥 전문점</td>\n",
              "      <td>부전2동%20국수가게</td>\n",
              "      <td>https://place.map.kakao.com/11495457</td>\n",
              "      <td>기장손칼국수</td>\n",
              "      <td>3.8</td>\n",
              "      <td>1.0</td>\n",
              "      <td>서면시장 오래된 맛집 기장손칼국수 기장손칼국수 부산광역시 부산진구 서면로 56 ㅎㅎ...</td>\n",
              "      <td>329.0</td>\n",
              "    </tr>\n",
              "    <tr>\n",
              "      <th>574</th>\n",
              "      <td>기장손칼국수</td>\n",
              "      <td>분식</td>\n",
              "      <td>국수/만두/칼국수</td>\n",
              "      <td>분식 및 김밥 전문점</td>\n",
              "      <td>부전2동</td>\n",
              "      <td>35.155677</td>\n",
              "      <td>129.058168</td>\n",
              "      <td>분식국수 만두 칼국수분식 및 김밥 전문점</td>\n",
              "      <td>부전2동%20기장손칼국수</td>\n",
              "      <td>https://place.map.kakao.com/11495457</td>\n",
              "      <td>기장손칼국수</td>\n",
              "      <td>3.8</td>\n",
              "      <td>1.0</td>\n",
              "      <td>서면시장 오래된 맛집 기장손칼국수 기장손칼국수 부산광역시 부산진구 서면로 56 ㅎㅎ...</td>\n",
              "      <td>329.0</td>\n",
              "    </tr>\n",
              "    <tr>\n",
              "      <th>102</th>\n",
              "      <td>칼국수집</td>\n",
              "      <td>분식</td>\n",
              "      <td>국수/만두/칼국수</td>\n",
              "      <td>분식 및 김밥 전문점</td>\n",
              "      <td>부전2동</td>\n",
              "      <td>35.155677</td>\n",
              "      <td>129.058168</td>\n",
              "      <td>분식국수 만두 칼국수분식 및 김밥 전문점</td>\n",
              "      <td>부전2동%20칼국수집</td>\n",
              "      <td>https://place.map.kakao.com/11495457</td>\n",
              "      <td>기장손칼국수</td>\n",
              "      <td>3.8</td>\n",
              "      <td>1.0</td>\n",
              "      <td>서면시장 오래된 맛집 기장손칼국수 기장손칼국수 부산광역시 부산진구 서면로 56 ㅎㅎ...</td>\n",
              "      <td>329.0</td>\n",
              "    </tr>\n",
              "    <tr>\n",
              "      <th>530</th>\n",
              "      <td>고향손칼국수</td>\n",
              "      <td>분식</td>\n",
              "      <td>국수/만두/칼국수</td>\n",
              "      <td>분식 및 김밥 전문점</td>\n",
              "      <td>부전2동</td>\n",
              "      <td>35.155677</td>\n",
              "      <td>129.058168</td>\n",
              "      <td>분식국수 만두 칼국수분식 및 김밥 전문점</td>\n",
              "      <td>부전2동%20고향손칼국수</td>\n",
              "      <td>https://place.map.kakao.com/27503713</td>\n",
              "      <td>고향손칼국수</td>\n",
              "      <td>3.4</td>\n",
              "      <td>5.0</td>\n",
              "      <td>고향칼국수 부산광역시 부산진구 부전동 256-6 서면시장 내 고향칼국수 051-81...</td>\n",
              "      <td>15.0</td>\n",
              "    </tr>\n",
              "  </tbody>\n",
              "</table>\n",
              "</div>"
            ],
            "text/plain": [
              "       name  ... kakao_blog_review_qty\n",
              "81     가야밀면  ...                   3.0\n",
              "143    국수가게  ...                 329.0\n",
              "574  기장손칼국수  ...                 329.0\n",
              "102    칼국수집  ...                 329.0\n",
              "530  고향손칼국수  ...                  15.0\n",
              "\n",
              "[5 rows x 15 columns]"
            ]
          },
          "metadata": {
            "tags": []
          },
          "execution_count": 58
        }
      ]
    }
  ]
}