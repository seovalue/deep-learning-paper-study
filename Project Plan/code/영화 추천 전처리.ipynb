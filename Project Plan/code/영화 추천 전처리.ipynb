{
  "nbformat": 4,
  "nbformat_minor": 0,
  "metadata": {
    "colab": {
      "name": "Untitled18.ipynb",
      "provenance": []
    },
    "kernelspec": {
      "name": "python3",
      "display_name": "Python 3"
    }
  },
  "cells": [
    {
      "cell_type": "code",
      "metadata": {
        "id": "0HYiv21ykMz1",
        "colab_type": "code",
        "colab": {
          "base_uri": "https://localhost:8080/",
          "height": 34
        },
        "outputId": "fb03c2f2-5465-4969-8d63-ca4884cc5d8f"
      },
      "source": [
        "from google.colab import drive \n",
        "drive.mount('/content/gdrive/')"
      ],
      "execution_count": 1,
      "outputs": [
        {
          "output_type": "stream",
          "text": [
            "Drive already mounted at /content/gdrive/; to attempt to forcibly remount, call drive.mount(\"/content/gdrive/\", force_remount=True).\n"
          ],
          "name": "stdout"
        }
      ]
    },
    {
      "cell_type": "code",
      "metadata": {
        "id": "mYUav62dl0_S",
        "colab_type": "code",
        "colab": {
          "base_uri": "https://localhost:8080/",
          "height": 628
        },
        "outputId": "82c50e0d-1e75-45b4-bf57-00c4a374606f"
      },
      "source": [
        "!apt-get update\n",
        "!apt-get install g++ openjdk-8-jdk \n",
        "!pip3 install konlpy\n",
        "import warnings \n",
        "warnings.filterwarnings('ignore')"
      ],
      "execution_count": 2,
      "outputs": [
        {
          "output_type": "stream",
          "text": [
            "\r0% [Working]\r            \rHit:1 http://ppa.launchpad.net/graphics-drivers/ppa/ubuntu bionic InRelease\n",
            "\r0% [Waiting for headers] [Connecting to security.ubuntu.com (91.189.91.38)] [Co\r0% [1 InRelease gpgv 21.3 kB] [Waiting for headers] [Connecting to security.ubu\r                                                                               \rHit:2 https://cloud.r-project.org/bin/linux/ubuntu bionic-cran35/ InRelease\n",
            "\r0% [1 InRelease gpgv 21.3 kB] [Waiting for headers] [Connecting to security.ubu\r                                                                               \rHit:3 http://archive.ubuntu.com/ubuntu bionic InRelease\n",
            "\r0% [1 InRelease gpgv 21.3 kB] [Waiting for headers] [Connecting to security.ubu\r                                                                               \rHit:4 http://ppa.launchpad.net/marutter/c2d4u3.5/ubuntu bionic InRelease\n",
            "\r0% [1 InRelease gpgv 21.3 kB] [Waiting for headers] [Connecting to security.ubu\r                                                                               \rHit:5 http://archive.ubuntu.com/ubuntu bionic-updates InRelease\n",
            "Hit:6 http://archive.ubuntu.com/ubuntu bionic-backports InRelease\n",
            "Hit:7 http://security.ubuntu.com/ubuntu bionic-security InRelease\n",
            "Ign:8 https://developer.download.nvidia.com/compute/cuda/repos/ubuntu1804/x86_64  InRelease\n",
            "Ign:9 https://developer.download.nvidia.com/compute/machine-learning/repos/ubuntu1804/x86_64  InRelease\n",
            "Hit:10 https://developer.download.nvidia.com/compute/cuda/repos/ubuntu1804/x86_64  Release\n",
            "Hit:11 https://developer.download.nvidia.com/compute/machine-learning/repos/ubuntu1804/x86_64  Release\n",
            "Reading package lists... Done\n",
            "Reading package lists... Done\n",
            "Building dependency tree       \n",
            "Reading state information... Done\n",
            "g++ is already the newest version (4:7.4.0-1ubuntu2.3).\n",
            "openjdk-8-jdk is already the newest version (8u265-b01-0ubuntu2~18.04).\n",
            "0 upgraded, 0 newly installed, 0 to remove and 44 not upgraded.\n",
            "Requirement already satisfied: konlpy in /usr/local/lib/python3.6/dist-packages (0.5.2)\n",
            "Requirement already satisfied: colorama in /usr/local/lib/python3.6/dist-packages (from konlpy) (0.4.3)\n",
            "Requirement already satisfied: lxml>=4.1.0 in /usr/local/lib/python3.6/dist-packages (from konlpy) (4.2.6)\n",
            "Requirement already satisfied: JPype1>=0.7.0 in /usr/local/lib/python3.6/dist-packages (from konlpy) (1.0.2)\n",
            "Requirement already satisfied: beautifulsoup4==4.6.0 in /usr/local/lib/python3.6/dist-packages (from konlpy) (4.6.0)\n",
            "Requirement already satisfied: numpy>=1.6 in /usr/local/lib/python3.6/dist-packages (from konlpy) (1.18.5)\n",
            "Requirement already satisfied: tweepy>=3.7.0 in /usr/local/lib/python3.6/dist-packages (from konlpy) (3.9.0)\n",
            "Requirement already satisfied: typing-extensions; python_version < \"3.8\" in /usr/local/lib/python3.6/dist-packages (from JPype1>=0.7.0->konlpy) (3.7.4.3)\n",
            "Requirement already satisfied: six>=1.10.0 in /usr/local/lib/python3.6/dist-packages (from tweepy>=3.7.0->konlpy) (1.15.0)\n",
            "Requirement already satisfied: requests[socks]>=2.11.1 in /usr/local/lib/python3.6/dist-packages (from tweepy>=3.7.0->konlpy) (2.23.0)\n",
            "Requirement already satisfied: requests-oauthlib>=0.7.0 in /usr/local/lib/python3.6/dist-packages (from tweepy>=3.7.0->konlpy) (1.3.0)\n",
            "Requirement already satisfied: idna<3,>=2.5 in /usr/local/lib/python3.6/dist-packages (from requests[socks]>=2.11.1->tweepy>=3.7.0->konlpy) (2.10)\n",
            "Requirement already satisfied: certifi>=2017.4.17 in /usr/local/lib/python3.6/dist-packages (from requests[socks]>=2.11.1->tweepy>=3.7.0->konlpy) (2020.6.20)\n",
            "Requirement already satisfied: chardet<4,>=3.0.2 in /usr/local/lib/python3.6/dist-packages (from requests[socks]>=2.11.1->tweepy>=3.7.0->konlpy) (3.0.4)\n",
            "Requirement already satisfied: urllib3!=1.25.0,!=1.25.1,<1.26,>=1.21.1 in /usr/local/lib/python3.6/dist-packages (from requests[socks]>=2.11.1->tweepy>=3.7.0->konlpy) (1.24.3)\n",
            "Requirement already satisfied: PySocks!=1.5.7,>=1.5.6; extra == \"socks\" in /usr/local/lib/python3.6/dist-packages (from requests[socks]>=2.11.1->tweepy>=3.7.0->konlpy) (1.7.1)\n",
            "Requirement already satisfied: oauthlib>=3.0.0 in /usr/local/lib/python3.6/dist-packages (from requests-oauthlib>=0.7.0->tweepy>=3.7.0->konlpy) (3.1.0)\n"
          ],
          "name": "stdout"
        }
      ]
    },
    {
      "cell_type": "code",
      "metadata": {
        "id": "g_QXwEEkkfgD",
        "colab_type": "code",
        "colab": {}
      },
      "source": [
        "from sklearn.feature_extraction.text import TfidfVectorizer\n",
        "from sklearn.metrics.pairwise import cosine_similarity\n",
        "import matplotlib.pyplot as plt\n",
        "plt.rc('font', family='Malgun Gothic')\n",
        "import seaborn as sns\n",
        "import numpy as np\n",
        "import pandas as pd\n",
        "import re\n",
        "from konlpy.tag import Okt\n",
        "okt = Okt()"
      ],
      "execution_count": 10,
      "outputs": []
    },
    {
      "cell_type": "code",
      "metadata": {
        "id": "JHtvrfA9lql_",
        "colab_type": "code",
        "colab": {}
      },
      "source": [
        "\"\"\"한글, 숫자, 영어 빼고 전부 제거\"\"\"\n",
        "def sub_special(s):\n",
        "  return re.sub(r'[^ㄱ-ㅎㅏ-ㅣ가-힣0-9a-zA-Z ]','',s)\n",
        "STOP_WORDS = ['의','가','이','은','들','는','좀','잘','걍','과','도','을','를','으로','자','에','와','한','하다','로']\n",
        "def morph(s):\n",
        "  token_ls = []\n",
        "  #형태소 분석\n",
        "  s = sub_special(s)\n",
        "  tmp = okt.morphs(s, stem=True)\n",
        "\n",
        "  #불용어 처리\n",
        "  for token in tmp:\n",
        "    if token not in STOP_WORDS:\n",
        "      token_ls.append(token)\n",
        "  return token_ls"
      ],
      "execution_count": 35,
      "outputs": []
    },
    {
      "cell_type": "code",
      "metadata": {
        "id": "-Ka_o5oumGKc",
        "colab_type": "code",
        "colab": {
          "base_uri": "https://localhost:8080/",
          "height": 280
        },
        "outputId": "72f72954-6a03-4c2f-a8a4-2c6a8d560859"
      },
      "source": [
        "movie = pd.read_csv('/content/gdrive/My Drive/recom_dev/crawling/data/genre_rec_movie.csv')\n",
        "movie.drop(['Unnamed: 0'], axis = 1, inplace=True)\n",
        "movie.head(5)"
      ],
      "execution_count": 25,
      "outputs": [
        {
          "output_type": "execute_result",
          "data": {
            "text/html": [
              "<div>\n",
              "<style scoped>\n",
              "    .dataframe tbody tr th:only-of-type {\n",
              "        vertical-align: middle;\n",
              "    }\n",
              "\n",
              "    .dataframe tbody tr th {\n",
              "        vertical-align: top;\n",
              "    }\n",
              "\n",
              "    .dataframe thead th {\n",
              "        text-align: right;\n",
              "    }\n",
              "</style>\n",
              "<table border=\"1\" class=\"dataframe\">\n",
              "  <thead>\n",
              "    <tr style=\"text-align: right;\">\n",
              "      <th></th>\n",
              "      <th>title</th>\n",
              "      <th>genre</th>\n",
              "      <th>ratings</th>\n",
              "      <th>cast</th>\n",
              "      <th>summary</th>\n",
              "      <th>numberofpeople</th>\n",
              "      <th>imagelink</th>\n",
              "    </tr>\n",
              "  </thead>\n",
              "  <tbody>\n",
              "    <tr>\n",
              "      <th>0</th>\n",
              "      <td>포드 V 페라리</td>\n",
              "      <td>액션</td>\n",
              "      <td>관람객 평점 9.31점</td>\n",
              "      <td>['맷 데이먼', '크리스찬 베일']</td>\n",
              "      <td>자존심을 건 대결의 시작!</td>\n",
              "      <td>1,118</td>\n",
              "      <td>https://movie-phinf.pstatic.net/20191204_91/15...</td>\n",
              "    </tr>\n",
              "    <tr>\n",
              "      <th>1</th>\n",
              "      <td>감쪽같은 그녀</td>\n",
              "      <td>드라마</td>\n",
              "      <td>관람객 평점 8.83점</td>\n",
              "      <td>['나문희', '김수안']</td>\n",
              "      <td>“초면에 실례하겠습니다~”\\n 72살 나 홀로 라이프를 즐기는 ‘말순’ 할매의 인생...</td>\n",
              "      <td>208</td>\n",
              "      <td>https://movie-phinf.pstatic.net/20191204_6/157...</td>\n",
              "    </tr>\n",
              "    <tr>\n",
              "      <th>2</th>\n",
              "      <td>백두산</td>\n",
              "      <td>드라마</td>\n",
              "      <td>관람객 평점 7.47점</td>\n",
              "      <td>['이병헌', '하정우', '마동석']</td>\n",
              "      <td>대한민국 관측 역사상 최대 규모의 백두산 폭발 발생.\\n 갑작스러운 재난에 한반도는...</td>\n",
              "      <td>2,828</td>\n",
              "      <td>https://movie-phinf.pstatic.net/20191219_263/1...</td>\n",
              "    </tr>\n",
              "    <tr>\n",
              "      <th>3</th>\n",
              "      <td>시동</td>\n",
              "      <td>드라마</td>\n",
              "      <td>관람객 평점 8.68점</td>\n",
              "      <td>['마동석', '박정민', '정해인']</td>\n",
              "      <td>학교도 싫고 집도 싫고 공부는 더더욱 싫다며\\n '엄마'(염정아)에게 1일 1강스파...</td>\n",
              "      <td>1,780</td>\n",
              "      <td>https://movie-phinf.pstatic.net/20200117_56/15...</td>\n",
              "    </tr>\n",
              "    <tr>\n",
              "      <th>4</th>\n",
              "      <td>블랙머니</td>\n",
              "      <td>범죄</td>\n",
              "      <td>관람객 평점 8.75점</td>\n",
              "      <td>['조진웅', '이하늬']</td>\n",
              "      <td>고발은 의무! 수사는 직진!\\n할말은 하고 깔 건 깐다!</td>\n",
              "      <td>862</td>\n",
              "      <td>https://movie-phinf.pstatic.net/20191113_203/1...</td>\n",
              "    </tr>\n",
              "  </tbody>\n",
              "</table>\n",
              "</div>"
            ],
            "text/plain": [
              "      title  ...                                          imagelink\n",
              "0  포드 V 페라리  ...  https://movie-phinf.pstatic.net/20191204_91/15...\n",
              "1   감쪽같은 그녀  ...  https://movie-phinf.pstatic.net/20191204_6/157...\n",
              "2       백두산  ...  https://movie-phinf.pstatic.net/20191219_263/1...\n",
              "3        시동  ...  https://movie-phinf.pstatic.net/20200117_56/15...\n",
              "4      블랙머니  ...  https://movie-phinf.pstatic.net/20191113_203/1...\n",
              "\n",
              "[5 rows x 7 columns]"
            ]
          },
          "metadata": {
            "tags": []
          },
          "execution_count": 25
        }
      ]
    },
    {
      "cell_type": "markdown",
      "metadata": {
        "id": "j81QwXJFobxL",
        "colab_type": "text"
      },
      "source": [
        "결측값 확인"
      ]
    },
    {
      "cell_type": "code",
      "metadata": {
        "id": "bj-6dmrJoI-B",
        "colab_type": "code",
        "colab": {
          "base_uri": "https://localhost:8080/",
          "height": 156
        },
        "outputId": "672126b1-05f2-4f5d-ae2c-171fd94e2c8d"
      },
      "source": [
        "movie.isnull().sum()"
      ],
      "execution_count": 26,
      "outputs": [
        {
          "output_type": "execute_result",
          "data": {
            "text/plain": [
              "title              0\n",
              "genre              0\n",
              "ratings           78\n",
              "cast               0\n",
              "summary            1\n",
              "numberofpeople     0\n",
              "imagelink          0\n",
              "dtype: int64"
            ]
          },
          "metadata": {
            "tags": []
          },
          "execution_count": 26
        }
      ]
    },
    {
      "cell_type": "markdown",
      "metadata": {
        "id": "THhxpIvpoybS",
        "colab_type": "text"
      },
      "source": [
        "평점이 null인 행만 추출"
      ]
    },
    {
      "cell_type": "code",
      "metadata": {
        "id": "_N2IcIzRod6V",
        "colab_type": "code",
        "colab": {
          "base_uri": "https://localhost:8080/",
          "height": 280
        },
        "outputId": "1c9b51da-a0ea-41e3-c074-a0bb6695a5e4"
      },
      "source": [
        "movie[movie['ratings'].isnull()][:5]"
      ],
      "execution_count": 27,
      "outputs": [
        {
          "output_type": "execute_result",
          "data": {
            "text/html": [
              "<div>\n",
              "<style scoped>\n",
              "    .dataframe tbody tr th:only-of-type {\n",
              "        vertical-align: middle;\n",
              "    }\n",
              "\n",
              "    .dataframe tbody tr th {\n",
              "        vertical-align: top;\n",
              "    }\n",
              "\n",
              "    .dataframe thead th {\n",
              "        text-align: right;\n",
              "    }\n",
              "</style>\n",
              "<table border=\"1\" class=\"dataframe\">\n",
              "  <thead>\n",
              "    <tr style=\"text-align: right;\">\n",
              "      <th></th>\n",
              "      <th>title</th>\n",
              "      <th>genre</th>\n",
              "      <th>ratings</th>\n",
              "      <th>cast</th>\n",
              "      <th>summary</th>\n",
              "      <th>numberofpeople</th>\n",
              "      <th>imagelink</th>\n",
              "    </tr>\n",
              "  </thead>\n",
              "  <tbody>\n",
              "    <tr>\n",
              "      <th>49</th>\n",
              "      <td>이터널스</td>\n",
              "      <td>액션</td>\n",
              "      <td>NaN</td>\n",
              "      <td>['안젤리나 졸리', '마동석', '리차드 매든']</td>\n",
              "      <td>잭 커비의 코믹북을 원작으로, 수백만 년 전 인류를 실험하기 위해 지구로 온 셀레스...</td>\n",
              "      <td>0</td>\n",
              "      <td>https://movie-phinf.pstatic.net/20190813_248/1...</td>\n",
              "    </tr>\n",
              "    <tr>\n",
              "      <th>63</th>\n",
              "      <td>미친사랑</td>\n",
              "      <td>드라마</td>\n",
              "      <td>NaN</td>\n",
              "      <td>['공형진', '이시원', '송재림']</td>\n",
              "      <td>과거 북파 공작원으로 활동했던 남자(두식)는 고향(남한)으로도 돌아가지 못한 채 수...</td>\n",
              "      <td>0</td>\n",
              "      <td>https://movie-phinf.pstatic.net/20190530_108/1...</td>\n",
              "    </tr>\n",
              "    <tr>\n",
              "      <th>67</th>\n",
              "      <td>아이언맨</td>\n",
              "      <td>SF</td>\n",
              "      <td>NaN</td>\n",
              "      <td>['로버트 다우니 주니어', '테렌스 하워드', '제프 브리지스']</td>\n",
              "      <td>하이테크 슈퍼 히어로의 탄생 | 이제 업그레이드는 끝났다</td>\n",
              "      <td>0</td>\n",
              "      <td>https://movie-phinf.pstatic.net/20111222_37/13...</td>\n",
              "    </tr>\n",
              "    <tr>\n",
              "      <th>70</th>\n",
              "      <td>헬보이 2: 골든 아미</td>\n",
              "      <td>SF</td>\n",
              "      <td>NaN</td>\n",
              "      <td>['론 펄먼', '셀마 블레어', '더그 존스']</td>\n",
              "      <td>잘생긴 얼굴만 세상을 구하는 건 아니지!</td>\n",
              "      <td>0</td>\n",
              "      <td>https://movie-phinf.pstatic.net/20111222_198/1...</td>\n",
              "    </tr>\n",
              "    <tr>\n",
              "      <th>74</th>\n",
              "      <td>해리 포터와 비밀의 방</td>\n",
              "      <td>판타지</td>\n",
              "      <td>NaN</td>\n",
              "      <td>['다니엘 래드클리프', '루퍼트 그린트', '엠마 왓슨']</td>\n",
              "      <td>해리 포터에겐 이번 여름방학이 별로 즐겁질 못했다. 마법이라면 질색을 하는 페투니아...</td>\n",
              "      <td>0</td>\n",
              "      <td>https://movie-phinf.pstatic.net/20111222_244/1...</td>\n",
              "    </tr>\n",
              "  </tbody>\n",
              "</table>\n",
              "</div>"
            ],
            "text/plain": [
              "           title  ...                                          imagelink\n",
              "49          이터널스  ...  https://movie-phinf.pstatic.net/20190813_248/1...\n",
              "63          미친사랑  ...  https://movie-phinf.pstatic.net/20190530_108/1...\n",
              "67          아이언맨  ...  https://movie-phinf.pstatic.net/20111222_37/13...\n",
              "70  헬보이 2: 골든 아미  ...  https://movie-phinf.pstatic.net/20111222_198/1...\n",
              "74  해리 포터와 비밀의 방  ...  https://movie-phinf.pstatic.net/20111222_244/1...\n",
              "\n",
              "[5 rows x 7 columns]"
            ]
          },
          "metadata": {
            "tags": []
          },
          "execution_count": 27
        }
      ]
    },
    {
      "cell_type": "markdown",
      "metadata": {
        "id": "Am-Vz6LQqbw9",
        "colab_type": "text"
      },
      "source": [
        "ratings이 null인 값들을 직접 naver 영화에서 검색해보았다. \n",
        "아직까지 개봉하지 않은 영화이거나, 개봉했으나 관람객 평점이 존재하지 않는 경우이므로 추천하는데에 무의미한 데이터라 생각하고 drop 하여 삭제하는 것으로 결정하였다."
      ]
    },
    {
      "cell_type": "markdown",
      "metadata": {
        "id": "r_xqc1XBpKPt",
        "colab_type": "text"
      },
      "source": [
        "![이터널스.PNG](data:image/png;base64,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) ![골든 아미.PNG](data:image/png;base64,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)"
      ]
    },
    {
      "cell_type": "code",
      "metadata": {
        "id": "g-aXQ5ZdqpR7",
        "colab_type": "code",
        "colab": {
          "base_uri": "https://localhost:8080/",
          "height": 77
        },
        "outputId": "e5fb18c2-ad81-4bf2-e4ad-04d6feeb2b2a"
      },
      "source": [
        "movie[movie['summary'].isnull()][:5]"
      ],
      "execution_count": 28,
      "outputs": [
        {
          "output_type": "execute_result",
          "data": {
            "text/html": [
              "<div>\n",
              "<style scoped>\n",
              "    .dataframe tbody tr th:only-of-type {\n",
              "        vertical-align: middle;\n",
              "    }\n",
              "\n",
              "    .dataframe tbody tr th {\n",
              "        vertical-align: top;\n",
              "    }\n",
              "\n",
              "    .dataframe thead th {\n",
              "        text-align: right;\n",
              "    }\n",
              "</style>\n",
              "<table border=\"1\" class=\"dataframe\">\n",
              "  <thead>\n",
              "    <tr style=\"text-align: right;\">\n",
              "      <th></th>\n",
              "      <th>title</th>\n",
              "      <th>genre</th>\n",
              "      <th>ratings</th>\n",
              "      <th>cast</th>\n",
              "      <th>summary</th>\n",
              "      <th>numberofpeople</th>\n",
              "      <th>imagelink</th>\n",
              "    </tr>\n",
              "  </thead>\n",
              "  <tbody>\n",
              "    <tr>\n",
              "      <th>154</th>\n",
              "      <td>007 노 타임 투 다이</td>\n",
              "      <td>액션</td>\n",
              "      <td>NaN</td>\n",
              "      <td>['다니엘 크레이그', '라미 말렉', '라샤나 린치']</td>\n",
              "      <td>NaN</td>\n",
              "      <td>0</td>\n",
              "      <td>https://movie-phinf.pstatic.net/20200305_156/1...</td>\n",
              "    </tr>\n",
              "  </tbody>\n",
              "</table>\n",
              "</div>"
            ],
            "text/plain": [
              "             title  ...                                          imagelink\n",
              "154  007 노 타임 투 다이  ...  https://movie-phinf.pstatic.net/20200305_156/1...\n",
              "\n",
              "[1 rows x 7 columns]"
            ]
          },
          "metadata": {
            "tags": []
          },
          "execution_count": 28
        }
      ]
    },
    {
      "cell_type": "markdown",
      "metadata": {
        "id": "ZXt4S-lGquuG",
        "colab_type": "text"
      },
      "source": [
        "마찬가지로 summary가 null인 영화 또한 ratings가 존재하지 않았으므로, 삭제 처리한다."
      ]
    },
    {
      "cell_type": "code",
      "metadata": {
        "id": "qAcNN5sBqyhv",
        "colab_type": "code",
        "colab": {
          "base_uri": "https://localhost:8080/",
          "height": 156
        },
        "outputId": "9aa3d6e7-8ebe-4df3-bfbf-9c0998d30ca3"
      },
      "source": [
        "movie = movie.dropna()\n",
        "movie.isnull().sum()"
      ],
      "execution_count": 29,
      "outputs": [
        {
          "output_type": "execute_result",
          "data": {
            "text/plain": [
              "title             0\n",
              "genre             0\n",
              "ratings           0\n",
              "cast              0\n",
              "summary           0\n",
              "numberofpeople    0\n",
              "imagelink         0\n",
              "dtype: int64"
            ]
          },
          "metadata": {
            "tags": []
          },
          "execution_count": 29
        }
      ]
    },
    {
      "cell_type": "code",
      "metadata": {
        "id": "qCXowKfBq9mQ",
        "colab_type": "code",
        "colab": {}
      },
      "source": [
        "movie.reset_index(inplace = True)\n",
        "movie.drop(['index'], axis=1, inplace = True)"
      ],
      "execution_count": 30,
      "outputs": []
    },
    {
      "cell_type": "markdown",
      "metadata": {
        "id": "fj7fKTxDr_4_",
        "colab_type": "text"
      },
      "source": [
        "줄거리를 형태소 분리하여 띄워쓰기로 구분한다."
      ]
    },
    {
      "cell_type": "code",
      "metadata": {
        "id": "KnQ-LtcBmbrZ",
        "colab_type": "code",
        "colab": {
          "base_uri": "https://localhost:8080/",
          "height": 330
        },
        "outputId": "67063050-1e29-45c1-e033-d815b0108b0b"
      },
      "source": [
        "movie['summary_keywords'] = ''\n",
        "for i in range(len(movie)):\n",
        "  movie['summary_keywords'][i] = ' '.join(set(morph(movie['summary'][i])))\n",
        "\n",
        "movie.head(5)"
      ],
      "execution_count": 37,
      "outputs": [
        {
          "output_type": "execute_result",
          "data": {
            "text/html": [
              "<div>\n",
              "<style scoped>\n",
              "    .dataframe tbody tr th:only-of-type {\n",
              "        vertical-align: middle;\n",
              "    }\n",
              "\n",
              "    .dataframe tbody tr th {\n",
              "        vertical-align: top;\n",
              "    }\n",
              "\n",
              "    .dataframe thead th {\n",
              "        text-align: right;\n",
              "    }\n",
              "</style>\n",
              "<table border=\"1\" class=\"dataframe\">\n",
              "  <thead>\n",
              "    <tr style=\"text-align: right;\">\n",
              "      <th></th>\n",
              "      <th>title</th>\n",
              "      <th>genre</th>\n",
              "      <th>ratings</th>\n",
              "      <th>cast</th>\n",
              "      <th>summary</th>\n",
              "      <th>numberofpeople</th>\n",
              "      <th>imagelink</th>\n",
              "      <th>summary_keywords</th>\n",
              "    </tr>\n",
              "  </thead>\n",
              "  <tbody>\n",
              "    <tr>\n",
              "      <th>0</th>\n",
              "      <td>포드 V 페라리</td>\n",
              "      <td>액션</td>\n",
              "      <td>관람객 평점 9.31점</td>\n",
              "      <td>['맷 데이먼', '크리스찬 베일']</td>\n",
              "      <td>자존심을 건 대결의 시작!</td>\n",
              "      <td>1,118</td>\n",
              "      <td>https://movie-phinf.pstatic.net/20191204_91/15...</td>\n",
              "      <td>대결 시작 건 자존심</td>\n",
              "    </tr>\n",
              "    <tr>\n",
              "      <th>1</th>\n",
              "      <td>감쪽같은 그녀</td>\n",
              "      <td>드라마</td>\n",
              "      <td>관람객 평점 8.83점</td>\n",
              "      <td>['나문희', '김수안']</td>\n",
              "      <td>“초면에 실례하겠습니다~”\\n 72살 나 홀로 라이프를 즐기는 ‘말순’ 할매의 인생...</td>\n",
              "      <td>208</td>\n",
              "      <td>https://movie-phinf.pstatic.net/20191204_6/157...</td>\n",
              "      <td>순은 말순 동생 하루 와의 지내다 성격 모든 필요하다 갓난 되어다 나 용돈 갈수록 ...</td>\n",
              "    </tr>\n",
              "    <tr>\n",
              "      <th>2</th>\n",
              "      <td>백두산</td>\n",
              "      <td>드라마</td>\n",
              "      <td>관람객 평점 7.47점</td>\n",
              "      <td>['이병헌', '하정우', '마동석']</td>\n",
              "      <td>대한민국 관측 역사상 최대 규모의 백두산 폭발 발생.\\n 갑작스러운 재난에 한반도는...</td>\n",
              "      <td>2,828</td>\n",
              "      <td>https://movie-phinf.pstatic.net/20191219_263/1...</td>\n",
              "      <td>남 최대 발생 분투 대한민국 하고 만들다 되다 최지영 백두산 비밀 지은 창 하정우 ...</td>\n",
              "    </tr>\n",
              "    <tr>\n",
              "      <th>3</th>\n",
              "      <td>시동</td>\n",
              "      <td>드라마</td>\n",
              "      <td>관람객 평점 8.68점</td>\n",
              "      <td>['마동석', '박정민', '정해인']</td>\n",
              "      <td>학교도 싫고 집도 싫고 공부는 더더욱 싫다며\\n '엄마'(염정아)에게 1일 1강스파...</td>\n",
              "      <td>1,780</td>\n",
              "      <td>https://movie-phinf.pstatic.net/20200117_56/15...</td>\n",
              "      <td>나가다 남다르다 찾다 더 인사 석 학교 빨리 세상 최대 아 집 1 마동석 첫 나누다...</td>\n",
              "    </tr>\n",
              "    <tr>\n",
              "      <th>4</th>\n",
              "      <td>블랙머니</td>\n",
              "      <td>범죄</td>\n",
              "      <td>관람객 평점 8.75점</td>\n",
              "      <td>['조진웅', '이하늬']</td>\n",
              "      <td>고발은 의무! 수사는 직진!\\n할말은 하고 깔 건 깐다!</td>\n",
              "      <td>862</td>\n",
              "      <td>https://movie-phinf.pstatic.net/20191113_203/1...</td>\n",
              "      <td>건 직진 고발 의무 깔다 수사</td>\n",
              "    </tr>\n",
              "  </tbody>\n",
              "</table>\n",
              "</div>"
            ],
            "text/plain": [
              "      title  ...                                   summary_keywords\n",
              "0  포드 V 페라리  ...                                        대결 시작 건 자존심\n",
              "1   감쪽같은 그녀  ...  순은 말순 동생 하루 와의 지내다 성격 모든 필요하다 갓난 되어다 나 용돈 갈수록 ...\n",
              "2       백두산  ...  남 최대 발생 분투 대한민국 하고 만들다 되다 최지영 백두산 비밀 지은 창 하정우 ...\n",
              "3        시동  ...  나가다 남다르다 찾다 더 인사 석 학교 빨리 세상 최대 아 집 1 마동석 첫 나누다...\n",
              "4      블랙머니  ...                                   건 직진 고발 의무 깔다 수사\n",
              "\n",
              "[5 rows x 8 columns]"
            ]
          },
          "metadata": {
            "tags": []
          },
          "execution_count": 37
        }
      ]
    },
    {
      "cell_type": "markdown",
      "metadata": {
        "id": "fhQMR_2ysD4I",
        "colab_type": "text"
      },
      "source": [
        "ratings를 평점만 남긴 데이터로 전처리한다."
      ]
    },
    {
      "cell_type": "code",
      "metadata": {
        "id": "G67e_OhlsVzk",
        "colab_type": "code",
        "colab": {
          "base_uri": "https://localhost:8080/",
          "height": 330
        },
        "outputId": "6fca99f1-071f-421c-b020-3b3eca889781"
      },
      "source": [
        "for i in range(len(movie)):\n",
        "  rating = movie['ratings'][i]\n",
        "  movie['ratings'][i] = float(rating[6:len(rating)-1])\n",
        "\n",
        "movie.head(5)"
      ],
      "execution_count": 44,
      "outputs": [
        {
          "output_type": "execute_result",
          "data": {
            "text/html": [
              "<div>\n",
              "<style scoped>\n",
              "    .dataframe tbody tr th:only-of-type {\n",
              "        vertical-align: middle;\n",
              "    }\n",
              "\n",
              "    .dataframe tbody tr th {\n",
              "        vertical-align: top;\n",
              "    }\n",
              "\n",
              "    .dataframe thead th {\n",
              "        text-align: right;\n",
              "    }\n",
              "</style>\n",
              "<table border=\"1\" class=\"dataframe\">\n",
              "  <thead>\n",
              "    <tr style=\"text-align: right;\">\n",
              "      <th></th>\n",
              "      <th>title</th>\n",
              "      <th>genre</th>\n",
              "      <th>ratings</th>\n",
              "      <th>cast</th>\n",
              "      <th>summary</th>\n",
              "      <th>numberofpeople</th>\n",
              "      <th>imagelink</th>\n",
              "      <th>summary_keywords</th>\n",
              "    </tr>\n",
              "  </thead>\n",
              "  <tbody>\n",
              "    <tr>\n",
              "      <th>0</th>\n",
              "      <td>포드 V 페라리</td>\n",
              "      <td>액션</td>\n",
              "      <td>9.31</td>\n",
              "      <td>['맷 데이먼', '크리스찬 베일']</td>\n",
              "      <td>자존심을 건 대결의 시작!</td>\n",
              "      <td>1,118</td>\n",
              "      <td>https://movie-phinf.pstatic.net/20191204_91/15...</td>\n",
              "      <td>대결 시작 건 자존심</td>\n",
              "    </tr>\n",
              "    <tr>\n",
              "      <th>1</th>\n",
              "      <td>감쪽같은 그녀</td>\n",
              "      <td>드라마</td>\n",
              "      <td>8.83</td>\n",
              "      <td>['나문희', '김수안']</td>\n",
              "      <td>“초면에 실례하겠습니다~”\\n 72살 나 홀로 라이프를 즐기는 ‘말순’ 할매의 인생...</td>\n",
              "      <td>208</td>\n",
              "      <td>https://movie-phinf.pstatic.net/20191204_6/157...</td>\n",
              "      <td>순은 말순 동생 하루 와의 지내다 성격 모든 필요하다 갓난 되어다 나 용돈 갈수록 ...</td>\n",
              "    </tr>\n",
              "    <tr>\n",
              "      <th>2</th>\n",
              "      <td>백두산</td>\n",
              "      <td>드라마</td>\n",
              "      <td>7.47</td>\n",
              "      <td>['이병헌', '하정우', '마동석']</td>\n",
              "      <td>대한민국 관측 역사상 최대 규모의 백두산 폭발 발생.\\n 갑작스러운 재난에 한반도는...</td>\n",
              "      <td>2,828</td>\n",
              "      <td>https://movie-phinf.pstatic.net/20191219_263/1...</td>\n",
              "      <td>남 최대 발생 분투 대한민국 하고 만들다 되다 최지영 백두산 비밀 지은 창 하정우 ...</td>\n",
              "    </tr>\n",
              "    <tr>\n",
              "      <th>3</th>\n",
              "      <td>시동</td>\n",
              "      <td>드라마</td>\n",
              "      <td>8.68</td>\n",
              "      <td>['마동석', '박정민', '정해인']</td>\n",
              "      <td>학교도 싫고 집도 싫고 공부는 더더욱 싫다며\\n '엄마'(염정아)에게 1일 1강스파...</td>\n",
              "      <td>1,780</td>\n",
              "      <td>https://movie-phinf.pstatic.net/20200117_56/15...</td>\n",
              "      <td>나가다 남다르다 찾다 더 인사 석 학교 빨리 세상 최대 아 집 1 마동석 첫 나누다...</td>\n",
              "    </tr>\n",
              "    <tr>\n",
              "      <th>4</th>\n",
              "      <td>블랙머니</td>\n",
              "      <td>범죄</td>\n",
              "      <td>8.75</td>\n",
              "      <td>['조진웅', '이하늬']</td>\n",
              "      <td>고발은 의무! 수사는 직진!\\n할말은 하고 깔 건 깐다!</td>\n",
              "      <td>862</td>\n",
              "      <td>https://movie-phinf.pstatic.net/20191113_203/1...</td>\n",
              "      <td>건 직진 고발 의무 깔다 수사</td>\n",
              "    </tr>\n",
              "  </tbody>\n",
              "</table>\n",
              "</div>"
            ],
            "text/plain": [
              "      title  ...                                   summary_keywords\n",
              "0  포드 V 페라리  ...                                        대결 시작 건 자존심\n",
              "1   감쪽같은 그녀  ...  순은 말순 동생 하루 와의 지내다 성격 모든 필요하다 갓난 되어다 나 용돈 갈수록 ...\n",
              "2       백두산  ...  남 최대 발생 분투 대한민국 하고 만들다 되다 최지영 백두산 비밀 지은 창 하정우 ...\n",
              "3        시동  ...  나가다 남다르다 찾다 더 인사 석 학교 빨리 세상 최대 아 집 1 마동석 첫 나누다...\n",
              "4      블랙머니  ...                                   건 직진 고발 의무 깔다 수사\n",
              "\n",
              "[5 rows x 8 columns]"
            ]
          },
          "metadata": {
            "tags": []
          },
          "execution_count": 44
        }
      ]
    },
    {
      "cell_type": "markdown",
      "metadata": {
        "id": "hFmmIUPttZ1p",
        "colab_type": "text"
      },
      "source": [
        "numberofpeople 또한 int형으로 바꾸어준다.."
      ]
    },
    {
      "cell_type": "code",
      "metadata": {
        "id": "-TNA1LIHtYSI",
        "colab_type": "code",
        "colab": {}
      },
      "source": [
        "for i in range(len(movie)):\n",
        "  if type(movie['numberofpeople'][i]) != int and ',' in movie['numberofpeople'][i]:\n",
        "    a = list(movie['numberofpeople'][i])\n",
        "    a.pop(a.index(','))\n",
        "    a = ''.join(a)\n",
        "    movie['numberofpeople'][i] = int(a)\n",
        "  else:\n",
        "    movie['numberofpeople'][i] = int(movie['numberofpeople'][i])"
      ],
      "execution_count": 57,
      "outputs": []
    },
    {
      "cell_type": "markdown",
      "metadata": {
        "id": "7luLoJm9tA7v",
        "colab_type": "text"
      },
      "source": [
        "가중 평점 = (v/(v+m)) R + (m/(v+m)) \\ C\n",
        "\n",
        "* v: 개별 영화에 평점을 투표한 횟수\n",
        "* m: 평점을 부여하기 위한 최소 투표 횟수\n",
        "* R: 개별 영화에 대한 평균 평점\n",
        "* C: 전체 영화에 대한 평균 평점\n",
        "\n",
        "\n",
        "v 는 'vote_count' 값이며, R은 'vote_average' 값에 해당합니다. C의 경우 전체 영화의 평균 평점이므로 movies['ratings'].mean()으로 구할 수 있습니다.\n",
        "m 의 경우는 투표 횟수에 따른 가중치를 직접 조절하는 역할을 하는데, m을 높이면 평점 투표 횟수가 많은 영화에 더 많은 가중 평점을 주게 됩니다.\n",
        "여기서는 m을 상위 60% 해당하는 횟수를 기준으로 정하겠습니다."
      ]
    },
    {
      "cell_type": "code",
      "metadata": {
        "id": "K-NnaJdksTt0",
        "colab_type": "code",
        "colab": {
          "base_uri": "https://localhost:8080/",
          "height": 34
        },
        "outputId": "ab1028d2-6324-41fb-a463-4c54e9bd7d5a"
      },
      "source": [
        "C = movie['ratings'].mean()\n",
        "m = movie['numberofpeople'].quantile(0.6)\n",
        "print('C:',round(C,3),'m:',round(m,3))"
      ],
      "execution_count": 58,
      "outputs": [
        {
          "output_type": "stream",
          "text": [
            "C: 8.465 m: 312.4\n"
          ],
          "name": "stdout"
        }
      ]
    },
    {
      "cell_type": "code",
      "metadata": {
        "id": "ifvk7kyBtL4u",
        "colab_type": "code",
        "colab": {
          "base_uri": "https://localhost:8080/",
          "height": 347
        },
        "outputId": "4f5d18c0-e070-4552-e640-d718f4518951"
      },
      "source": [
        "percentile = 0.6\n",
        "C = movie['ratings'].mean()\n",
        "m = movie['numberofpeople'].quantile(0.6)\n",
        "\n",
        "def weighted_ratings_average(record):\n",
        "  v = record['numberofpeople']\n",
        "  R = record['ratings']\n",
        "\n",
        "  return ((v/(v+m)) * R) +( (m/(v+m)) * C)\n",
        "\n",
        "movie['weighted_ratings'] = movie.apply(weighted_ratings_average, axis = 1)\n",
        "movie.head(5)"
      ],
      "execution_count": 60,
      "outputs": [
        {
          "output_type": "execute_result",
          "data": {
            "text/html": [
              "<div>\n",
              "<style scoped>\n",
              "    .dataframe tbody tr th:only-of-type {\n",
              "        vertical-align: middle;\n",
              "    }\n",
              "\n",
              "    .dataframe tbody tr th {\n",
              "        vertical-align: top;\n",
              "    }\n",
              "\n",
              "    .dataframe thead th {\n",
              "        text-align: right;\n",
              "    }\n",
              "</style>\n",
              "<table border=\"1\" class=\"dataframe\">\n",
              "  <thead>\n",
              "    <tr style=\"text-align: right;\">\n",
              "      <th></th>\n",
              "      <th>title</th>\n",
              "      <th>genre</th>\n",
              "      <th>ratings</th>\n",
              "      <th>cast</th>\n",
              "      <th>summary</th>\n",
              "      <th>numberofpeople</th>\n",
              "      <th>imagelink</th>\n",
              "      <th>summary_keywords</th>\n",
              "      <th>weighted_ratings</th>\n",
              "    </tr>\n",
              "  </thead>\n",
              "  <tbody>\n",
              "    <tr>\n",
              "      <th>0</th>\n",
              "      <td>포드 V 페라리</td>\n",
              "      <td>액션</td>\n",
              "      <td>9.31</td>\n",
              "      <td>['맷 데이먼', '크리스찬 베일']</td>\n",
              "      <td>자존심을 건 대결의 시작!</td>\n",
              "      <td>1118</td>\n",
              "      <td>https://movie-phinf.pstatic.net/20191204_91/15...</td>\n",
              "      <td>대결 시작 건 자존심</td>\n",
              "      <td>9.125471</td>\n",
              "    </tr>\n",
              "    <tr>\n",
              "      <th>1</th>\n",
              "      <td>감쪽같은 그녀</td>\n",
              "      <td>드라마</td>\n",
              "      <td>8.83</td>\n",
              "      <td>['나문희', '김수안']</td>\n",
              "      <td>“초면에 실례하겠습니다~”\\n 72살 나 홀로 라이프를 즐기는 ‘말순’ 할매의 인생...</td>\n",
              "      <td>208</td>\n",
              "      <td>https://movie-phinf.pstatic.net/20191204_6/157...</td>\n",
              "      <td>순은 말순 동생 하루 와의 지내다 성격 모든 필요하다 갓난 되어다 나 용돈 갈수록 ...</td>\n",
              "      <td>8.610942</td>\n",
              "    </tr>\n",
              "    <tr>\n",
              "      <th>2</th>\n",
              "      <td>백두산</td>\n",
              "      <td>드라마</td>\n",
              "      <td>7.47</td>\n",
              "      <td>['이병헌', '하정우', '마동석']</td>\n",
              "      <td>대한민국 관측 역사상 최대 규모의 백두산 폭발 발생.\\n 갑작스러운 재난에 한반도는...</td>\n",
              "      <td>2828</td>\n",
              "      <td>https://movie-phinf.pstatic.net/20191219_263/1...</td>\n",
              "      <td>남 최대 발생 분투 대한민국 하고 만들다 되다 최지영 백두산 비밀 지은 창 하정우 ...</td>\n",
              "      <td>7.568989</td>\n",
              "    </tr>\n",
              "    <tr>\n",
              "      <th>3</th>\n",
              "      <td>시동</td>\n",
              "      <td>드라마</td>\n",
              "      <td>8.68</td>\n",
              "      <td>['마동석', '박정민', '정해인']</td>\n",
              "      <td>학교도 싫고 집도 싫고 공부는 더더욱 싫다며\\n '엄마'(염정아)에게 1일 1강스파...</td>\n",
              "      <td>1780</td>\n",
              "      <td>https://movie-phinf.pstatic.net/20200117_56/15...</td>\n",
              "      <td>나가다 남다르다 찾다 더 인사 석 학교 빨리 세상 최대 아 집 1 마동석 첫 나누다...</td>\n",
              "      <td>8.647913</td>\n",
              "    </tr>\n",
              "    <tr>\n",
              "      <th>4</th>\n",
              "      <td>블랙머니</td>\n",
              "      <td>범죄</td>\n",
              "      <td>8.75</td>\n",
              "      <td>['조진웅', '이하늬']</td>\n",
              "      <td>고발은 의무! 수사는 직진!\\n할말은 하고 깔 건 깐다!</td>\n",
              "      <td>862</td>\n",
              "      <td>https://movie-phinf.pstatic.net/20191113_203/1...</td>\n",
              "      <td>건 직진 고발 의무 깔다 수사</td>\n",
              "      <td>8.674212</td>\n",
              "    </tr>\n",
              "  </tbody>\n",
              "</table>\n",
              "</div>"
            ],
            "text/plain": [
              "      title  ... weighted_ratings\n",
              "0  포드 V 페라리  ...         9.125471\n",
              "1   감쪽같은 그녀  ...         8.610942\n",
              "2       백두산  ...         7.568989\n",
              "3        시동  ...         8.647913\n",
              "4      블랙머니  ...         8.674212\n",
              "\n",
              "[5 rows x 9 columns]"
            ]
          },
          "metadata": {
            "tags": []
          },
          "execution_count": 60
        }
      ]
    },
    {
      "cell_type": "code",
      "metadata": {
        "id": "uBs_RI_fvMtC",
        "colab_type": "code",
        "colab": {}
      },
      "source": [
        "movie.columns = ['title','genre','vote','cast','summary','vote_count','image','summary_keyword','weighted_vote']"
      ],
      "execution_count": 61,
      "outputs": []
    },
    {
      "cell_type": "markdown",
      "metadata": {
        "id": "wcq89e5zvwlr",
        "colab_type": "text"
      },
      "source": [
        "* 가중 평점을 적용하지 않은 평점 순위 Top 10"
      ]
    },
    {
      "cell_type": "code",
      "metadata": {
        "id": "yYLvuN-vvsGI",
        "colab_type": "code",
        "colab": {
          "base_uri": "https://localhost:8080/",
          "height": 345
        },
        "outputId": "c9ae12c7-385f-4a39-9d1a-ad355692bca2"
      },
      "source": [
        "movie[['title','vote','weighted_vote','vote_count']].sort_values('vote', ascending=False)[:10]"
      ],
      "execution_count": 64,
      "outputs": [
        {
          "output_type": "execute_result",
          "data": {
            "text/html": [
              "<div>\n",
              "<style scoped>\n",
              "    .dataframe tbody tr th:only-of-type {\n",
              "        vertical-align: middle;\n",
              "    }\n",
              "\n",
              "    .dataframe tbody tr th {\n",
              "        vertical-align: top;\n",
              "    }\n",
              "\n",
              "    .dataframe thead th {\n",
              "        text-align: right;\n",
              "    }\n",
              "</style>\n",
              "<table border=\"1\" class=\"dataframe\">\n",
              "  <thead>\n",
              "    <tr style=\"text-align: right;\">\n",
              "      <th></th>\n",
              "      <th>title</th>\n",
              "      <th>vote</th>\n",
              "      <th>weighted_vote</th>\n",
              "      <th>vote_count</th>\n",
              "    </tr>\n",
              "  </thead>\n",
              "  <tbody>\n",
              "    <tr>\n",
              "      <th>101</th>\n",
              "      <td>러브 앳</td>\n",
              "      <td>10</td>\n",
              "      <td>8.479689</td>\n",
              "      <td>3</td>\n",
              "    </tr>\n",
              "    <tr>\n",
              "      <th>186</th>\n",
              "      <td>앨리스 죽이기</td>\n",
              "      <td>10</td>\n",
              "      <td>8.474854</td>\n",
              "      <td>2</td>\n",
              "    </tr>\n",
              "    <tr>\n",
              "      <th>262</th>\n",
              "      <td>체 게바라: 2부 게릴라</td>\n",
              "      <td>10</td>\n",
              "      <td>8.469987</td>\n",
              "      <td>1</td>\n",
              "    </tr>\n",
              "    <tr>\n",
              "      <th>224</th>\n",
              "      <td>집으로...</td>\n",
              "      <td>10</td>\n",
              "      <td>8.498729</td>\n",
              "      <td>7</td>\n",
              "    </tr>\n",
              "    <tr>\n",
              "      <th>273</th>\n",
              "      <td>쿵푸 보이</td>\n",
              "      <td>10</td>\n",
              "      <td>8.479689</td>\n",
              "      <td>3</td>\n",
              "    </tr>\n",
              "    <tr>\n",
              "      <th>194</th>\n",
              "      <td>발리: 천상의 울림</td>\n",
              "      <td>10</td>\n",
              "      <td>8.469987</td>\n",
              "      <td>1</td>\n",
              "    </tr>\n",
              "    <tr>\n",
              "      <th>287</th>\n",
              "      <td>너의 목소리</td>\n",
              "      <td>10</td>\n",
              "      <td>8.474854</td>\n",
              "      <td>2</td>\n",
              "    </tr>\n",
              "    <tr>\n",
              "      <th>260</th>\n",
              "      <td>퍼펙트 타겟</td>\n",
              "      <td>10</td>\n",
              "      <td>8.469987</td>\n",
              "      <td>1</td>\n",
              "    </tr>\n",
              "    <tr>\n",
              "      <th>191</th>\n",
              "      <td>물의 기억</td>\n",
              "      <td>10</td>\n",
              "      <td>8.479689</td>\n",
              "      <td>3</td>\n",
              "    </tr>\n",
              "    <tr>\n",
              "      <th>7</th>\n",
              "      <td>사선의 끝</td>\n",
              "      <td>10</td>\n",
              "      <td>8.474854</td>\n",
              "      <td>2</td>\n",
              "    </tr>\n",
              "  </tbody>\n",
              "</table>\n",
              "</div>"
            ],
            "text/plain": [
              "             title vote  weighted_vote vote_count\n",
              "101           러브 앳   10       8.479689          3\n",
              "186        앨리스 죽이기   10       8.474854          2\n",
              "262  체 게바라: 2부 게릴라   10       8.469987          1\n",
              "224         집으로...   10       8.498729          7\n",
              "273          쿵푸 보이   10       8.479689          3\n",
              "194     발리: 천상의 울림   10       8.469987          1\n",
              "287         너의 목소리   10       8.474854          2\n",
              "260         퍼펙트 타겟   10       8.469987          1\n",
              "191          물의 기억   10       8.479689          3\n",
              "7            사선의 끝   10       8.474854          2"
            ]
          },
          "metadata": {
            "tags": []
          },
          "execution_count": 64
        }
      ]
    },
    {
      "cell_type": "markdown",
      "metadata": {
        "id": "I8lGk19xv3Vx",
        "colab_type": "text"
      },
      "source": [
        "* 가중 평점을 적용한 Top 10"
      ]
    },
    {
      "cell_type": "code",
      "metadata": {
        "id": "rf9R5A70u7Y9",
        "colab_type": "code",
        "colab": {
          "base_uri": "https://localhost:8080/",
          "height": 345
        },
        "outputId": "5a207313-e646-4552-8799-e0df2e848e75"
      },
      "source": [
        "movie[['title','vote','weighted_vote','vote_count']].sort_values('weighted_vote', ascending=False)[:10]"
      ],
      "execution_count": 63,
      "outputs": [
        {
          "output_type": "execute_result",
          "data": {
            "text/html": [
              "<div>\n",
              "<style scoped>\n",
              "    .dataframe tbody tr th:only-of-type {\n",
              "        vertical-align: middle;\n",
              "    }\n",
              "\n",
              "    .dataframe tbody tr th {\n",
              "        vertical-align: top;\n",
              "    }\n",
              "\n",
              "    .dataframe thead th {\n",
              "        text-align: right;\n",
              "    }\n",
              "</style>\n",
              "<table border=\"1\" class=\"dataframe\">\n",
              "  <thead>\n",
              "    <tr style=\"text-align: right;\">\n",
              "      <th></th>\n",
              "      <th>title</th>\n",
              "      <th>vote</th>\n",
              "      <th>weighted_vote</th>\n",
              "      <th>vote_count</th>\n",
              "    </tr>\n",
              "  </thead>\n",
              "  <tbody>\n",
              "    <tr>\n",
              "      <th>326</th>\n",
              "      <td>어벤져스: 엔드게임</td>\n",
              "      <td>9.5</td>\n",
              "      <td>9.490055</td>\n",
              "      <td>32197</td>\n",
              "    </tr>\n",
              "    <tr>\n",
              "      <th>38</th>\n",
              "      <td>보헤미안 랩소디</td>\n",
              "      <td>9.45</td>\n",
              "      <td>9.427143</td>\n",
              "      <td>13149</td>\n",
              "    </tr>\n",
              "    <tr>\n",
              "      <th>34</th>\n",
              "      <td>그린 북</td>\n",
              "      <td>9.55</td>\n",
              "      <td>9.407857</td>\n",
              "      <td>2072</td>\n",
              "    </tr>\n",
              "    <tr>\n",
              "      <th>50</th>\n",
              "      <td>알라딘</td>\n",
              "      <td>9.42</td>\n",
              "      <td>9.386278</td>\n",
              "      <td>8534</td>\n",
              "    </tr>\n",
              "    <tr>\n",
              "      <th>37</th>\n",
              "      <td>가버나움</td>\n",
              "      <td>9.54</td>\n",
              "      <td>9.343210</td>\n",
              "      <td>1394</td>\n",
              "    </tr>\n",
              "    <tr>\n",
              "      <th>31</th>\n",
              "      <td>항거:유관순 이야기</td>\n",
              "      <td>9.39</td>\n",
              "      <td>9.254690</td>\n",
              "      <td>1823</td>\n",
              "    </tr>\n",
              "    <tr>\n",
              "      <th>231</th>\n",
              "      <td>스파이더맨: 뉴 유니버스</td>\n",
              "      <td>9.38</td>\n",
              "      <td>9.247210</td>\n",
              "      <td>1840</td>\n",
              "    </tr>\n",
              "    <tr>\n",
              "      <th>315</th>\n",
              "      <td>위대한 쇼맨</td>\n",
              "      <td>9.31</td>\n",
              "      <td>9.247131</td>\n",
              "      <td>3886</td>\n",
              "    </tr>\n",
              "    <tr>\n",
              "      <th>283</th>\n",
              "      <td>뽀로로 극장판 보물섬 대모험</td>\n",
              "      <td>9.35</td>\n",
              "      <td>9.223271</td>\n",
              "      <td>1869</td>\n",
              "    </tr>\n",
              "    <tr>\n",
              "      <th>217</th>\n",
              "      <td>극한직업</td>\n",
              "      <td>9.2</td>\n",
              "      <td>9.185950</td>\n",
              "      <td>16028</td>\n",
              "    </tr>\n",
              "  </tbody>\n",
              "</table>\n",
              "</div>"
            ],
            "text/plain": [
              "               title  vote  weighted_vote vote_count\n",
              "326       어벤져스: 엔드게임   9.5       9.490055      32197\n",
              "38          보헤미안 랩소디  9.45       9.427143      13149\n",
              "34              그린 북  9.55       9.407857       2072\n",
              "50               알라딘  9.42       9.386278       8534\n",
              "37              가버나움  9.54       9.343210       1394\n",
              "31        항거:유관순 이야기  9.39       9.254690       1823\n",
              "231    스파이더맨: 뉴 유니버스  9.38       9.247210       1840\n",
              "315           위대한 쇼맨  9.31       9.247131       3886\n",
              "283  뽀로로 극장판 보물섬 대모험  9.35       9.223271       1869\n",
              "217             극한직업   9.2       9.185950      16028"
            ]
          },
          "metadata": {
            "tags": []
          },
          "execution_count": 63
        }
      ]
    },
    {
      "cell_type": "code",
      "metadata": {
        "id": "flcsGIWOvlaF",
        "colab_type": "code",
        "colab": {
          "base_uri": "https://localhost:8080/",
          "height": 34
        },
        "outputId": "b5f185df-2fc6-4866-8fd0-64de80cb0eab"
      },
      "source": [
        "from sklearn.feature_extraction.text import CountVectorizer\n",
        "\n",
        "count_vect = CountVectorizer(min_df = 0, ngram_range=(1,2))\n",
        "summ_mat = count_vect.fit_transform(movie['summary_keyword'])\n",
        "print(summ_mat.shape)"
      ],
      "execution_count": 65,
      "outputs": [
        {
          "output_type": "stream",
          "text": [
            "(334, 9076)\n"
          ],
          "name": "stdout"
        }
      ]
    },
    {
      "cell_type": "code",
      "metadata": {
        "id": "NudErtZtwYye",
        "colab_type": "code",
        "colab": {}
      },
      "source": [
        "summ_sim = cosine_similarity(summ_mat, summ_mat)\n",
        "summ_sim_sorted_ind = summ_sim.argsort()[:,::-1] #유사도가 높은 순으로 정리된 summ_sim 객체의 비교 행 위치 값을 얻을 수 있습니다."
      ],
      "execution_count": 66,
      "outputs": []
    },
    {
      "cell_type": "markdown",
      "metadata": {
        "id": "L_h79wZWxIra",
        "colab_type": "text"
      },
      "source": [
        "추출해냈던 `summary_keywords`에 대해 코사인 유사도를 구하여 줄거리 키워드가 유사한 영화 상위 10개를 추천해보자"
      ]
    },
    {
      "cell_type": "code",
      "metadata": {
        "id": "jyYLPsVVwjpE",
        "colab_type": "code",
        "colab": {}
      },
      "source": [
        "def find_sim_movie(df, sorted_ind, title_name, top_n = 10):\n",
        "    # 인자로 입력된 df에서 'title' 칼럼이 입력된 title_name 값인 데이터프레임 추출\n",
        "    title_movie = df[df['title'] == title_name]\n",
        "\n",
        "    title_index = title_movie.index.values\n",
        "    similar_indexes = sorted_ind[title_index, :(top_n*2)]\n",
        "    similar_indexes = similar_indexes.reshape(-1) #1차원 array로 변경\n",
        "\n",
        "    similar_indexes = similar_indexes[similar_indexes != title_index]\n",
        "\n",
        "    return df.iloc[similar_indexes].sort_values('weighted_vote',ascending=False)[:top_n]"
      ],
      "execution_count": 71,
      "outputs": []
    },
    {
      "cell_type": "code",
      "metadata": {
        "id": "xua0LzvZwsLm",
        "colab_type": "code",
        "colab": {
          "base_uri": "https://localhost:8080/",
          "height": 345
        },
        "outputId": "88650d83-43a2-4033-fc1b-66a2ffcf6144"
      },
      "source": [
        "similar_movies = find_sim_movie(movie, summ_sim_sorted_ind, '어벤져스: 엔드게임', 10)\n",
        "similar_movies[['title','vote','weighted_vote']]"
      ],
      "execution_count": 72,
      "outputs": [
        {
          "output_type": "execute_result",
          "data": {
            "text/html": [
              "<div>\n",
              "<style scoped>\n",
              "    .dataframe tbody tr th:only-of-type {\n",
              "        vertical-align: middle;\n",
              "    }\n",
              "\n",
              "    .dataframe tbody tr th {\n",
              "        vertical-align: top;\n",
              "    }\n",
              "\n",
              "    .dataframe thead th {\n",
              "        text-align: right;\n",
              "    }\n",
              "</style>\n",
              "<table border=\"1\" class=\"dataframe\">\n",
              "  <thead>\n",
              "    <tr style=\"text-align: right;\">\n",
              "      <th></th>\n",
              "      <th>title</th>\n",
              "      <th>vote</th>\n",
              "      <th>weighted_vote</th>\n",
              "    </tr>\n",
              "  </thead>\n",
              "  <tbody>\n",
              "    <tr>\n",
              "      <th>140</th>\n",
              "      <td>드래곤 길들이기 3</td>\n",
              "      <td>9.26</td>\n",
              "      <td>9.142275</td>\n",
              "    </tr>\n",
              "    <tr>\n",
              "      <th>64</th>\n",
              "      <td>어벤져스: 인피니티 워</td>\n",
              "      <td>9.08</td>\n",
              "      <td>9.067383</td>\n",
              "    </tr>\n",
              "    <tr>\n",
              "      <th>297</th>\n",
              "      <td>언더독</td>\n",
              "      <td>9.47</td>\n",
              "      <td>9.006560</td>\n",
              "    </tr>\n",
              "    <tr>\n",
              "      <th>130</th>\n",
              "      <td>스파이더맨: 파 프롬 홈</td>\n",
              "      <td>8.99</td>\n",
              "      <td>8.957160</td>\n",
              "    </tr>\n",
              "    <tr>\n",
              "      <th>25</th>\n",
              "      <td>호텔 뭄바이</td>\n",
              "      <td>9.09</td>\n",
              "      <td>8.645708</td>\n",
              "    </tr>\n",
              "    <tr>\n",
              "      <th>240</th>\n",
              "      <td>다크 나이트</td>\n",
              "      <td>9.65</td>\n",
              "      <td>8.617171</td>\n",
              "    </tr>\n",
              "    <tr>\n",
              "      <th>158</th>\n",
              "      <td>존 윅 3: 파라벨룸</td>\n",
              "      <td>8.64</td>\n",
              "      <td>8.604711</td>\n",
              "    </tr>\n",
              "    <tr>\n",
              "      <th>323</th>\n",
              "      <td>터미네이터: 다크 페이트</td>\n",
              "      <td>8.56</td>\n",
              "      <td>8.543801</td>\n",
              "    </tr>\n",
              "    <tr>\n",
              "      <th>63</th>\n",
              "      <td>판의 미로 - 오필리아와 세 개의 열쇠</td>\n",
              "      <td>9.13</td>\n",
              "      <td>8.540562</td>\n",
              "    </tr>\n",
              "    <tr>\n",
              "      <th>306</th>\n",
              "      <td>악인전</td>\n",
              "      <td>8.55</td>\n",
              "      <td>8.539018</td>\n",
              "    </tr>\n",
              "  </tbody>\n",
              "</table>\n",
              "</div>"
            ],
            "text/plain": [
              "                     title  vote  weighted_vote\n",
              "140             드래곤 길들이기 3  9.26       9.142275\n",
              "64            어벤져스: 인피니티 워  9.08       9.067383\n",
              "297                    언더독  9.47       9.006560\n",
              "130          스파이더맨: 파 프롬 홈  8.99       8.957160\n",
              "25                  호텔 뭄바이  9.09       8.645708\n",
              "240                 다크 나이트  9.65       8.617171\n",
              "158            존 윅 3: 파라벨룸  8.64       8.604711\n",
              "323          터미네이터: 다크 페이트  8.56       8.543801\n",
              "63   판의 미로 - 오필리아와 세 개의 열쇠  9.13       8.540562\n",
              "306                    악인전  8.55       8.539018"
            ]
          },
          "metadata": {
            "tags": []
          },
          "execution_count": 72
        }
      ]
    },
    {
      "cell_type": "code",
      "metadata": {
        "id": "fvw51pCrw2Fx",
        "colab_type": "code",
        "colab": {
          "base_uri": "https://localhost:8080/",
          "height": 345
        },
        "outputId": "d1b8a231-fee7-4161-f8fc-74059f4b0a81"
      },
      "source": [
        "similar_movies = find_sim_movie(movie, summ_sim_sorted_ind, '보헤미안 랩소디', 10)\n",
        "similar_movies[['title','vote','weighted_vote']]"
      ],
      "execution_count": 73,
      "outputs": [
        {
          "output_type": "execute_result",
          "data": {
            "text/html": [
              "<div>\n",
              "<style scoped>\n",
              "    .dataframe tbody tr th:only-of-type {\n",
              "        vertical-align: middle;\n",
              "    }\n",
              "\n",
              "    .dataframe tbody tr th {\n",
              "        vertical-align: top;\n",
              "    }\n",
              "\n",
              "    .dataframe thead th {\n",
              "        text-align: right;\n",
              "    }\n",
              "</style>\n",
              "<table border=\"1\" class=\"dataframe\">\n",
              "  <thead>\n",
              "    <tr style=\"text-align: right;\">\n",
              "      <th></th>\n",
              "      <th>title</th>\n",
              "      <th>vote</th>\n",
              "      <th>weighted_vote</th>\n",
              "    </tr>\n",
              "  </thead>\n",
              "  <tbody>\n",
              "    <tr>\n",
              "      <th>59</th>\n",
              "      <td>토이 스토리 4</td>\n",
              "      <td>9.23</td>\n",
              "      <td>9.151042</td>\n",
              "    </tr>\n",
              "    <tr>\n",
              "      <th>16</th>\n",
              "      <td>기생충</td>\n",
              "      <td>9.07</td>\n",
              "      <td>9.047028</td>\n",
              "    </tr>\n",
              "    <tr>\n",
              "      <th>130</th>\n",
              "      <td>스파이더맨: 파 프롬 홈</td>\n",
              "      <td>8.99</td>\n",
              "      <td>8.957160</td>\n",
              "    </tr>\n",
              "    <tr>\n",
              "      <th>181</th>\n",
              "      <td>김복동</td>\n",
              "      <td>9.84</td>\n",
              "      <td>8.949615</td>\n",
              "    </tr>\n",
              "    <tr>\n",
              "      <th>6</th>\n",
              "      <td>조커</td>\n",
              "      <td>8.97</td>\n",
              "      <td>8.936907</td>\n",
              "    </tr>\n",
              "    <tr>\n",
              "      <th>205</th>\n",
              "      <td>어른이 되면</td>\n",
              "      <td>9.74</td>\n",
              "      <td>8.794860</td>\n",
              "    </tr>\n",
              "    <tr>\n",
              "      <th>298</th>\n",
              "      <td>신의 한 수: 귀수편</td>\n",
              "      <td>8.69</td>\n",
              "      <td>8.646826</td>\n",
              "    </tr>\n",
              "    <tr>\n",
              "      <th>18</th>\n",
              "      <td>라이온 킹</td>\n",
              "      <td>8.64</td>\n",
              "      <td>8.622500</td>\n",
              "    </tr>\n",
              "    <tr>\n",
              "      <th>120</th>\n",
              "      <td>로망</td>\n",
              "      <td>8.98</td>\n",
              "      <td>8.573177</td>\n",
              "    </tr>\n",
              "    <tr>\n",
              "      <th>323</th>\n",
              "      <td>터미네이터: 다크 페이트</td>\n",
              "      <td>8.56</td>\n",
              "      <td>8.543801</td>\n",
              "    </tr>\n",
              "  </tbody>\n",
              "</table>\n",
              "</div>"
            ],
            "text/plain": [
              "             title  vote  weighted_vote\n",
              "59        토이 스토리 4  9.23       9.151042\n",
              "16             기생충  9.07       9.047028\n",
              "130  스파이더맨: 파 프롬 홈  8.99       8.957160\n",
              "181            김복동  9.84       8.949615\n",
              "6               조커  8.97       8.936907\n",
              "205         어른이 되면  9.74       8.794860\n",
              "298    신의 한 수: 귀수편  8.69       8.646826\n",
              "18           라이온 킹  8.64       8.622500\n",
              "120             로망  8.98       8.573177\n",
              "323  터미네이터: 다크 페이트  8.56       8.543801"
            ]
          },
          "metadata": {
            "tags": []
          },
          "execution_count": 73
        }
      ]
    },
    {
      "cell_type": "markdown",
      "metadata": {
        "id": "HHOkfX1kxAPy",
        "colab_type": "text"
      },
      "source": [
        "어벤져스를 시도했을 땐 나름 유사한 영화들이 추천되는 것처럼 보이지만, 보헤미안 랩소디로 해 보았을 때엔 *토이 스토리 4, 기생충, 김복동* 등 전혀 관련없어보이는 영화들이 추천된다."
      ]
    },
    {
      "cell_type": "code",
      "metadata": {
        "id": "Cqv4P9apw_AA",
        "colab_type": "code",
        "colab": {
          "base_uri": "https://localhost:8080/",
          "height": 94
        },
        "outputId": "45475944-ab8d-46ba-b630-c295e85d9a70"
      },
      "source": [
        "movie[movie['title'] == '토이 스토리 4']"
      ],
      "execution_count": 76,
      "outputs": [
        {
          "output_type": "execute_result",
          "data": {
            "text/html": [
              "<div>\n",
              "<style scoped>\n",
              "    .dataframe tbody tr th:only-of-type {\n",
              "        vertical-align: middle;\n",
              "    }\n",
              "\n",
              "    .dataframe tbody tr th {\n",
              "        vertical-align: top;\n",
              "    }\n",
              "\n",
              "    .dataframe thead th {\n",
              "        text-align: right;\n",
              "    }\n",
              "</style>\n",
              "<table border=\"1\" class=\"dataframe\">\n",
              "  <thead>\n",
              "    <tr style=\"text-align: right;\">\n",
              "      <th></th>\n",
              "      <th>title</th>\n",
              "      <th>genre</th>\n",
              "      <th>vote</th>\n",
              "      <th>cast</th>\n",
              "      <th>summary</th>\n",
              "      <th>vote_count</th>\n",
              "      <th>image</th>\n",
              "      <th>summary_keyword</th>\n",
              "      <th>weighted_vote</th>\n",
              "    </tr>\n",
              "  </thead>\n",
              "  <tbody>\n",
              "    <tr>\n",
              "      <th>59</th>\n",
              "      <td>토이 스토리 4</td>\n",
              "      <td>애니메이션</td>\n",
              "      <td>9.23</td>\n",
              "      <td>['톰 행크스', '팀 알렌', '애니 파츠']</td>\n",
              "      <td>우리의 여행은 아직 끝나지 않았다!</td>\n",
              "      <td>2714</td>\n",
              "      <td>https://movie-phinf.pstatic.net/20190611_117/1...</td>\n",
              "      <td>여행 끝나다 우리 아직 않다</td>\n",
              "      <td>9.151042</td>\n",
              "    </tr>\n",
              "  </tbody>\n",
              "</table>\n",
              "</div>"
            ],
            "text/plain": [
              "       title  genre  ...  summary_keyword weighted_vote\n",
              "59  토이 스토리 4  애니메이션  ...  여행 끝나다 우리 아직 않다      9.151042\n",
              "\n",
              "[1 rows x 9 columns]"
            ]
          },
          "metadata": {
            "tags": []
          },
          "execution_count": 76
        }
      ]
    },
    {
      "cell_type": "code",
      "metadata": {
        "id": "oTqTx_O-xyae",
        "colab_type": "code",
        "colab": {
          "base_uri": "https://localhost:8080/",
          "height": 94
        },
        "outputId": "02de361e-8e4c-4000-b149-111dcc62d271"
      },
      "source": [
        "movie[movie['title'] == '보헤미안 랩소디']"
      ],
      "execution_count": 77,
      "outputs": [
        {
          "output_type": "execute_result",
          "data": {
            "text/html": [
              "<div>\n",
              "<style scoped>\n",
              "    .dataframe tbody tr th:only-of-type {\n",
              "        vertical-align: middle;\n",
              "    }\n",
              "\n",
              "    .dataframe tbody tr th {\n",
              "        vertical-align: top;\n",
              "    }\n",
              "\n",
              "    .dataframe thead th {\n",
              "        text-align: right;\n",
              "    }\n",
              "</style>\n",
              "<table border=\"1\" class=\"dataframe\">\n",
              "  <thead>\n",
              "    <tr style=\"text-align: right;\">\n",
              "      <th></th>\n",
              "      <th>title</th>\n",
              "      <th>genre</th>\n",
              "      <th>vote</th>\n",
              "      <th>cast</th>\n",
              "      <th>summary</th>\n",
              "      <th>vote_count</th>\n",
              "      <th>image</th>\n",
              "      <th>summary_keyword</th>\n",
              "      <th>weighted_vote</th>\n",
              "    </tr>\n",
              "  </thead>\n",
              "  <tbody>\n",
              "    <tr>\n",
              "      <th>38</th>\n",
              "      <td>보헤미안 랩소디</td>\n",
              "      <td>드라마</td>\n",
              "      <td>9.45</td>\n",
              "      <td>['라미 말렉', '루시 보인턴', '귈림 리']</td>\n",
              "      <td>“나는 스타가 되지 않을 것이다, 전설이 될 것이다”</td>\n",
              "      <td>13149</td>\n",
              "      <td>https://movie-phinf.pstatic.net/20181213_264/1...</td>\n",
              "      <td>것 되다 전설 이다 나 스타 않다</td>\n",
              "      <td>9.427143</td>\n",
              "    </tr>\n",
              "  </tbody>\n",
              "</table>\n",
              "</div>"
            ],
            "text/plain": [
              "       title genre  ...     summary_keyword weighted_vote\n",
              "38  보헤미안 랩소디   드라마  ...  것 되다 전설 이다 나 스타 않다      9.427143\n",
              "\n",
              "[1 rows x 9 columns]"
            ]
          },
          "metadata": {
            "tags": []
          },
          "execution_count": 77
        }
      ]
    },
    {
      "cell_type": "code",
      "metadata": {
        "id": "PKFWhgXqyPR0",
        "colab_type": "code",
        "colab": {
          "base_uri": "https://localhost:8080/",
          "height": 77
        },
        "outputId": "7b6b8897-b876-4dbc-a508-0f683a1239e4"
      },
      "source": [
        "movie[movie['title']=='기생충']"
      ],
      "execution_count": 78,
      "outputs": [
        {
          "output_type": "execute_result",
          "data": {
            "text/html": [
              "<div>\n",
              "<style scoped>\n",
              "    .dataframe tbody tr th:only-of-type {\n",
              "        vertical-align: middle;\n",
              "    }\n",
              "\n",
              "    .dataframe tbody tr th {\n",
              "        vertical-align: top;\n",
              "    }\n",
              "\n",
              "    .dataframe thead th {\n",
              "        text-align: right;\n",
              "    }\n",
              "</style>\n",
              "<table border=\"1\" class=\"dataframe\">\n",
              "  <thead>\n",
              "    <tr style=\"text-align: right;\">\n",
              "      <th></th>\n",
              "      <th>title</th>\n",
              "      <th>genre</th>\n",
              "      <th>vote</th>\n",
              "      <th>cast</th>\n",
              "      <th>summary</th>\n",
              "      <th>vote_count</th>\n",
              "      <th>image</th>\n",
              "      <th>summary_keyword</th>\n",
              "      <th>weighted_vote</th>\n",
              "    </tr>\n",
              "  </thead>\n",
              "  <tbody>\n",
              "    <tr>\n",
              "      <th>16</th>\n",
              "      <td>기생충</td>\n",
              "      <td>드라마</td>\n",
              "      <td>9.07</td>\n",
              "      <td>['송강호', '이선균', '조여정']</td>\n",
              "      <td>“폐 끼치고 싶진 않았어요”</td>\n",
              "      <td>7914</td>\n",
              "      <td>https://movie-phinf.pstatic.net/20190528_36/15...</td>\n",
              "      <td>폐 치고 끼 싶다 않다</td>\n",
              "      <td>9.047028</td>\n",
              "    </tr>\n",
              "  </tbody>\n",
              "</table>\n",
              "</div>"
            ],
            "text/plain": [
              "   title genre  ... summary_keyword weighted_vote\n",
              "16   기생충   드라마  ...    폐 치고 끼 싶다 않다      9.047028\n",
              "\n",
              "[1 rows x 9 columns]"
            ]
          },
          "metadata": {
            "tags": []
          },
          "execution_count": 78
        }
      ]
    },
    {
      "cell_type": "markdown",
      "metadata": {
        "id": "t2TNaLdEyZlK",
        "colab_type": "text"
      },
      "source": [
        "토이스토리4와 기생충의 `summary_keywords`로 확인해 본 결과, `않다` 를 모두 포함하고 있기 때문에 `summary_keywords`에서 다른 것들에 비해 유사하다는 결과를 얻었을 것이라고 예상된다. 이는 원하는 추천 알고리즘에 적합하지 않다.\n",
        "\n",
        "또한 여기까지 진행하면서, 줄거리의 타이틀만 따오고 exception이 발생하면 전체 내용을 따오는 방식을 -> 줄거리의 타이틀이 존재하면 타이틀**도** 따오고, 거기에 줄거리의 전체 내용을 더하는 방식으로 변경해서 재크롤링해야겠다는 생각이 들었다."
      ]
    }
  ]
}